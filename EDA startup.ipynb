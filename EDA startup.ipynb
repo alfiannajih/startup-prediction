{
 "cells": [
  {
   "cell_type": "markdown",
   "id": "c042e764",
   "metadata": {},
   "source": [
    "## Import Data and Library"
   ]
  },
  {
   "cell_type": "markdown",
   "id": "4027aee8",
   "metadata": {},
   "source": [
    "### Import Library"
   ]
  },
  {
   "cell_type": "code",
   "execution_count": 1,
   "id": "dbade534",
   "metadata": {},
   "outputs": [],
   "source": [
    "import numpy as np\n",
    "import pandas as pd\n",
    "import seaborn as sns\n",
    "from matplotlib import pyplot as plt\n",
    "from zipfile import ZipFile"
   ]
  },
  {
   "cell_type": "markdown",
   "id": "cb53ab33",
   "metadata": {},
   "source": [
    "### Import Data"
   ]
  },
  {
   "cell_type": "code",
   "execution_count": 19,
   "id": "0f349d22",
   "metadata": {},
   "outputs": [],
   "source": [
    "with ZipFile('big-startup-secsees-fail-dataset-from-crunchbase.zip') as raw_zip:\n",
    "    raw_zip.extractall(path='datasets')\n",
    "    \n",
    "    raw_data = pd.read_csv('datasets/big_startup_secsees_dataset.csv')"
   ]
  },
  {
   "cell_type": "code",
   "execution_count": 20,
   "id": "e8c7294f",
   "metadata": {},
   "outputs": [
    {
     "data": {
      "text/html": [
       "<div>\n",
       "<style scoped>\n",
       "    .dataframe tbody tr th:only-of-type {\n",
       "        vertical-align: middle;\n",
       "    }\n",
       "\n",
       "    .dataframe tbody tr th {\n",
       "        vertical-align: top;\n",
       "    }\n",
       "\n",
       "    .dataframe thead th {\n",
       "        text-align: right;\n",
       "    }\n",
       "</style>\n",
       "<table border=\"1\" class=\"dataframe\">\n",
       "  <thead>\n",
       "    <tr style=\"text-align: right;\">\n",
       "      <th></th>\n",
       "      <th>permalink</th>\n",
       "      <th>name</th>\n",
       "      <th>homepage_url</th>\n",
       "      <th>category_list</th>\n",
       "      <th>funding_total_usd</th>\n",
       "      <th>status</th>\n",
       "      <th>country_code</th>\n",
       "      <th>state_code</th>\n",
       "      <th>region</th>\n",
       "      <th>city</th>\n",
       "      <th>funding_rounds</th>\n",
       "      <th>founded_at</th>\n",
       "      <th>first_funding_at</th>\n",
       "      <th>last_funding_at</th>\n",
       "    </tr>\n",
       "  </thead>\n",
       "  <tbody>\n",
       "    <tr>\n",
       "      <th>0</th>\n",
       "      <td>/organization/-fame</td>\n",
       "      <td>#fame</td>\n",
       "      <td>http://livfame.com</td>\n",
       "      <td>Media</td>\n",
       "      <td>10000000</td>\n",
       "      <td>operating</td>\n",
       "      <td>IND</td>\n",
       "      <td>16</td>\n",
       "      <td>Mumbai</td>\n",
       "      <td>Mumbai</td>\n",
       "      <td>1</td>\n",
       "      <td>NaN</td>\n",
       "      <td>2015-01-05</td>\n",
       "      <td>2015-01-05</td>\n",
       "    </tr>\n",
       "    <tr>\n",
       "      <th>1</th>\n",
       "      <td>/organization/-qounter</td>\n",
       "      <td>:Qounter</td>\n",
       "      <td>http://www.qounter.com</td>\n",
       "      <td>Application Platforms|Real Time|Social Network...</td>\n",
       "      <td>700000</td>\n",
       "      <td>operating</td>\n",
       "      <td>USA</td>\n",
       "      <td>DE</td>\n",
       "      <td>DE - Other</td>\n",
       "      <td>Delaware City</td>\n",
       "      <td>2</td>\n",
       "      <td>2014-09-04</td>\n",
       "      <td>2014-03-01</td>\n",
       "      <td>2014-10-14</td>\n",
       "    </tr>\n",
       "    <tr>\n",
       "      <th>2</th>\n",
       "      <td>/organization/-the-one-of-them-inc-</td>\n",
       "      <td>(THE) ONE of THEM,Inc.</td>\n",
       "      <td>http://oneofthem.jp</td>\n",
       "      <td>Apps|Games|Mobile</td>\n",
       "      <td>3406878</td>\n",
       "      <td>operating</td>\n",
       "      <td>NaN</td>\n",
       "      <td>NaN</td>\n",
       "      <td>NaN</td>\n",
       "      <td>NaN</td>\n",
       "      <td>1</td>\n",
       "      <td>NaN</td>\n",
       "      <td>2014-01-30</td>\n",
       "      <td>2014-01-30</td>\n",
       "    </tr>\n",
       "    <tr>\n",
       "      <th>3</th>\n",
       "      <td>/organization/0-6-com</td>\n",
       "      <td>0-6.com</td>\n",
       "      <td>http://www.0-6.com</td>\n",
       "      <td>Curated Web</td>\n",
       "      <td>2000000</td>\n",
       "      <td>operating</td>\n",
       "      <td>CHN</td>\n",
       "      <td>22</td>\n",
       "      <td>Beijing</td>\n",
       "      <td>Beijing</td>\n",
       "      <td>1</td>\n",
       "      <td>2007-01-01</td>\n",
       "      <td>2008-03-19</td>\n",
       "      <td>2008-03-19</td>\n",
       "    </tr>\n",
       "    <tr>\n",
       "      <th>4</th>\n",
       "      <td>/organization/004-technologies</td>\n",
       "      <td>004 Technologies</td>\n",
       "      <td>http://004gmbh.de/en/004-interact</td>\n",
       "      <td>Software</td>\n",
       "      <td>-</td>\n",
       "      <td>operating</td>\n",
       "      <td>USA</td>\n",
       "      <td>IL</td>\n",
       "      <td>Springfield, Illinois</td>\n",
       "      <td>Champaign</td>\n",
       "      <td>1</td>\n",
       "      <td>2010-01-01</td>\n",
       "      <td>2014-07-24</td>\n",
       "      <td>2014-07-24</td>\n",
       "    </tr>\n",
       "  </tbody>\n",
       "</table>\n",
       "</div>"
      ],
      "text/plain": [
       "                             permalink                    name  \\\n",
       "0                  /organization/-fame                   #fame   \n",
       "1               /organization/-qounter                :Qounter   \n",
       "2  /organization/-the-one-of-them-inc-  (THE) ONE of THEM,Inc.   \n",
       "3                /organization/0-6-com                 0-6.com   \n",
       "4       /organization/004-technologies        004 Technologies   \n",
       "\n",
       "                        homepage_url  \\\n",
       "0                 http://livfame.com   \n",
       "1             http://www.qounter.com   \n",
       "2                http://oneofthem.jp   \n",
       "3                 http://www.0-6.com   \n",
       "4  http://004gmbh.de/en/004-interact   \n",
       "\n",
       "                                       category_list funding_total_usd  \\\n",
       "0                                              Media          10000000   \n",
       "1  Application Platforms|Real Time|Social Network...            700000   \n",
       "2                                  Apps|Games|Mobile           3406878   \n",
       "3                                        Curated Web           2000000   \n",
       "4                                           Software                 -   \n",
       "\n",
       "      status country_code state_code                 region           city  \\\n",
       "0  operating          IND         16                 Mumbai         Mumbai   \n",
       "1  operating          USA         DE             DE - Other  Delaware City   \n",
       "2  operating          NaN        NaN                    NaN            NaN   \n",
       "3  operating          CHN         22                Beijing        Beijing   \n",
       "4  operating          USA         IL  Springfield, Illinois      Champaign   \n",
       "\n",
       "   funding_rounds  founded_at first_funding_at last_funding_at  \n",
       "0               1         NaN       2015-01-05      2015-01-05  \n",
       "1               2  2014-09-04       2014-03-01      2014-10-14  \n",
       "2               1         NaN       2014-01-30      2014-01-30  \n",
       "3               1  2007-01-01       2008-03-19      2008-03-19  \n",
       "4               1  2010-01-01       2014-07-24      2014-07-24  "
      ]
     },
     "execution_count": 20,
     "metadata": {},
     "output_type": "execute_result"
    }
   ],
   "source": [
    "raw_data.head()"
   ]
  },
  {
   "cell_type": "markdown",
   "id": "ed2c18d9",
   "metadata": {},
   "source": [
    "## Data Inspection"
   ]
  },
  {
   "cell_type": "markdown",
   "id": "f1874f2e",
   "metadata": {},
   "source": [
    "### Total Amount of Rows and Columns"
   ]
  },
  {
   "cell_type": "code",
   "execution_count": 4,
   "id": "b8e520ec",
   "metadata": {},
   "outputs": [
    {
     "data": {
      "text/plain": [
       "(66368, 14)"
      ]
     },
     "execution_count": 4,
     "metadata": {},
     "output_type": "execute_result"
    }
   ],
   "source": [
    "raw_data.shape"
   ]
  },
  {
   "cell_type": "markdown",
   "id": "583e384d",
   "metadata": {},
   "source": [
    "### Data Fields"
   ]
  },
  {
   "cell_type": "code",
   "execution_count": 5,
   "id": "2d83469e",
   "metadata": {},
   "outputs": [
    {
     "data": {
      "text/plain": [
       "Index(['permalink', 'name', 'homepage_url', 'category_list',\n",
       "       'funding_total_usd', 'status', 'country_code', 'state_code', 'region',\n",
       "       'city', 'funding_rounds', 'founded_at', 'first_funding_at',\n",
       "       'last_funding_at'],\n",
       "      dtype='object')"
      ]
     },
     "execution_count": 5,
     "metadata": {},
     "output_type": "execute_result"
    }
   ],
   "source": [
    "raw_data.columns"
   ]
  },
  {
   "cell_type": "markdown",
   "id": "142ca4a2",
   "metadata": {},
   "source": [
    "#### Data Fields Information\n",
    "1. permalink: Link to Organization\n",
    "2. name: Company Name\n",
    "3. homepage_url: Startup Site\n",
    "4. category_list: Field of company\n",
    "5. funding_total_usd: Total Funding in USD\n",
    "6. status: Operating Status\n",
    "7. country_code: Country Code\n",
    "8. state_code: State Code of company location\n",
    "9. region: Region of company location\n",
    "10. city: Cit of company location\n",
    "11. funding_rounds: the number of times a startup opts to raise capital from the market.\n",
    "12. founded_at: the date when the startup is founded\n",
    "13. first_funding_at: the date when the startup get first funding\n",
    "14. last_funding_at: the date when the startup get last funding"
   ]
  },
  {
   "cell_type": "markdown",
   "id": "275582df",
   "metadata": {},
   "source": [
    "### Check Duplicate Startup Name"
   ]
  },
  {
   "cell_type": "code",
   "execution_count": 6,
   "id": "82d45e36",
   "metadata": {},
   "outputs": [
    {
     "data": {
      "text/plain": [
       "Blink     4\n",
       "Peach     4\n",
       "Spire     4\n",
       "Roost     4\n",
       "Karma     4\n",
       "         ..\n",
       "Stream    2\n",
       "Shift     2\n",
       "Splore    2\n",
       "Euclid    2\n",
       "Weave     2\n",
       "Name: name, Length: 239, dtype: int64"
      ]
     },
     "execution_count": 6,
     "metadata": {},
     "output_type": "execute_result"
    }
   ],
   "source": [
    "check_name = raw_data['name'].value_counts()\n",
    "\n",
    "check_name[check_name > 1]"
   ]
  },
  {
   "cell_type": "markdown",
   "id": "be7362c6",
   "metadata": {},
   "source": [
    "There are 239 duplicated startup name, lets check wheter the startup has the same name or the data is just duplicated by checking the permalink column."
   ]
  },
  {
   "cell_type": "code",
   "execution_count": 7,
   "id": "44d7541e",
   "metadata": {},
   "outputs": [
    {
     "data": {
      "text/html": [
       "<div>\n",
       "<style scoped>\n",
       "    .dataframe tbody tr th:only-of-type {\n",
       "        vertical-align: middle;\n",
       "    }\n",
       "\n",
       "    .dataframe tbody tr th {\n",
       "        vertical-align: top;\n",
       "    }\n",
       "\n",
       "    .dataframe thead th {\n",
       "        text-align: right;\n",
       "    }\n",
       "</style>\n",
       "<table border=\"1\" class=\"dataframe\">\n",
       "  <thead>\n",
       "    <tr style=\"text-align: right;\">\n",
       "      <th></th>\n",
       "      <th>permalink</th>\n",
       "      <th>name</th>\n",
       "    </tr>\n",
       "  </thead>\n",
       "  <tbody>\n",
       "    <tr>\n",
       "      <th>281</th>\n",
       "      <td>/organization/3divaz-2</td>\n",
       "      <td>3DIVAZ</td>\n",
       "    </tr>\n",
       "    <tr>\n",
       "      <th>282</th>\n",
       "      <td>/organization/3divaz-3</td>\n",
       "      <td>3DIVAZ</td>\n",
       "    </tr>\n",
       "    <tr>\n",
       "      <th>1526</th>\n",
       "      <td>/organization/adtena</td>\n",
       "      <td>Adtena</td>\n",
       "    </tr>\n",
       "    <tr>\n",
       "      <th>1527</th>\n",
       "      <td>/organization/adtena-2</td>\n",
       "      <td>Adtena</td>\n",
       "    </tr>\n",
       "    <tr>\n",
       "      <th>1995</th>\n",
       "      <td>/organization/agora-3</td>\n",
       "      <td>Agora</td>\n",
       "    </tr>\n",
       "    <tr>\n",
       "      <th>...</th>\n",
       "      <td>...</td>\n",
       "      <td>...</td>\n",
       "    </tr>\n",
       "    <tr>\n",
       "      <th>65799</th>\n",
       "      <td>/organization/zenpayroll</td>\n",
       "      <td>Gusto</td>\n",
       "    </tr>\n",
       "    <tr>\n",
       "      <th>65897</th>\n",
       "      <td>/organization/zesty</td>\n",
       "      <td>Zesty</td>\n",
       "    </tr>\n",
       "    <tr>\n",
       "      <th>65899</th>\n",
       "      <td>/organization/zestyapp</td>\n",
       "      <td>Zesty</td>\n",
       "    </tr>\n",
       "    <tr>\n",
       "      <th>66028</th>\n",
       "      <td>/organization/zingbox</td>\n",
       "      <td>ZingBox</td>\n",
       "    </tr>\n",
       "    <tr>\n",
       "      <th>66029</th>\n",
       "      <td>/organization/zingbox-2</td>\n",
       "      <td>ZingBox</td>\n",
       "    </tr>\n",
       "  </tbody>\n",
       "</table>\n",
       "<p>502 rows × 2 columns</p>\n",
       "</div>"
      ],
      "text/plain": [
       "                      permalink     name\n",
       "281      /organization/3divaz-2   3DIVAZ\n",
       "282      /organization/3divaz-3   3DIVAZ\n",
       "1526       /organization/adtena   Adtena\n",
       "1527     /organization/adtena-2   Adtena\n",
       "1995      /organization/agora-3    Agora\n",
       "...                         ...      ...\n",
       "65799  /organization/zenpayroll    Gusto\n",
       "65897       /organization/zesty    Zesty\n",
       "65899    /organization/zestyapp    Zesty\n",
       "66028     /organization/zingbox  ZingBox\n",
       "66029   /organization/zingbox-2  ZingBox\n",
       "\n",
       "[502 rows x 2 columns]"
      ]
     },
     "execution_count": 7,
     "metadata": {},
     "output_type": "execute_result"
    }
   ],
   "source": [
    "duplicate_name = check_name[check_name > 1].index\n",
    "\n",
    "duplicate_inspect = raw_data[raw_data['name'].str.fullmatch('|'.join(duplicate_name)) == True]\n",
    "\n",
    "duplicate_inspect[['permalink', 'name']]"
   ]
  },
  {
   "cell_type": "markdown",
   "id": "d7e8e5a2",
   "metadata": {},
   "source": [
    "Lets check the uniqueness of permalink column."
   ]
  },
  {
   "cell_type": "code",
   "execution_count": 8,
   "id": "36b7de3e",
   "metadata": {},
   "outputs": [
    {
     "data": {
      "text/plain": [
       "permalink    502\n",
       "name         238\n",
       "dtype: int64"
      ]
     },
     "execution_count": 8,
     "metadata": {},
     "output_type": "execute_result"
    }
   ],
   "source": [
    "duplicate_inspect[['permalink', 'name']].nunique()"
   ]
  },
  {
   "cell_type": "markdown",
   "id": "2959a3bb",
   "metadata": {},
   "source": [
    "The permalink is unique! However, one thing that bother me is that some of the duplicated startup name have similiar permalink, for example '3DIVAZ' startup have permalink '/organization/3divaz-2' and '/organization/3divaz-3', it could be that the data was inputed two times and the permalink is set to unique in the beginning, hence it automatically iterate the permalink name if the input data is same. But it is just speculation, we don't have enough information about the data. So for now lets assume these startup coincidentally have the same name."
   ]
  },
  {
   "cell_type": "markdown",
   "id": "a61af9df",
   "metadata": {},
   "source": [
    "### Check Data Types"
   ]
  },
  {
   "cell_type": "code",
   "execution_count": 9,
   "id": "a211c42e",
   "metadata": {
    "scrolled": false
   },
   "outputs": [
    {
     "name": "stdout",
     "output_type": "stream",
     "text": [
      "<class 'pandas.core.frame.DataFrame'>\n",
      "RangeIndex: 66368 entries, 0 to 66367\n",
      "Data columns (total 14 columns):\n",
      " #   Column             Non-Null Count  Dtype \n",
      "---  ------             --------------  ----- \n",
      " 0   permalink          66368 non-null  object\n",
      " 1   name               66367 non-null  object\n",
      " 2   homepage_url       61310 non-null  object\n",
      " 3   category_list      63220 non-null  object\n",
      " 4   funding_total_usd  66368 non-null  object\n",
      " 5   status             66368 non-null  object\n",
      " 6   country_code       59410 non-null  object\n",
      " 7   state_code         57821 non-null  object\n",
      " 8   region             58338 non-null  object\n",
      " 9   city               58340 non-null  object\n",
      " 10  funding_rounds     66368 non-null  int64 \n",
      " 11  founded_at         51147 non-null  object\n",
      " 12  first_funding_at   66344 non-null  object\n",
      " 13  last_funding_at    66368 non-null  object\n",
      "dtypes: int64(1), object(13)\n",
      "memory usage: 7.1+ MB\n"
     ]
    }
   ],
   "source": [
    "raw_data.info()"
   ]
  },
  {
   "cell_type": "markdown",
   "id": "7432c335",
   "metadata": {},
   "source": [
    "The funding_total_usd data type is wrong, it should be float. Lets check how many data that have '-' element."
   ]
  },
  {
   "cell_type": "code",
   "execution_count": 36,
   "id": "be06ecac",
   "metadata": {},
   "outputs": [
    {
     "data": {
      "text/plain": [
       "False    53583\n",
       "True     12785\n",
       "Name: funding_total_usd, dtype: int64"
      ]
     },
     "execution_count": 36,
     "metadata": {},
     "output_type": "execute_result"
    }
   ],
   "source": [
    "(raw_data['funding_total_usd'] == '-').value_counts()"
   ]
  },
  {
   "cell_type": "code",
   "execution_count": 37,
   "id": "8a298e0a",
   "metadata": {
    "scrolled": true
   },
   "outputs": [
    {
     "data": {
      "text/html": [
       "<div>\n",
       "<style scoped>\n",
       "    .dataframe tbody tr th:only-of-type {\n",
       "        vertical-align: middle;\n",
       "    }\n",
       "\n",
       "    .dataframe tbody tr th {\n",
       "        vertical-align: top;\n",
       "    }\n",
       "\n",
       "    .dataframe thead th {\n",
       "        text-align: right;\n",
       "    }\n",
       "</style>\n",
       "<table border=\"1\" class=\"dataframe\">\n",
       "  <thead>\n",
       "    <tr style=\"text-align: right;\">\n",
       "      <th></th>\n",
       "      <th>permalink</th>\n",
       "      <th>name</th>\n",
       "      <th>homepage_url</th>\n",
       "      <th>category_list</th>\n",
       "      <th>funding_total_usd</th>\n",
       "      <th>status</th>\n",
       "      <th>country_code</th>\n",
       "      <th>state_code</th>\n",
       "      <th>region</th>\n",
       "      <th>city</th>\n",
       "      <th>funding_rounds</th>\n",
       "      <th>founded_at</th>\n",
       "      <th>first_funding_at</th>\n",
       "      <th>last_funding_at</th>\n",
       "    </tr>\n",
       "  </thead>\n",
       "  <tbody>\n",
       "    <tr>\n",
       "      <th>0</th>\n",
       "      <td>/organization/-fame</td>\n",
       "      <td>#fame</td>\n",
       "      <td>http://livfame.com</td>\n",
       "      <td>Media</td>\n",
       "      <td>10000000.0</td>\n",
       "      <td>operating</td>\n",
       "      <td>IND</td>\n",
       "      <td>16</td>\n",
       "      <td>Mumbai</td>\n",
       "      <td>Mumbai</td>\n",
       "      <td>1</td>\n",
       "      <td>NaN</td>\n",
       "      <td>2015-01-05</td>\n",
       "      <td>2015-01-05</td>\n",
       "    </tr>\n",
       "    <tr>\n",
       "      <th>1</th>\n",
       "      <td>/organization/-qounter</td>\n",
       "      <td>:Qounter</td>\n",
       "      <td>http://www.qounter.com</td>\n",
       "      <td>Application Platforms|Real Time|Social Network...</td>\n",
       "      <td>700000.0</td>\n",
       "      <td>operating</td>\n",
       "      <td>USA</td>\n",
       "      <td>DE</td>\n",
       "      <td>DE - Other</td>\n",
       "      <td>Delaware City</td>\n",
       "      <td>2</td>\n",
       "      <td>2014-09-04</td>\n",
       "      <td>2014-03-01</td>\n",
       "      <td>2014-10-14</td>\n",
       "    </tr>\n",
       "    <tr>\n",
       "      <th>2</th>\n",
       "      <td>/organization/-the-one-of-them-inc-</td>\n",
       "      <td>(THE) ONE of THEM,Inc.</td>\n",
       "      <td>http://oneofthem.jp</td>\n",
       "      <td>Apps|Games|Mobile</td>\n",
       "      <td>3406878.0</td>\n",
       "      <td>operating</td>\n",
       "      <td>NaN</td>\n",
       "      <td>NaN</td>\n",
       "      <td>NaN</td>\n",
       "      <td>NaN</td>\n",
       "      <td>1</td>\n",
       "      <td>NaN</td>\n",
       "      <td>2014-01-30</td>\n",
       "      <td>2014-01-30</td>\n",
       "    </tr>\n",
       "    <tr>\n",
       "      <th>3</th>\n",
       "      <td>/organization/0-6-com</td>\n",
       "      <td>0-6.com</td>\n",
       "      <td>http://www.0-6.com</td>\n",
       "      <td>Curated Web</td>\n",
       "      <td>2000000.0</td>\n",
       "      <td>operating</td>\n",
       "      <td>CHN</td>\n",
       "      <td>22</td>\n",
       "      <td>Beijing</td>\n",
       "      <td>Beijing</td>\n",
       "      <td>1</td>\n",
       "      <td>2007-01-01</td>\n",
       "      <td>2008-03-19</td>\n",
       "      <td>2008-03-19</td>\n",
       "    </tr>\n",
       "    <tr>\n",
       "      <th>4</th>\n",
       "      <td>/organization/004-technologies</td>\n",
       "      <td>004 Technologies</td>\n",
       "      <td>http://004gmbh.de/en/004-interact</td>\n",
       "      <td>Software</td>\n",
       "      <td>NaN</td>\n",
       "      <td>operating</td>\n",
       "      <td>USA</td>\n",
       "      <td>IL</td>\n",
       "      <td>Springfield, Illinois</td>\n",
       "      <td>Champaign</td>\n",
       "      <td>1</td>\n",
       "      <td>2010-01-01</td>\n",
       "      <td>2014-07-24</td>\n",
       "      <td>2014-07-24</td>\n",
       "    </tr>\n",
       "  </tbody>\n",
       "</table>\n",
       "</div>"
      ],
      "text/plain": [
       "                             permalink                    name  \\\n",
       "0                  /organization/-fame                   #fame   \n",
       "1               /organization/-qounter                :Qounter   \n",
       "2  /organization/-the-one-of-them-inc-  (THE) ONE of THEM,Inc.   \n",
       "3                /organization/0-6-com                 0-6.com   \n",
       "4       /organization/004-technologies        004 Technologies   \n",
       "\n",
       "                        homepage_url  \\\n",
       "0                 http://livfame.com   \n",
       "1             http://www.qounter.com   \n",
       "2                http://oneofthem.jp   \n",
       "3                 http://www.0-6.com   \n",
       "4  http://004gmbh.de/en/004-interact   \n",
       "\n",
       "                                       category_list  funding_total_usd  \\\n",
       "0                                              Media         10000000.0   \n",
       "1  Application Platforms|Real Time|Social Network...           700000.0   \n",
       "2                                  Apps|Games|Mobile          3406878.0   \n",
       "3                                        Curated Web          2000000.0   \n",
       "4                                           Software                NaN   \n",
       "\n",
       "      status country_code state_code                 region           city  \\\n",
       "0  operating          IND         16                 Mumbai         Mumbai   \n",
       "1  operating          USA         DE             DE - Other  Delaware City   \n",
       "2  operating          NaN        NaN                    NaN            NaN   \n",
       "3  operating          CHN         22                Beijing        Beijing   \n",
       "4  operating          USA         IL  Springfield, Illinois      Champaign   \n",
       "\n",
       "   funding_rounds  founded_at first_funding_at last_funding_at  \n",
       "0               1         NaN       2015-01-05      2015-01-05  \n",
       "1               2  2014-09-04       2014-03-01      2014-10-14  \n",
       "2               1         NaN       2014-01-30      2014-01-30  \n",
       "3               1  2007-01-01       2008-03-19      2008-03-19  \n",
       "4               1  2010-01-01       2014-07-24      2014-07-24  "
      ]
     },
     "execution_count": 37,
     "metadata": {},
     "output_type": "execute_result"
    }
   ],
   "source": [
    "raw_data['funding_total_usd'] = pd.to_numeric(\n",
    "    arg=raw_data['funding_total_usd'],\n",
    "    errors='coerce',\n",
    "    downcast='float'\n",
    ")\n",
    "\n",
    "raw_data.head()"
   ]
  },
  {
   "cell_type": "markdown",
   "id": "63a522ab",
   "metadata": {},
   "source": [
    "Lets check again the NaN value after the conversion."
   ]
  },
  {
   "cell_type": "code",
   "execution_count": 50,
   "id": "25b75716",
   "metadata": {
    "scrolled": true
   },
   "outputs": [
    {
     "data": {
      "text/plain": [
       "False    53583\n",
       "True     12785\n",
       "Name: funding_total_usd, dtype: int64"
      ]
     },
     "execution_count": 50,
     "metadata": {},
     "output_type": "execute_result"
    }
   ],
   "source": [
    "raw_data['funding_total_usd'].isna().value_counts()"
   ]
  },
  {
   "cell_type": "markdown",
   "id": "26ffaca1",
   "metadata": {},
   "source": [
    "It same! we can conclude that all non-numeric data is '-' not number with string (e.g. 10 mil usd)."
   ]
  },
  {
   "cell_type": "markdown",
   "id": "81fbe8e8",
   "metadata": {},
   "source": [
    "## Visualize Data Distribution"
   ]
  },
  {
   "cell_type": "markdown",
   "id": "f76851b7",
   "metadata": {},
   "source": [
    "### Numeric Data"
   ]
  },
  {
   "cell_type": "code",
   "execution_count": 51,
   "id": "12cc3198",
   "metadata": {
    "scrolled": false
   },
   "outputs": [
    {
     "data": {
      "image/png": "[encoded data removed]",
      "text/plain": [
       "<Figure size 2000x400 with 2 Axes>"
      ]
     },
     "metadata": {},
     "output_type": "display_data"
    }
   ],
   "source": [
    "raw_data.hist(bins=100, figsize=(20, 4))\n",
    "\n",
    "plt.show()"
   ]
  },
  {
   "cell_type": "markdown",
   "id": "ff88c791",
   "metadata": {},
   "source": [
    "The funding_total_usd column distribution is hard to see, since it has a lot of outliers. So lets inspect the funding_total_usd column."
   ]
  },
  {
   "cell_type": "code",
   "execution_count": 53,
   "id": "5a8a738e",
   "metadata": {},
   "outputs": [
    {
     "data": {
      "text/plain": [
       "count    5.358300e+04\n",
       "mean     1.847860e+07\n",
       "std      1.880133e+08\n",
       "min      1.000000e+00\n",
       "25%      3.356235e+05\n",
       "50%      2.000000e+06\n",
       "75%      1.000000e+07\n",
       "max      3.007950e+10\n",
       "Name: funding_total_usd, dtype: float64"
      ]
     },
     "execution_count": 53,
     "metadata": {},
     "output_type": "execute_result"
    }
   ],
   "source": [
    "raw_data['funding_total_usd'].describe()"
   ]
  },
  {
   "attachments": {
    "image.png": {
     "image/png": "[encoded data removed]"
    }
   },
   "cell_type": "markdown",
   "id": "ad135860",
   "metadata": {},
   "source": [
    "The minimum value is 1 usd, which is doesn't make any sense, there is no way someone is funding a startup by 1 usd (it could be an invalid input). Lets check it further by using interquartile rule to find outliers.\n",
    "![image.png](attachment:image.png)\n",
    "Source: https://www.thoughtco.com/what-is-the-interquartile-range-rule-3126244"
   ]
  },
  {
   "cell_type": "code",
   "execution_count": 144,
   "id": "c2ec61ea",
   "metadata": {},
   "outputs": [],
   "source": [
    "def find_outliers(data):\n",
    "    data = np.array(data.dropna())\n",
    "    \n",
    "    inter_quant = np.quantile(data, 0.75) - np.quantile(data, 0.25)\n",
    "    \n",
    "    upper_bound = np.quantile(data, 0.75) + 1.5*inter_quant\n",
    "    lower_bound = np.quantile(data, 0.25) - 1.5*inter_quant\n",
    "    \n",
    "    lower_outliers = data < lower_bound\n",
    "    upper_outliers = data > upper_bound\n",
    "    \n",
    "    return pd.Series(lower_outliers | upper_outliers)"
   ]
  },
  {
   "cell_type": "code",
   "execution_count": 158,
   "id": "91342ada",
   "metadata": {},
   "outputs": [
    {
     "data": {
      "text/plain": [
       "0        False\n",
       "1        False\n",
       "2        False\n",
       "3        False\n",
       "4        False\n",
       "         ...  \n",
       "53578    False\n",
       "53579    False\n",
       "53580    False\n",
       "53581    False\n",
       "53582    False\n",
       "Length: 53583, dtype: bool"
      ]
     },
     "execution_count": 158,
     "metadata": {},
     "output_type": "execute_result"
    }
   ],
   "source": [
    "outliers = find_outliers(raw_data['funding_total_usd'])\n",
    "\n",
    "outliers"
   ]
  },
  {
   "cell_type": "markdown",
   "id": "01abe570",
   "metadata": {},
   "source": [
    "Lets check if our desired outliers (small number) still exist or not."
   ]
  },
  {
   "cell_type": "code",
   "execution_count": 184,
   "id": "0d4d9c60",
   "metadata": {
    "scrolled": false
   },
   "outputs": [
    {
     "data": {
      "text/html": [
       "<div>\n",
       "<style scoped>\n",
       "    .dataframe tbody tr th:only-of-type {\n",
       "        vertical-align: middle;\n",
       "    }\n",
       "\n",
       "    .dataframe tbody tr th {\n",
       "        vertical-align: top;\n",
       "    }\n",
       "\n",
       "    .dataframe thead th {\n",
       "        text-align: right;\n",
       "    }\n",
       "</style>\n",
       "<table border=\"1\" class=\"dataframe\">\n",
       "  <thead>\n",
       "    <tr style=\"text-align: right;\">\n",
       "      <th></th>\n",
       "      <th>funding_total_usd</th>\n",
       "    </tr>\n",
       "  </thead>\n",
       "  <tbody>\n",
       "    <tr>\n",
       "      <th>0</th>\n",
       "      <td>10000000.0</td>\n",
       "    </tr>\n",
       "    <tr>\n",
       "      <th>1</th>\n",
       "      <td>700000.0</td>\n",
       "    </tr>\n",
       "    <tr>\n",
       "      <th>2</th>\n",
       "      <td>3406878.0</td>\n",
       "    </tr>\n",
       "    <tr>\n",
       "      <th>3</th>\n",
       "      <td>2000000.0</td>\n",
       "    </tr>\n",
       "    <tr>\n",
       "      <th>4</th>\n",
       "      <td>41250.0</td>\n",
       "    </tr>\n",
       "    <tr>\n",
       "      <th>...</th>\n",
       "      <td>...</td>\n",
       "    </tr>\n",
       "    <tr>\n",
       "      <th>53578</th>\n",
       "      <td>1120000.0</td>\n",
       "    </tr>\n",
       "    <tr>\n",
       "      <th>53579</th>\n",
       "      <td>1587301.0</td>\n",
       "    </tr>\n",
       "    <tr>\n",
       "      <th>53580</th>\n",
       "      <td>114304.0</td>\n",
       "    </tr>\n",
       "    <tr>\n",
       "      <th>53581</th>\n",
       "      <td>18192.0</td>\n",
       "    </tr>\n",
       "    <tr>\n",
       "      <th>53582</th>\n",
       "      <td>14851.0</td>\n",
       "    </tr>\n",
       "  </tbody>\n",
       "</table>\n",
       "<p>46199 rows × 1 columns</p>\n",
       "</div>"
      ],
      "text/plain": [
       "       funding_total_usd\n",
       "0             10000000.0\n",
       "1               700000.0\n",
       "2              3406878.0\n",
       "3              2000000.0\n",
       "4                41250.0\n",
       "...                  ...\n",
       "53578          1120000.0\n",
       "53579          1587301.0\n",
       "53580           114304.0\n",
       "53581            18192.0\n",
       "53582            14851.0\n",
       "\n",
       "[46199 rows x 1 columns]"
      ]
     },
     "execution_count": 184,
     "metadata": {},
     "output_type": "execute_result"
    }
   ],
   "source": [
    "raw_data[['funding_total_usd']].dropna().reset_index(drop=True)[~outliers]"
   ]
  },
  {
   "cell_type": "markdown",
   "id": "4dd22646",
   "metadata": {},
   "source": [
    "Nope, the interquartile method just remove the upper outliers. Which is in this context, it still possible for startup to get up to 1x10^10 usd fund, so lets keep the upper bound outliers. We will consider snother method to remove lower bound outliers. Let set a threshold for 100 usd, it means anything under 100 usd fund considered as invalid input."
   ]
  },
  {
   "cell_type": "code",
   "execution_count": 210,
   "id": "6e813fe0",
   "metadata": {},
   "outputs": [
    {
     "data": {
      "text/html": [
       "<div>\n",
       "<style scoped>\n",
       "    .dataframe tbody tr th:only-of-type {\n",
       "        vertical-align: middle;\n",
       "    }\n",
       "\n",
       "    .dataframe tbody tr th {\n",
       "        vertical-align: top;\n",
       "    }\n",
       "\n",
       "    .dataframe thead th {\n",
       "        text-align: right;\n",
       "    }\n",
       "</style>\n",
       "<table border=\"1\" class=\"dataframe\">\n",
       "  <thead>\n",
       "    <tr style=\"text-align: right;\">\n",
       "      <th></th>\n",
       "      <th>funding_total_usd</th>\n",
       "    </tr>\n",
       "  </thead>\n",
       "  <tbody>\n",
       "    <tr>\n",
       "      <th>0</th>\n",
       "      <td>10000000.0</td>\n",
       "    </tr>\n",
       "    <tr>\n",
       "      <th>1</th>\n",
       "      <td>700000.0</td>\n",
       "    </tr>\n",
       "    <tr>\n",
       "      <th>2</th>\n",
       "      <td>3406878.0</td>\n",
       "    </tr>\n",
       "    <tr>\n",
       "      <th>3</th>\n",
       "      <td>2000000.0</td>\n",
       "    </tr>\n",
       "    <tr>\n",
       "      <th>4</th>\n",
       "      <td>NaN</td>\n",
       "    </tr>\n",
       "    <tr>\n",
       "      <th>...</th>\n",
       "      <td>...</td>\n",
       "    </tr>\n",
       "    <tr>\n",
       "      <th>66363</th>\n",
       "      <td>1587301.0</td>\n",
       "    </tr>\n",
       "    <tr>\n",
       "      <th>66364</th>\n",
       "      <td>114304.0</td>\n",
       "    </tr>\n",
       "    <tr>\n",
       "      <th>66365</th>\n",
       "      <td>NaN</td>\n",
       "    </tr>\n",
       "    <tr>\n",
       "      <th>66366</th>\n",
       "      <td>18192.0</td>\n",
       "    </tr>\n",
       "    <tr>\n",
       "      <th>66367</th>\n",
       "      <td>14851.0</td>\n",
       "    </tr>\n",
       "  </tbody>\n",
       "</table>\n",
       "<p>65829 rows × 1 columns</p>\n",
       "</div>"
      ],
      "text/plain": [
       "       funding_total_usd\n",
       "0             10000000.0\n",
       "1               700000.0\n",
       "2              3406878.0\n",
       "3              2000000.0\n",
       "4                    NaN\n",
       "...                  ...\n",
       "66363          1587301.0\n",
       "66364           114304.0\n",
       "66365                NaN\n",
       "66366            18192.0\n",
       "66367            14851.0\n",
       "\n",
       "[65829 rows x 1 columns]"
      ]
     },
     "execution_count": 210,
     "metadata": {},
     "output_type": "execute_result"
    }
   ],
   "source": [
    "valid_input = ~(raw_data['funding_total_usd'] < 10000)\n",
    "\n",
    "raw_data[['funding_total_usd']][valid_input]"
   ]
  }
 ],
 "metadata": {
  "kernelspec": {
   "display_name": "Python 3 (ipykernel)",
   "language": "python",
   "name": "python3"
  },
  "language_info": {
   "codemirror_mode": {
    "name": "ipython",
    "version": 3
   },
   "file_extension": ".py",
   "mimetype": "text/x-python",
   "name": "python",
   "nbconvert_exporter": "python",
   "pygments_lexer": "ipython3",
   "version": "3.11.0"
  }
 },
 "nbformat": 4,
 "nbformat_minor": 5
}
