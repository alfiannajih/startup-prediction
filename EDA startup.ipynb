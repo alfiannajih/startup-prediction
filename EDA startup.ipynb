{
 "cells": [
  {
   "cell_type": "markdown",
   "id": "c042e764",
   "metadata": {},
   "source": [
    "## Import Data and Library"
   ]
  },
  {
   "cell_type": "markdown",
   "id": "4027aee8",
   "metadata": {},
   "source": [
    "### Import Library"
   ]
  },
  {
   "cell_type": "code",
   "execution_count": 1,
   "id": "dbade534",
   "metadata": {},
   "outputs": [],
   "source": [
    "import numpy as np\n",
    "import pandas as pd\n",
    "import seaborn as sns\n",
    "from matplotlib import pyplot as plt\n",
    "from zipfile import ZipFile"
   ]
  },
  {
   "cell_type": "markdown",
   "id": "cb53ab33",
   "metadata": {},
   "source": [
    "### Import Data"
   ]
  },
  {
   "cell_type": "code",
   "execution_count": 2,
   "id": "0f349d22",
   "metadata": {},
   "outputs": [],
   "source": [
    "with ZipFile('big-startup-secsees-fail-dataset-from-crunchbase.zip') as raw_zip:\n",
    "    raw_zip.extractall(path='datasets')\n",
    "    \n",
    "    raw_data = pd.read_csv('datasets/big_startup_secsees_dataset.csv')"
   ]
  },
  {
   "cell_type": "code",
   "execution_count": 3,
   "id": "e8c7294f",
   "metadata": {},
   "outputs": [
    {
     "data": {
      "text/html": [
       "<div>\n",
       "<style scoped>\n",
       "    .dataframe tbody tr th:only-of-type {\n",
       "        vertical-align: middle;\n",
       "    }\n",
       "\n",
       "    .dataframe tbody tr th {\n",
       "        vertical-align: top;\n",
       "    }\n",
       "\n",
       "    .dataframe thead th {\n",
       "        text-align: right;\n",
       "    }\n",
       "</style>\n",
       "<table border=\"1\" class=\"dataframe\">\n",
       "  <thead>\n",
       "    <tr style=\"text-align: right;\">\n",
       "      <th></th>\n",
       "      <th>permalink</th>\n",
       "      <th>name</th>\n",
       "      <th>homepage_url</th>\n",
       "      <th>category_list</th>\n",
       "      <th>funding_total_usd</th>\n",
       "      <th>status</th>\n",
       "      <th>country_code</th>\n",
       "      <th>state_code</th>\n",
       "      <th>region</th>\n",
       "      <th>city</th>\n",
       "      <th>funding_rounds</th>\n",
       "      <th>founded_at</th>\n",
       "      <th>first_funding_at</th>\n",
       "      <th>last_funding_at</th>\n",
       "    </tr>\n",
       "  </thead>\n",
       "  <tbody>\n",
       "    <tr>\n",
       "      <th>0</th>\n",
       "      <td>/organization/-fame</td>\n",
       "      <td>#fame</td>\n",
       "      <td>http://livfame.com</td>\n",
       "      <td>Media</td>\n",
       "      <td>10000000</td>\n",
       "      <td>operating</td>\n",
       "      <td>IND</td>\n",
       "      <td>16</td>\n",
       "      <td>Mumbai</td>\n",
       "      <td>Mumbai</td>\n",
       "      <td>1</td>\n",
       "      <td>NaN</td>\n",
       "      <td>2015-01-05</td>\n",
       "      <td>2015-01-05</td>\n",
       "    </tr>\n",
       "    <tr>\n",
       "      <th>1</th>\n",
       "      <td>/organization/-qounter</td>\n",
       "      <td>:Qounter</td>\n",
       "      <td>http://www.qounter.com</td>\n",
       "      <td>Application Platforms|Real Time|Social Network...</td>\n",
       "      <td>700000</td>\n",
       "      <td>operating</td>\n",
       "      <td>USA</td>\n",
       "      <td>DE</td>\n",
       "      <td>DE - Other</td>\n",
       "      <td>Delaware City</td>\n",
       "      <td>2</td>\n",
       "      <td>2014-09-04</td>\n",
       "      <td>2014-03-01</td>\n",
       "      <td>2014-10-14</td>\n",
       "    </tr>\n",
       "    <tr>\n",
       "      <th>2</th>\n",
       "      <td>/organization/-the-one-of-them-inc-</td>\n",
       "      <td>(THE) ONE of THEM,Inc.</td>\n",
       "      <td>http://oneofthem.jp</td>\n",
       "      <td>Apps|Games|Mobile</td>\n",
       "      <td>3406878</td>\n",
       "      <td>operating</td>\n",
       "      <td>NaN</td>\n",
       "      <td>NaN</td>\n",
       "      <td>NaN</td>\n",
       "      <td>NaN</td>\n",
       "      <td>1</td>\n",
       "      <td>NaN</td>\n",
       "      <td>2014-01-30</td>\n",
       "      <td>2014-01-30</td>\n",
       "    </tr>\n",
       "    <tr>\n",
       "      <th>3</th>\n",
       "      <td>/organization/0-6-com</td>\n",
       "      <td>0-6.com</td>\n",
       "      <td>http://www.0-6.com</td>\n",
       "      <td>Curated Web</td>\n",
       "      <td>2000000</td>\n",
       "      <td>operating</td>\n",
       "      <td>CHN</td>\n",
       "      <td>22</td>\n",
       "      <td>Beijing</td>\n",
       "      <td>Beijing</td>\n",
       "      <td>1</td>\n",
       "      <td>2007-01-01</td>\n",
       "      <td>2008-03-19</td>\n",
       "      <td>2008-03-19</td>\n",
       "    </tr>\n",
       "    <tr>\n",
       "      <th>4</th>\n",
       "      <td>/organization/004-technologies</td>\n",
       "      <td>004 Technologies</td>\n",
       "      <td>http://004gmbh.de/en/004-interact</td>\n",
       "      <td>Software</td>\n",
       "      <td>-</td>\n",
       "      <td>operating</td>\n",
       "      <td>USA</td>\n",
       "      <td>IL</td>\n",
       "      <td>Springfield, Illinois</td>\n",
       "      <td>Champaign</td>\n",
       "      <td>1</td>\n",
       "      <td>2010-01-01</td>\n",
       "      <td>2014-07-24</td>\n",
       "      <td>2014-07-24</td>\n",
       "    </tr>\n",
       "  </tbody>\n",
       "</table>\n",
       "</div>"
      ],
      "text/plain": [
       "                             permalink                    name  \\\n",
       "0                  /organization/-fame                   #fame   \n",
       "1               /organization/-qounter                :Qounter   \n",
       "2  /organization/-the-one-of-them-inc-  (THE) ONE of THEM,Inc.   \n",
       "3                /organization/0-6-com                 0-6.com   \n",
       "4       /organization/004-technologies        004 Technologies   \n",
       "\n",
       "                        homepage_url  \\\n",
       "0                 http://livfame.com   \n",
       "1             http://www.qounter.com   \n",
       "2                http://oneofthem.jp   \n",
       "3                 http://www.0-6.com   \n",
       "4  http://004gmbh.de/en/004-interact   \n",
       "\n",
       "                                       category_list funding_total_usd  \\\n",
       "0                                              Media          10000000   \n",
       "1  Application Platforms|Real Time|Social Network...            700000   \n",
       "2                                  Apps|Games|Mobile           3406878   \n",
       "3                                        Curated Web           2000000   \n",
       "4                                           Software                 -   \n",
       "\n",
       "      status country_code state_code                 region           city  \\\n",
       "0  operating          IND         16                 Mumbai         Mumbai   \n",
       "1  operating          USA         DE             DE - Other  Delaware City   \n",
       "2  operating          NaN        NaN                    NaN            NaN   \n",
       "3  operating          CHN         22                Beijing        Beijing   \n",
       "4  operating          USA         IL  Springfield, Illinois      Champaign   \n",
       "\n",
       "   funding_rounds  founded_at first_funding_at last_funding_at  \n",
       "0               1         NaN       2015-01-05      2015-01-05  \n",
       "1               2  2014-09-04       2014-03-01      2014-10-14  \n",
       "2               1         NaN       2014-01-30      2014-01-30  \n",
       "3               1  2007-01-01       2008-03-19      2008-03-19  \n",
       "4               1  2010-01-01       2014-07-24      2014-07-24  "
      ]
     },
     "execution_count": 3,
     "metadata": {},
     "output_type": "execute_result"
    }
   ],
   "source": [
    "raw_data.head()"
   ]
  },
  {
   "cell_type": "markdown",
   "id": "ed2c18d9",
   "metadata": {},
   "source": [
    "## Data Inspection"
   ]
  },
  {
   "cell_type": "markdown",
   "id": "f1874f2e",
   "metadata": {},
   "source": [
    "### Total Amount of Rows and Columns"
   ]
  },
  {
   "cell_type": "code",
   "execution_count": 4,
   "id": "b8e520ec",
   "metadata": {},
   "outputs": [
    {
     "data": {
      "text/plain": [
       "(66368, 14)"
      ]
     },
     "execution_count": 4,
     "metadata": {},
     "output_type": "execute_result"
    }
   ],
   "source": [
    "raw_data.shape"
   ]
  },
  {
   "cell_type": "markdown",
   "id": "583e384d",
   "metadata": {},
   "source": [
    "### Data Fields"
   ]
  },
  {
   "cell_type": "code",
   "execution_count": 5,
   "id": "2d83469e",
   "metadata": {},
   "outputs": [
    {
     "data": {
      "text/plain": [
       "Index(['permalink', 'name', 'homepage_url', 'category_list',\n",
       "       'funding_total_usd', 'status', 'country_code', 'state_code', 'region',\n",
       "       'city', 'funding_rounds', 'founded_at', 'first_funding_at',\n",
       "       'last_funding_at'],\n",
       "      dtype='object')"
      ]
     },
     "execution_count": 5,
     "metadata": {},
     "output_type": "execute_result"
    }
   ],
   "source": [
    "raw_data.columns"
   ]
  },
  {
   "cell_type": "markdown",
   "id": "142ca4a2",
   "metadata": {},
   "source": [
    "#### Data Fields Information\n",
    "1. permalink: Link to Organization\n",
    "2. name: Company Name\n",
    "3. homepage_url: Startup Site\n",
    "4. category_list: Field of company\n",
    "5. funding_total_usd: Total Funding in USD\n",
    "6. status: Operating Status\n",
    "7. country_code: Country Code\n",
    "8. state_code: State Code of company location\n",
    "9. region: Region of company location\n",
    "10. city: Cit of company location\n",
    "11. funding_rounds: the number of times a startup opts to raise capital from the market.\n",
    "12. founded_at: the date when the startup is founded\n",
    "13. first_funding_at: the date when the startup get first funding\n",
    "14. last_funding_at: the date when the startup get last funding"
   ]
  },
  {
   "cell_type": "markdown",
   "id": "2d0cc25e",
   "metadata": {},
   "source": [
    "### Visualize the Target Data (Status)"
   ]
  },
  {
   "cell_type": "code",
   "execution_count": 6,
   "id": "ec4b0f13",
   "metadata": {
    "scrolled": false
   },
   "outputs": [
    {
     "data": {
      "text/plain": [
       "<Axes: >"
      ]
     },
     "execution_count": 6,
     "metadata": {},
     "output_type": "execute_result"
    },
    {
     "data": {
      "image/png": "[encoded data removed]",
      "text/plain": [
       "<Figure size 640x480 with 1 Axes>"
      ]
     },
     "metadata": {},
     "output_type": "display_data"
    }
   ],
   "source": [
    "raw_data['status'].value_counts().plot(kind='bar')"
   ]
  },
  {
   "cell_type": "markdown",
   "id": "2730cf2e",
   "metadata": {},
   "source": [
    "Our objective is to find whether the startup will fail (closed) or success (acquier/ipo), so we dont need operating status. We will drop these rows. Note: we considered acquire as success."
   ]
  },
  {
   "cell_type": "code",
   "execution_count": 7,
   "id": "93e1cf3a",
   "metadata": {},
   "outputs": [
    {
     "data": {
      "text/html": [
       "<div>\n",
       "<style scoped>\n",
       "    .dataframe tbody tr th:only-of-type {\n",
       "        vertical-align: middle;\n",
       "    }\n",
       "\n",
       "    .dataframe tbody tr th {\n",
       "        vertical-align: top;\n",
       "    }\n",
       "\n",
       "    .dataframe thead th {\n",
       "        text-align: right;\n",
       "    }\n",
       "</style>\n",
       "<table border=\"1\" class=\"dataframe\">\n",
       "  <thead>\n",
       "    <tr style=\"text-align: right;\">\n",
       "      <th></th>\n",
       "      <th>permalink</th>\n",
       "      <th>name</th>\n",
       "      <th>homepage_url</th>\n",
       "      <th>category_list</th>\n",
       "      <th>funding_total_usd</th>\n",
       "      <th>status</th>\n",
       "      <th>country_code</th>\n",
       "      <th>state_code</th>\n",
       "      <th>region</th>\n",
       "      <th>city</th>\n",
       "      <th>funding_rounds</th>\n",
       "      <th>founded_at</th>\n",
       "      <th>first_funding_at</th>\n",
       "      <th>last_funding_at</th>\n",
       "    </tr>\n",
       "  </thead>\n",
       "  <tbody>\n",
       "    <tr>\n",
       "      <th>15</th>\n",
       "      <td>/organization/1-mainstream</td>\n",
       "      <td>1 Mainstream</td>\n",
       "      <td>http://www.1mainstream.com</td>\n",
       "      <td>Apps|Cable|Distribution|Software</td>\n",
       "      <td>5000000</td>\n",
       "      <td>acquired</td>\n",
       "      <td>USA</td>\n",
       "      <td>CA</td>\n",
       "      <td>SF Bay Area</td>\n",
       "      <td>Cupertino</td>\n",
       "      <td>1</td>\n",
       "      <td>2012-03-01</td>\n",
       "      <td>2015-03-17</td>\n",
       "      <td>2015-03-17</td>\n",
       "    </tr>\n",
       "    <tr>\n",
       "      <th>20</th>\n",
       "      <td>/organization/1000-markets</td>\n",
       "      <td>1000 Markets</td>\n",
       "      <td>http://www.1000markets.com</td>\n",
       "      <td>Art|E-Commerce|Marketplaces</td>\n",
       "      <td>500000</td>\n",
       "      <td>acquired</td>\n",
       "      <td>USA</td>\n",
       "      <td>WA</td>\n",
       "      <td>Seattle</td>\n",
       "      <td>Seattle</td>\n",
       "      <td>1</td>\n",
       "      <td>2009-01-01</td>\n",
       "      <td>2009-05-15</td>\n",
       "      <td>2009-05-15</td>\n",
       "    </tr>\n",
       "    <tr>\n",
       "      <th>23</th>\n",
       "      <td>/organization/1000memories</td>\n",
       "      <td>1000memories</td>\n",
       "      <td>http://1000memories.com</td>\n",
       "      <td>Curated Web</td>\n",
       "      <td>2535000</td>\n",
       "      <td>acquired</td>\n",
       "      <td>USA</td>\n",
       "      <td>CA</td>\n",
       "      <td>SF Bay Area</td>\n",
       "      <td>San Francisco</td>\n",
       "      <td>2</td>\n",
       "      <td>2010-07-01</td>\n",
       "      <td>2010-01-01</td>\n",
       "      <td>2011-02-16</td>\n",
       "    </tr>\n",
       "    <tr>\n",
       "      <th>31</th>\n",
       "      <td>/organization/100plus</td>\n",
       "      <td>100Plus</td>\n",
       "      <td>http://www.100plus.com</td>\n",
       "      <td>Analytics</td>\n",
       "      <td>1250000</td>\n",
       "      <td>acquired</td>\n",
       "      <td>USA</td>\n",
       "      <td>CA</td>\n",
       "      <td>SF Bay Area</td>\n",
       "      <td>San Francisco</td>\n",
       "      <td>2</td>\n",
       "      <td>2011-09-16</td>\n",
       "      <td>2011-11-02</td>\n",
       "      <td>2011-11-30</td>\n",
       "    </tr>\n",
       "    <tr>\n",
       "      <th>32</th>\n",
       "      <td>/organization/1010data</td>\n",
       "      <td>1010data</td>\n",
       "      <td>http://www.1010data.com</td>\n",
       "      <td>Software</td>\n",
       "      <td>35000000</td>\n",
       "      <td>acquired</td>\n",
       "      <td>USA</td>\n",
       "      <td>NY</td>\n",
       "      <td>New York City</td>\n",
       "      <td>New York</td>\n",
       "      <td>1</td>\n",
       "      <td>2000-01-01</td>\n",
       "      <td>2010-03-08</td>\n",
       "      <td>2010-03-08</td>\n",
       "    </tr>\n",
       "    <tr>\n",
       "      <th>...</th>\n",
       "      <td>...</td>\n",
       "      <td>...</td>\n",
       "      <td>...</td>\n",
       "      <td>...</td>\n",
       "      <td>...</td>\n",
       "      <td>...</td>\n",
       "      <td>...</td>\n",
       "      <td>...</td>\n",
       "      <td>...</td>\n",
       "      <td>...</td>\n",
       "      <td>...</td>\n",
       "      <td>...</td>\n",
       "      <td>...</td>\n",
       "      <td>...</td>\n",
       "    </tr>\n",
       "    <tr>\n",
       "      <th>66349</th>\n",
       "      <td>/organization/zyncro</td>\n",
       "      <td>Zyncro</td>\n",
       "      <td>http://www.zyncro.com</td>\n",
       "      <td>Cloud Computing|Enterprise 2.0|Enterprise Soft...</td>\n",
       "      <td>3805520</td>\n",
       "      <td>acquired</td>\n",
       "      <td>ESP</td>\n",
       "      <td>56</td>\n",
       "      <td>Barcelona</td>\n",
       "      <td>Barcelona</td>\n",
       "      <td>2</td>\n",
       "      <td>2009-09-01</td>\n",
       "      <td>2011-04-05</td>\n",
       "      <td>2012-02-03</td>\n",
       "    </tr>\n",
       "    <tr>\n",
       "      <th>66350</th>\n",
       "      <td>/organization/zynerba-pharmaceuticals</td>\n",
       "      <td>Zynerba Pharmaceuticals</td>\n",
       "      <td>http://zynerba.com</td>\n",
       "      <td>Pharmaceuticals</td>\n",
       "      <td>13000000</td>\n",
       "      <td>ipo</td>\n",
       "      <td>USA</td>\n",
       "      <td>PA</td>\n",
       "      <td>Philadelphia</td>\n",
       "      <td>Radnor</td>\n",
       "      <td>1</td>\n",
       "      <td>2014-01-01</td>\n",
       "      <td>2014-10-14</td>\n",
       "      <td>2014-10-14</td>\n",
       "    </tr>\n",
       "    <tr>\n",
       "      <th>66352</th>\n",
       "      <td>/organization/zynga</td>\n",
       "      <td>Zynga</td>\n",
       "      <td>http://www.zynga.com</td>\n",
       "      <td>Facebook Applications|Games|Networking|Technology</td>\n",
       "      <td>866550786</td>\n",
       "      <td>ipo</td>\n",
       "      <td>USA</td>\n",
       "      <td>CA</td>\n",
       "      <td>SF Bay Area</td>\n",
       "      <td>San Francisco</td>\n",
       "      <td>9</td>\n",
       "      <td>2007-07-01</td>\n",
       "      <td>2007-01-01</td>\n",
       "      <td>2011-02-18</td>\n",
       "    </tr>\n",
       "    <tr>\n",
       "      <th>66358</th>\n",
       "      <td>/organization/zyraz-technology</td>\n",
       "      <td>Zyraz Technology</td>\n",
       "      <td>http://www.zyraz.com</td>\n",
       "      <td>Biotechnology</td>\n",
       "      <td>15419877</td>\n",
       "      <td>closed</td>\n",
       "      <td>MYS</td>\n",
       "      <td>14</td>\n",
       "      <td>MYS - Other</td>\n",
       "      <td>Damansara New Village</td>\n",
       "      <td>4</td>\n",
       "      <td>1994-01-01</td>\n",
       "      <td>2008-01-01</td>\n",
       "      <td>2013-02-15</td>\n",
       "    </tr>\n",
       "    <tr>\n",
       "      <th>66360</th>\n",
       "      <td>/organization/zystor</td>\n",
       "      <td>Zystor</td>\n",
       "      <td>http://www.zystor.com</td>\n",
       "      <td>Biotechnology</td>\n",
       "      <td>8500000</td>\n",
       "      <td>acquired</td>\n",
       "      <td>USA</td>\n",
       "      <td>WI</td>\n",
       "      <td>Milwaukee</td>\n",
       "      <td>Milwaukee</td>\n",
       "      <td>1</td>\n",
       "      <td>NaN</td>\n",
       "      <td>2004-12-16</td>\n",
       "      <td>2004-12-16</td>\n",
       "    </tr>\n",
       "  </tbody>\n",
       "</table>\n",
       "<p>13334 rows × 14 columns</p>\n",
       "</div>"
      ],
      "text/plain": [
       "                                   permalink                     name  \\\n",
       "15                /organization/1-mainstream             1 Mainstream   \n",
       "20                /organization/1000-markets             1000 Markets   \n",
       "23                /organization/1000memories             1000memories   \n",
       "31                     /organization/100plus                  100Plus   \n",
       "32                    /organization/1010data                 1010data   \n",
       "...                                      ...                      ...   \n",
       "66349                   /organization/zyncro                   Zyncro   \n",
       "66350  /organization/zynerba-pharmaceuticals  Zynerba Pharmaceuticals   \n",
       "66352                    /organization/zynga                    Zynga   \n",
       "66358         /organization/zyraz-technology         Zyraz Technology   \n",
       "66360                   /organization/zystor                   Zystor   \n",
       "\n",
       "                     homepage_url  \\\n",
       "15     http://www.1mainstream.com   \n",
       "20     http://www.1000markets.com   \n",
       "23        http://1000memories.com   \n",
       "31         http://www.100plus.com   \n",
       "32        http://www.1010data.com   \n",
       "...                           ...   \n",
       "66349       http://www.zyncro.com   \n",
       "66350          http://zynerba.com   \n",
       "66352        http://www.zynga.com   \n",
       "66358        http://www.zyraz.com   \n",
       "66360       http://www.zystor.com   \n",
       "\n",
       "                                           category_list funding_total_usd  \\\n",
       "15                      Apps|Cable|Distribution|Software           5000000   \n",
       "20                           Art|E-Commerce|Marketplaces            500000   \n",
       "23                                           Curated Web           2535000   \n",
       "31                                             Analytics           1250000   \n",
       "32                                              Software          35000000   \n",
       "...                                                  ...               ...   \n",
       "66349  Cloud Computing|Enterprise 2.0|Enterprise Soft...           3805520   \n",
       "66350                                    Pharmaceuticals          13000000   \n",
       "66352  Facebook Applications|Games|Networking|Technology         866550786   \n",
       "66358                                      Biotechnology          15419877   \n",
       "66360                                      Biotechnology           8500000   \n",
       "\n",
       "         status country_code state_code         region                   city  \\\n",
       "15     acquired          USA         CA    SF Bay Area              Cupertino   \n",
       "20     acquired          USA         WA        Seattle                Seattle   \n",
       "23     acquired          USA         CA    SF Bay Area          San Francisco   \n",
       "31     acquired          USA         CA    SF Bay Area          San Francisco   \n",
       "32     acquired          USA         NY  New York City               New York   \n",
       "...         ...          ...        ...            ...                    ...   \n",
       "66349  acquired          ESP         56      Barcelona              Barcelona   \n",
       "66350       ipo          USA         PA   Philadelphia                 Radnor   \n",
       "66352       ipo          USA         CA    SF Bay Area          San Francisco   \n",
       "66358    closed          MYS         14    MYS - Other  Damansara New Village   \n",
       "66360  acquired          USA         WI      Milwaukee              Milwaukee   \n",
       "\n",
       "       funding_rounds  founded_at first_funding_at last_funding_at  \n",
       "15                  1  2012-03-01       2015-03-17      2015-03-17  \n",
       "20                  1  2009-01-01       2009-05-15      2009-05-15  \n",
       "23                  2  2010-07-01       2010-01-01      2011-02-16  \n",
       "31                  2  2011-09-16       2011-11-02      2011-11-30  \n",
       "32                  1  2000-01-01       2010-03-08      2010-03-08  \n",
       "...               ...         ...              ...             ...  \n",
       "66349               2  2009-09-01       2011-04-05      2012-02-03  \n",
       "66350               1  2014-01-01       2014-10-14      2014-10-14  \n",
       "66352               9  2007-07-01       2007-01-01      2011-02-18  \n",
       "66358               4  1994-01-01       2008-01-01      2013-02-15  \n",
       "66360               1         NaN       2004-12-16      2004-12-16  \n",
       "\n",
       "[13334 rows x 14 columns]"
      ]
     },
     "execution_count": 7,
     "metadata": {},
     "output_type": "execute_result"
    }
   ],
   "source": [
    "valid_index = (~(raw_data['status'] == 'operating'))\n",
    "\n",
    "raw_data = raw_data[valid_index]\n",
    "\n",
    "raw_data"
   ]
  },
  {
   "cell_type": "markdown",
   "id": "275582df",
   "metadata": {},
   "source": [
    "### Check Duplicate Startup Name"
   ]
  },
  {
   "cell_type": "code",
   "execution_count": 8,
   "id": "82d45e36",
   "metadata": {},
   "outputs": [
    {
     "data": {
      "text/plain": [
       "SpaceConnect              2\n",
       "SquareOne                 2\n",
       "Stream                    2\n",
       "Bloodhound                2\n",
       "Stupsr                    2\n",
       "Cardiovascular Systems    2\n",
       "SHIFT                     2\n",
       "Archive                   2\n",
       "Name: name, dtype: int64"
      ]
     },
     "execution_count": 8,
     "metadata": {},
     "output_type": "execute_result"
    }
   ],
   "source": [
    "check_name = raw_data['name'].value_counts()\n",
    "\n",
    "check_name[check_name > 1]"
   ]
  },
  {
   "cell_type": "markdown",
   "id": "be7362c6",
   "metadata": {},
   "source": [
    "There are 239 duplicated startup name, lets check wheter the startup has the same name or the data is just duplicated by checking the permalink column."
   ]
  },
  {
   "cell_type": "code",
   "execution_count": 9,
   "id": "44d7541e",
   "metadata": {
    "scrolled": true
   },
   "outputs": [
    {
     "data": {
      "text/html": [
       "<div>\n",
       "<style scoped>\n",
       "    .dataframe tbody tr th:only-of-type {\n",
       "        vertical-align: middle;\n",
       "    }\n",
       "\n",
       "    .dataframe tbody tr th {\n",
       "        vertical-align: top;\n",
       "    }\n",
       "\n",
       "    .dataframe thead th {\n",
       "        text-align: right;\n",
       "    }\n",
       "</style>\n",
       "<table border=\"1\" class=\"dataframe\">\n",
       "  <thead>\n",
       "    <tr style=\"text-align: right;\">\n",
       "      <th></th>\n",
       "      <th>permalink</th>\n",
       "      <th>name</th>\n",
       "    </tr>\n",
       "  </thead>\n",
       "  <tbody>\n",
       "    <tr>\n",
       "      <th>4120</th>\n",
       "      <td>/organization/archive</td>\n",
       "      <td>Archive</td>\n",
       "    </tr>\n",
       "    <tr>\n",
       "      <th>4121</th>\n",
       "      <td>/organization/archive-2</td>\n",
       "      <td>Archive</td>\n",
       "    </tr>\n",
       "    <tr>\n",
       "      <th>7537</th>\n",
       "      <td>/organization/bloodhound</td>\n",
       "      <td>Bloodhound</td>\n",
       "    </tr>\n",
       "    <tr>\n",
       "      <th>7538</th>\n",
       "      <td>/organization/bloodhound-2</td>\n",
       "      <td>Bloodhound</td>\n",
       "    </tr>\n",
       "    <tr>\n",
       "      <th>9738</th>\n",
       "      <td>/organization/cardiovascular-systems</td>\n",
       "      <td>Cardiovascular Systems</td>\n",
       "    </tr>\n",
       "    <tr>\n",
       "      <th>9739</th>\n",
       "      <td>/organization/cardiovascular-systems-incorporated</td>\n",
       "      <td>Cardiovascular Systems</td>\n",
       "    </tr>\n",
       "    <tr>\n",
       "      <th>51149</th>\n",
       "      <td>/organization/shift</td>\n",
       "      <td>SHIFT</td>\n",
       "    </tr>\n",
       "    <tr>\n",
       "      <th>51151</th>\n",
       "      <td>/organization/shift-4</td>\n",
       "      <td>SHIFT</td>\n",
       "    </tr>\n",
       "    <tr>\n",
       "      <th>53581</th>\n",
       "      <td>/organization/spaceconnect</td>\n",
       "      <td>SpaceConnect</td>\n",
       "    </tr>\n",
       "    <tr>\n",
       "      <th>53582</th>\n",
       "      <td>/organization/spaceconnect-2</td>\n",
       "      <td>SpaceConnect</td>\n",
       "    </tr>\n",
       "    <tr>\n",
       "      <th>54305</th>\n",
       "      <td>/organization/squareone</td>\n",
       "      <td>SquareOne</td>\n",
       "    </tr>\n",
       "    <tr>\n",
       "      <th>54306</th>\n",
       "      <td>/organization/squareone-2</td>\n",
       "      <td>SquareOne</td>\n",
       "    </tr>\n",
       "    <tr>\n",
       "      <th>54968</th>\n",
       "      <td>/organization/stream</td>\n",
       "      <td>Stream</td>\n",
       "    </tr>\n",
       "    <tr>\n",
       "      <th>54969</th>\n",
       "      <td>/organization/stream-4</td>\n",
       "      <td>Stream</td>\n",
       "    </tr>\n",
       "    <tr>\n",
       "      <th>55154</th>\n",
       "      <td>/organization/stupsr</td>\n",
       "      <td>Stupsr</td>\n",
       "    </tr>\n",
       "    <tr>\n",
       "      <th>55155</th>\n",
       "      <td>/organization/stupsr-2</td>\n",
       "      <td>Stupsr</td>\n",
       "    </tr>\n",
       "  </tbody>\n",
       "</table>\n",
       "</div>"
      ],
      "text/plain": [
       "                                               permalink  \\\n",
       "4120                               /organization/archive   \n",
       "4121                             /organization/archive-2   \n",
       "7537                            /organization/bloodhound   \n",
       "7538                          /organization/bloodhound-2   \n",
       "9738                /organization/cardiovascular-systems   \n",
       "9739   /organization/cardiovascular-systems-incorporated   \n",
       "51149                                /organization/shift   \n",
       "51151                              /organization/shift-4   \n",
       "53581                         /organization/spaceconnect   \n",
       "53582                       /organization/spaceconnect-2   \n",
       "54305                            /organization/squareone   \n",
       "54306                          /organization/squareone-2   \n",
       "54968                               /organization/stream   \n",
       "54969                             /organization/stream-4   \n",
       "55154                               /organization/stupsr   \n",
       "55155                             /organization/stupsr-2   \n",
       "\n",
       "                         name  \n",
       "4120                  Archive  \n",
       "4121                  Archive  \n",
       "7537               Bloodhound  \n",
       "7538               Bloodhound  \n",
       "9738   Cardiovascular Systems  \n",
       "9739   Cardiovascular Systems  \n",
       "51149                   SHIFT  \n",
       "51151                   SHIFT  \n",
       "53581            SpaceConnect  \n",
       "53582            SpaceConnect  \n",
       "54305               SquareOne  \n",
       "54306               SquareOne  \n",
       "54968                  Stream  \n",
       "54969                  Stream  \n",
       "55154                  Stupsr  \n",
       "55155                  Stupsr  "
      ]
     },
     "execution_count": 9,
     "metadata": {},
     "output_type": "execute_result"
    }
   ],
   "source": [
    "duplicate_name = check_name[check_name > 1].index\n",
    "\n",
    "duplicate_inspect = raw_data[raw_data['name'].str.fullmatch('|'.join(duplicate_name)) == True]\n",
    "\n",
    "duplicate_inspect[['permalink', 'name']]"
   ]
  },
  {
   "cell_type": "markdown",
   "id": "d7e8e5a2",
   "metadata": {},
   "source": [
    "Lets check the uniqueness of permalink column."
   ]
  },
  {
   "cell_type": "code",
   "execution_count": 10,
   "id": "36b7de3e",
   "metadata": {},
   "outputs": [
    {
     "data": {
      "text/plain": [
       "permalink    16\n",
       "name          8\n",
       "dtype: int64"
      ]
     },
     "execution_count": 10,
     "metadata": {},
     "output_type": "execute_result"
    }
   ],
   "source": [
    "duplicate_inspect[['permalink', 'name']].nunique()"
   ]
  },
  {
   "cell_type": "markdown",
   "id": "2959a3bb",
   "metadata": {},
   "source": [
    "The permalink is unique! However, one thing that bother me is that some of the duplicated startup name have similiar permalink, for example '3DIVAZ' startup have permalink '/organization/3divaz-2' and '/organization/3divaz-3', it could be that the data was inputed two times and the permalink is set to unique in the beginning, hence it automatically iterate the permalink name if the input data is same. But it is just speculation, we don't have enough information about the data. So for now lets assume these startup coincidentally have the same name."
   ]
  },
  {
   "cell_type": "markdown",
   "id": "a61af9df",
   "metadata": {},
   "source": [
    "### Check Data Types"
   ]
  },
  {
   "cell_type": "code",
   "execution_count": 11,
   "id": "a211c42e",
   "metadata": {
    "scrolled": false
   },
   "outputs": [
    {
     "name": "stdout",
     "output_type": "stream",
     "text": [
      "<class 'pandas.core.frame.DataFrame'>\n",
      "Int64Index: 13334 entries, 15 to 66360\n",
      "Data columns (total 14 columns):\n",
      " #   Column             Non-Null Count  Dtype \n",
      "---  ------             --------------  ----- \n",
      " 0   permalink          13334 non-null  object\n",
      " 1   name               13333 non-null  object\n",
      " 2   homepage_url       12117 non-null  object\n",
      " 3   category_list      12248 non-null  object\n",
      " 4   funding_total_usd  13334 non-null  object\n",
      " 5   status             13334 non-null  object\n",
      " 6   country_code       11343 non-null  object\n",
      " 7   state_code         11125 non-null  object\n",
      " 8   region             11182 non-null  object\n",
      " 9   city               11182 non-null  object\n",
      " 10  funding_rounds     13334 non-null  int64 \n",
      " 11  founded_at         9602 non-null   object\n",
      " 12  first_funding_at   13332 non-null  object\n",
      " 13  last_funding_at    13334 non-null  object\n",
      "dtypes: int64(1), object(13)\n",
      "memory usage: 1.5+ MB\n"
     ]
    }
   ],
   "source": [
    "raw_data.info()"
   ]
  },
  {
   "cell_type": "markdown",
   "id": "7432c335",
   "metadata": {},
   "source": [
    "The funding_total_usd data type is wrong, it should be float. Lets check how many data that have '-' element."
   ]
  },
  {
   "cell_type": "code",
   "execution_count": 12,
   "id": "be06ecac",
   "metadata": {},
   "outputs": [
    {
     "data": {
      "text/plain": [
       "False    11143\n",
       "True      2191\n",
       "Name: funding_total_usd, dtype: int64"
      ]
     },
     "execution_count": 12,
     "metadata": {},
     "output_type": "execute_result"
    }
   ],
   "source": [
    "(raw_data['funding_total_usd'] == '-').value_counts()"
   ]
  },
  {
   "cell_type": "code",
   "execution_count": 13,
   "id": "8a298e0a",
   "metadata": {
    "scrolled": true
   },
   "outputs": [
    {
     "data": {
      "text/html": [
       "<div>\n",
       "<style scoped>\n",
       "    .dataframe tbody tr th:only-of-type {\n",
       "        vertical-align: middle;\n",
       "    }\n",
       "\n",
       "    .dataframe tbody tr th {\n",
       "        vertical-align: top;\n",
       "    }\n",
       "\n",
       "    .dataframe thead th {\n",
       "        text-align: right;\n",
       "    }\n",
       "</style>\n",
       "<table border=\"1\" class=\"dataframe\">\n",
       "  <thead>\n",
       "    <tr style=\"text-align: right;\">\n",
       "      <th></th>\n",
       "      <th>permalink</th>\n",
       "      <th>name</th>\n",
       "      <th>homepage_url</th>\n",
       "      <th>category_list</th>\n",
       "      <th>funding_total_usd</th>\n",
       "      <th>status</th>\n",
       "      <th>country_code</th>\n",
       "      <th>state_code</th>\n",
       "      <th>region</th>\n",
       "      <th>city</th>\n",
       "      <th>funding_rounds</th>\n",
       "      <th>founded_at</th>\n",
       "      <th>first_funding_at</th>\n",
       "      <th>last_funding_at</th>\n",
       "    </tr>\n",
       "  </thead>\n",
       "  <tbody>\n",
       "    <tr>\n",
       "      <th>15</th>\n",
       "      <td>/organization/1-mainstream</td>\n",
       "      <td>1 Mainstream</td>\n",
       "      <td>http://www.1mainstream.com</td>\n",
       "      <td>Apps|Cable|Distribution|Software</td>\n",
       "      <td>5000000.0</td>\n",
       "      <td>acquired</td>\n",
       "      <td>USA</td>\n",
       "      <td>CA</td>\n",
       "      <td>SF Bay Area</td>\n",
       "      <td>Cupertino</td>\n",
       "      <td>1</td>\n",
       "      <td>2012-03-01</td>\n",
       "      <td>2015-03-17</td>\n",
       "      <td>2015-03-17</td>\n",
       "    </tr>\n",
       "    <tr>\n",
       "      <th>20</th>\n",
       "      <td>/organization/1000-markets</td>\n",
       "      <td>1000 Markets</td>\n",
       "      <td>http://www.1000markets.com</td>\n",
       "      <td>Art|E-Commerce|Marketplaces</td>\n",
       "      <td>500000.0</td>\n",
       "      <td>acquired</td>\n",
       "      <td>USA</td>\n",
       "      <td>WA</td>\n",
       "      <td>Seattle</td>\n",
       "      <td>Seattle</td>\n",
       "      <td>1</td>\n",
       "      <td>2009-01-01</td>\n",
       "      <td>2009-05-15</td>\n",
       "      <td>2009-05-15</td>\n",
       "    </tr>\n",
       "    <tr>\n",
       "      <th>23</th>\n",
       "      <td>/organization/1000memories</td>\n",
       "      <td>1000memories</td>\n",
       "      <td>http://1000memories.com</td>\n",
       "      <td>Curated Web</td>\n",
       "      <td>2535000.0</td>\n",
       "      <td>acquired</td>\n",
       "      <td>USA</td>\n",
       "      <td>CA</td>\n",
       "      <td>SF Bay Area</td>\n",
       "      <td>San Francisco</td>\n",
       "      <td>2</td>\n",
       "      <td>2010-07-01</td>\n",
       "      <td>2010-01-01</td>\n",
       "      <td>2011-02-16</td>\n",
       "    </tr>\n",
       "    <tr>\n",
       "      <th>31</th>\n",
       "      <td>/organization/100plus</td>\n",
       "      <td>100Plus</td>\n",
       "      <td>http://www.100plus.com</td>\n",
       "      <td>Analytics</td>\n",
       "      <td>1250000.0</td>\n",
       "      <td>acquired</td>\n",
       "      <td>USA</td>\n",
       "      <td>CA</td>\n",
       "      <td>SF Bay Area</td>\n",
       "      <td>San Francisco</td>\n",
       "      <td>2</td>\n",
       "      <td>2011-09-16</td>\n",
       "      <td>2011-11-02</td>\n",
       "      <td>2011-11-30</td>\n",
       "    </tr>\n",
       "    <tr>\n",
       "      <th>32</th>\n",
       "      <td>/organization/1010data</td>\n",
       "      <td>1010data</td>\n",
       "      <td>http://www.1010data.com</td>\n",
       "      <td>Software</td>\n",
       "      <td>35000000.0</td>\n",
       "      <td>acquired</td>\n",
       "      <td>USA</td>\n",
       "      <td>NY</td>\n",
       "      <td>New York City</td>\n",
       "      <td>New York</td>\n",
       "      <td>1</td>\n",
       "      <td>2000-01-01</td>\n",
       "      <td>2010-03-08</td>\n",
       "      <td>2010-03-08</td>\n",
       "    </tr>\n",
       "  </tbody>\n",
       "</table>\n",
       "</div>"
      ],
      "text/plain": [
       "                     permalink          name                homepage_url  \\\n",
       "15  /organization/1-mainstream  1 Mainstream  http://www.1mainstream.com   \n",
       "20  /organization/1000-markets  1000 Markets  http://www.1000markets.com   \n",
       "23  /organization/1000memories  1000memories     http://1000memories.com   \n",
       "31       /organization/100plus       100Plus      http://www.100plus.com   \n",
       "32      /organization/1010data      1010data     http://www.1010data.com   \n",
       "\n",
       "                       category_list  funding_total_usd    status  \\\n",
       "15  Apps|Cable|Distribution|Software          5000000.0  acquired   \n",
       "20       Art|E-Commerce|Marketplaces           500000.0  acquired   \n",
       "23                       Curated Web          2535000.0  acquired   \n",
       "31                         Analytics          1250000.0  acquired   \n",
       "32                          Software         35000000.0  acquired   \n",
       "\n",
       "   country_code state_code         region           city  funding_rounds  \\\n",
       "15          USA         CA    SF Bay Area      Cupertino               1   \n",
       "20          USA         WA        Seattle        Seattle               1   \n",
       "23          USA         CA    SF Bay Area  San Francisco               2   \n",
       "31          USA         CA    SF Bay Area  San Francisco               2   \n",
       "32          USA         NY  New York City       New York               1   \n",
       "\n",
       "    founded_at first_funding_at last_funding_at  \n",
       "15  2012-03-01       2015-03-17      2015-03-17  \n",
       "20  2009-01-01       2009-05-15      2009-05-15  \n",
       "23  2010-07-01       2010-01-01      2011-02-16  \n",
       "31  2011-09-16       2011-11-02      2011-11-30  \n",
       "32  2000-01-01       2010-03-08      2010-03-08  "
      ]
     },
     "execution_count": 13,
     "metadata": {},
     "output_type": "execute_result"
    }
   ],
   "source": [
    "raw_data['funding_total_usd'] = pd.to_numeric(\n",
    "    arg=raw_data['funding_total_usd'],\n",
    "    errors='coerce',\n",
    "    downcast='float'\n",
    ")\n",
    "\n",
    "raw_data.head()"
   ]
  },
  {
   "cell_type": "markdown",
   "id": "63a522ab",
   "metadata": {},
   "source": [
    "Lets check again the NaN value after the conversion."
   ]
  },
  {
   "cell_type": "code",
   "execution_count": 14,
   "id": "25b75716",
   "metadata": {
    "scrolled": true
   },
   "outputs": [
    {
     "data": {
      "text/plain": [
       "False    11143\n",
       "True      2191\n",
       "Name: funding_total_usd, dtype: int64"
      ]
     },
     "execution_count": 14,
     "metadata": {},
     "output_type": "execute_result"
    }
   ],
   "source": [
    "raw_data['funding_total_usd'].isna().value_counts()"
   ]
  },
  {
   "cell_type": "markdown",
   "id": "26ffaca1",
   "metadata": {},
   "source": [
    "It same! we can conclude that all non-numeric data is '-' not number with string (e.g. 10 mil usd)."
   ]
  },
  {
   "cell_type": "markdown",
   "id": "81fbe8e8",
   "metadata": {},
   "source": [
    "## Visualize Data Distribution"
   ]
  },
  {
   "cell_type": "markdown",
   "id": "f76851b7",
   "metadata": {},
   "source": [
    "### Numeric Data"
   ]
  },
  {
   "cell_type": "code",
   "execution_count": 15,
   "id": "12cc3198",
   "metadata": {
    "scrolled": false
   },
   "outputs": [
    {
     "data": {
      "image/png": "[encoded data removed]",
      "text/plain": [
       "<Figure size 2000x400 with 2 Axes>"
      ]
     },
     "metadata": {},
     "output_type": "display_data"
    }
   ],
   "source": [
    "raw_data.hist(bins=100, figsize=(20, 4))\n",
    "\n",
    "plt.show()"
   ]
  },
  {
   "cell_type": "markdown",
   "id": "ff88c791",
   "metadata": {},
   "source": [
    "The funding_total_usd column distribution is hard to see, since it has a lot of outliers. So lets inspect the funding_total_usd column."
   ]
  },
  {
   "cell_type": "code",
   "execution_count": 16,
   "id": "5a8a738e",
   "metadata": {},
   "outputs": [
    {
     "data": {
      "text/plain": [
       "count    1.114300e+04\n",
       "mean     3.580863e+07\n",
       "std      3.687556e+08\n",
       "min      2.000000e+00\n",
       "25%      1.000000e+06\n",
       "50%      5.800000e+06\n",
       "75%      2.200000e+07\n",
       "max      3.007950e+10\n",
       "Name: funding_total_usd, dtype: float64"
      ]
     },
     "execution_count": 16,
     "metadata": {},
     "output_type": "execute_result"
    }
   ],
   "source": [
    "raw_data['funding_total_usd'].describe()"
   ]
  },
  {
   "attachments": {
    "image.png": {
     "image/png": "[encoded data removed]"
    }
   },
   "cell_type": "markdown",
   "id": "ad135860",
   "metadata": {},
   "source": [
    "The minimum value is 1 usd, which is doesn't make any sense, there is no way someone is funding a startup by 2 usd (it could be an invalid input). Lets check it further by using interquartile rule to find outliers.\n",
    "![image.png](attachment:image.png)\n",
    "Source: https://www.thoughtco.com/what-is-the-interquartile-range-rule-3126244"
   ]
  },
  {
   "cell_type": "code",
   "execution_count": 17,
   "id": "c2ec61ea",
   "metadata": {},
   "outputs": [],
   "source": [
    "def find_outliers(data):\n",
    "    data = np.array(data.dropna())\n",
    "    \n",
    "    inter_quant = np.quantile(data, 0.75) - np.quantile(data, 0.25)\n",
    "    \n",
    "    upper_bound = np.quantile(data, 0.75) + 1.5*inter_quant\n",
    "    lower_bound = np.quantile(data, 0.25) - 1.5*inter_quant\n",
    "    \n",
    "    lower_outliers = data < lower_bound\n",
    "    upper_outliers = data > upper_bound\n",
    "    \n",
    "    return pd.Series(lower_outliers | upper_outliers)"
   ]
  },
  {
   "cell_type": "code",
   "execution_count": 18,
   "id": "91342ada",
   "metadata": {},
   "outputs": [
    {
     "data": {
      "text/plain": [
       "0        False\n",
       "1        False\n",
       "2        False\n",
       "3        False\n",
       "4        False\n",
       "         ...  \n",
       "11138    False\n",
       "11139    False\n",
       "11140     True\n",
       "11141    False\n",
       "11142    False\n",
       "Length: 11143, dtype: bool"
      ]
     },
     "execution_count": 18,
     "metadata": {},
     "output_type": "execute_result"
    }
   ],
   "source": [
    "outliers = find_outliers(raw_data['funding_total_usd'])\n",
    "\n",
    "\n",
    "outliers"
   ]
  },
  {
   "cell_type": "markdown",
   "id": "01abe570",
   "metadata": {},
   "source": [
    "Lets check if our desired outliers (small number) still exist or not."
   ]
  },
  {
   "cell_type": "code",
   "execution_count": 23,
   "id": "0d4d9c60",
   "metadata": {
    "scrolled": false
   },
   "outputs": [
    {
     "data": {
      "text/html": [
       "<div>\n",
       "<style scoped>\n",
       "    .dataframe tbody tr th:only-of-type {\n",
       "        vertical-align: middle;\n",
       "    }\n",
       "\n",
       "    .dataframe tbody tr th {\n",
       "        vertical-align: top;\n",
       "    }\n",
       "\n",
       "    .dataframe thead th {\n",
       "        text-align: right;\n",
       "    }\n",
       "</style>\n",
       "<table border=\"1\" class=\"dataframe\">\n",
       "  <thead>\n",
       "    <tr style=\"text-align: right;\">\n",
       "      <th></th>\n",
       "      <th>funding_total_usd</th>\n",
       "    </tr>\n",
       "  </thead>\n",
       "  <tbody>\n",
       "    <tr>\n",
       "      <th>count</th>\n",
       "      <td>9.855000e+03</td>\n",
       "    </tr>\n",
       "    <tr>\n",
       "      <th>mean</th>\n",
       "      <td>9.508785e+06</td>\n",
       "    </tr>\n",
       "    <tr>\n",
       "      <th>std</th>\n",
       "      <td>1.222009e+07</td>\n",
       "    </tr>\n",
       "    <tr>\n",
       "      <th>min</th>\n",
       "      <td>2.000000e+00</td>\n",
       "    </tr>\n",
       "    <tr>\n",
       "      <th>25%</th>\n",
       "      <td>7.000000e+05</td>\n",
       "    </tr>\n",
       "    <tr>\n",
       "      <th>50%</th>\n",
       "      <td>4.000000e+06</td>\n",
       "    </tr>\n",
       "    <tr>\n",
       "      <th>75%</th>\n",
       "      <td>1.398045e+07</td>\n",
       "    </tr>\n",
       "    <tr>\n",
       "      <th>max</th>\n",
       "      <td>5.350000e+07</td>\n",
       "    </tr>\n",
       "  </tbody>\n",
       "</table>\n",
       "</div>"
      ],
      "text/plain": [
       "       funding_total_usd\n",
       "count       9.855000e+03\n",
       "mean        9.508785e+06\n",
       "std         1.222009e+07\n",
       "min         2.000000e+00\n",
       "25%         7.000000e+05\n",
       "50%         4.000000e+06\n",
       "75%         1.398045e+07\n",
       "max         5.350000e+07"
      ]
     },
     "execution_count": 23,
     "metadata": {},
     "output_type": "execute_result"
    }
   ],
   "source": [
    "raw_data[['funding_total_usd']].dropna().reset_index(drop=True)[~outliers].describe()"
   ]
  },
  {
   "cell_type": "markdown",
   "id": "4dd22646",
   "metadata": {},
   "source": [
    "Nope, the interquartile method just remove the upper outliers. Which is in this context, it still possible for startup to get up to 1x10^10 usd fund, so lets keep the upper bound outliers. We will consider snother method to remove lower bound outliers. Let set a threshold for 1000 usd, it means anything under 1000 usd fund considered as invalid input."
   ]
  },
  {
   "cell_type": "code",
   "execution_count": 20,
   "id": "6e813fe0",
   "metadata": {},
   "outputs": [
    {
     "data": {
      "text/html": [
       "<div>\n",
       "<style scoped>\n",
       "    .dataframe tbody tr th:only-of-type {\n",
       "        vertical-align: middle;\n",
       "    }\n",
       "\n",
       "    .dataframe tbody tr th {\n",
       "        vertical-align: top;\n",
       "    }\n",
       "\n",
       "    .dataframe thead th {\n",
       "        text-align: right;\n",
       "    }\n",
       "</style>\n",
       "<table border=\"1\" class=\"dataframe\">\n",
       "  <thead>\n",
       "    <tr style=\"text-align: right;\">\n",
       "      <th></th>\n",
       "      <th>funding_total_usd</th>\n",
       "    </tr>\n",
       "  </thead>\n",
       "  <tbody>\n",
       "    <tr>\n",
       "      <th>15</th>\n",
       "      <td>5000000.0</td>\n",
       "    </tr>\n",
       "    <tr>\n",
       "      <th>20</th>\n",
       "      <td>500000.0</td>\n",
       "    </tr>\n",
       "    <tr>\n",
       "      <th>23</th>\n",
       "      <td>2535000.0</td>\n",
       "    </tr>\n",
       "    <tr>\n",
       "      <th>31</th>\n",
       "      <td>1250000.0</td>\n",
       "    </tr>\n",
       "    <tr>\n",
       "      <th>32</th>\n",
       "      <td>35000000.0</td>\n",
       "    </tr>\n",
       "    <tr>\n",
       "      <th>...</th>\n",
       "      <td>...</td>\n",
       "    </tr>\n",
       "    <tr>\n",
       "      <th>66349</th>\n",
       "      <td>3805520.0</td>\n",
       "    </tr>\n",
       "    <tr>\n",
       "      <th>66350</th>\n",
       "      <td>13000000.0</td>\n",
       "    </tr>\n",
       "    <tr>\n",
       "      <th>66352</th>\n",
       "      <td>866550786.0</td>\n",
       "    </tr>\n",
       "    <tr>\n",
       "      <th>66358</th>\n",
       "      <td>15419877.0</td>\n",
       "    </tr>\n",
       "    <tr>\n",
       "      <th>66360</th>\n",
       "      <td>8500000.0</td>\n",
       "    </tr>\n",
       "  </tbody>\n",
       "</table>\n",
       "<p>13330 rows × 1 columns</p>\n",
       "</div>"
      ],
      "text/plain": [
       "       funding_total_usd\n",
       "15             5000000.0\n",
       "20              500000.0\n",
       "23             2535000.0\n",
       "31             1250000.0\n",
       "32            35000000.0\n",
       "...                  ...\n",
       "66349          3805520.0\n",
       "66350         13000000.0\n",
       "66352        866550786.0\n",
       "66358         15419877.0\n",
       "66360          8500000.0\n",
       "\n",
       "[13330 rows x 1 columns]"
      ]
     },
     "execution_count": 20,
     "metadata": {},
     "output_type": "execute_result"
    }
   ],
   "source": [
    "valid_input = ~(raw_data['funding_total_usd'] < 1000)\n",
    "\n",
    "raw_data[['funding_total_usd']][valid_input]"
   ]
  },
  {
   "cell_type": "markdown",
   "id": "2d190d8c",
   "metadata": {},
   "source": [
    "Lets see what row that has invalid input in funding_total_usd column."
   ]
  },
  {
   "cell_type": "code",
   "execution_count": 21,
   "id": "f5ceb001",
   "metadata": {},
   "outputs": [
    {
     "data": {
      "text/plain": [
       "Int64Index([6371, 6487, 55916, 66220], dtype='int64')"
      ]
     },
     "execution_count": 21,
     "metadata": {},
     "output_type": "execute_result"
    }
   ],
   "source": [
    "invalid_input_id = raw_data[['funding_total_usd']][~valid_input].index\n",
    "\n",
    "invalid_input_id"
   ]
  },
  {
   "cell_type": "code",
   "execution_count": 47,
   "id": "709b36e6",
   "metadata": {
    "scrolled": false
   },
   "outputs": [],
   "source": [
    "raw_data = raw_data.drop(\n",
    "    invalid_input_id,\n",
    "    errors='ignore'\n",
    ")"
   ]
  },
  {
   "cell_type": "markdown",
   "id": "25a7487f",
   "metadata": {},
   "source": [
    "Lets visualize the distribution."
   ]
  },
  {
   "cell_type": "code",
   "execution_count": 48,
   "id": "d0c7ef65",
   "metadata": {},
   "outputs": [
    {
     "data": {
      "image/png": "[encoded data removed]",
      "text/plain": [
       "<Figure size 2000x400 with 2 Axes>"
      ]
     },
     "metadata": {},
     "output_type": "display_data"
    }
   ],
   "source": [
    "raw_data.hist(\n",
    "    bins=100,\n",
    "    figsize=(20, 4)\n",
    ")\n",
    "\n",
    "plt.show()"
   ]
  },
  {
   "cell_type": "markdown",
   "id": "28245a91",
   "metadata": {},
   "source": [
    "It still not clear what happened with the distribution (we just eliminate the lower bound outliers, where the main problem of unclear visualization is the upper bound outliers). Lets visualize the categorical data."
   ]
  },
  {
   "cell_type": "markdown",
   "id": "f7cb6239",
   "metadata": {},
   "source": [
    "### Categorical Data"
   ]
  },
  {
   "cell_type": "code",
   "execution_count": 49,
   "id": "b746f632",
   "metadata": {},
   "outputs": [
    {
     "data": {
      "text/html": [
       "<div>\n",
       "<style scoped>\n",
       "    .dataframe tbody tr th:only-of-type {\n",
       "        vertical-align: middle;\n",
       "    }\n",
       "\n",
       "    .dataframe tbody tr th {\n",
       "        vertical-align: top;\n",
       "    }\n",
       "\n",
       "    .dataframe thead th {\n",
       "        text-align: right;\n",
       "    }\n",
       "</style>\n",
       "<table border=\"1\" class=\"dataframe\">\n",
       "  <thead>\n",
       "    <tr style=\"text-align: right;\">\n",
       "      <th></th>\n",
       "      <th>permalink</th>\n",
       "      <th>name</th>\n",
       "      <th>homepage_url</th>\n",
       "      <th>category_list</th>\n",
       "      <th>status</th>\n",
       "      <th>country_code</th>\n",
       "      <th>state_code</th>\n",
       "      <th>region</th>\n",
       "      <th>city</th>\n",
       "      <th>founded_at</th>\n",
       "      <th>first_funding_at</th>\n",
       "      <th>last_funding_at</th>\n",
       "    </tr>\n",
       "  </thead>\n",
       "  <tbody>\n",
       "    <tr>\n",
       "      <th>15</th>\n",
       "      <td>/organization/1-mainstream</td>\n",
       "      <td>1 Mainstream</td>\n",
       "      <td>http://www.1mainstream.com</td>\n",
       "      <td>Apps|Cable|Distribution|Software</td>\n",
       "      <td>acquired</td>\n",
       "      <td>USA</td>\n",
       "      <td>CA</td>\n",
       "      <td>SF Bay Area</td>\n",
       "      <td>Cupertino</td>\n",
       "      <td>2012-03-01</td>\n",
       "      <td>2015-03-17</td>\n",
       "      <td>2015-03-17</td>\n",
       "    </tr>\n",
       "    <tr>\n",
       "      <th>20</th>\n",
       "      <td>/organization/1000-markets</td>\n",
       "      <td>1000 Markets</td>\n",
       "      <td>http://www.1000markets.com</td>\n",
       "      <td>Art|E-Commerce|Marketplaces</td>\n",
       "      <td>acquired</td>\n",
       "      <td>USA</td>\n",
       "      <td>WA</td>\n",
       "      <td>Seattle</td>\n",
       "      <td>Seattle</td>\n",
       "      <td>2009-01-01</td>\n",
       "      <td>2009-05-15</td>\n",
       "      <td>2009-05-15</td>\n",
       "    </tr>\n",
       "    <tr>\n",
       "      <th>23</th>\n",
       "      <td>/organization/1000memories</td>\n",
       "      <td>1000memories</td>\n",
       "      <td>http://1000memories.com</td>\n",
       "      <td>Curated Web</td>\n",
       "      <td>acquired</td>\n",
       "      <td>USA</td>\n",
       "      <td>CA</td>\n",
       "      <td>SF Bay Area</td>\n",
       "      <td>San Francisco</td>\n",
       "      <td>2010-07-01</td>\n",
       "      <td>2010-01-01</td>\n",
       "      <td>2011-02-16</td>\n",
       "    </tr>\n",
       "    <tr>\n",
       "      <th>31</th>\n",
       "      <td>/organization/100plus</td>\n",
       "      <td>100Plus</td>\n",
       "      <td>http://www.100plus.com</td>\n",
       "      <td>Analytics</td>\n",
       "      <td>acquired</td>\n",
       "      <td>USA</td>\n",
       "      <td>CA</td>\n",
       "      <td>SF Bay Area</td>\n",
       "      <td>San Francisco</td>\n",
       "      <td>2011-09-16</td>\n",
       "      <td>2011-11-02</td>\n",
       "      <td>2011-11-30</td>\n",
       "    </tr>\n",
       "    <tr>\n",
       "      <th>32</th>\n",
       "      <td>/organization/1010data</td>\n",
       "      <td>1010data</td>\n",
       "      <td>http://www.1010data.com</td>\n",
       "      <td>Software</td>\n",
       "      <td>acquired</td>\n",
       "      <td>USA</td>\n",
       "      <td>NY</td>\n",
       "      <td>New York City</td>\n",
       "      <td>New York</td>\n",
       "      <td>2000-01-01</td>\n",
       "      <td>2010-03-08</td>\n",
       "      <td>2010-03-08</td>\n",
       "    </tr>\n",
       "  </tbody>\n",
       "</table>\n",
       "</div>"
      ],
      "text/plain": [
       "                     permalink          name                homepage_url  \\\n",
       "15  /organization/1-mainstream  1 Mainstream  http://www.1mainstream.com   \n",
       "20  /organization/1000-markets  1000 Markets  http://www.1000markets.com   \n",
       "23  /organization/1000memories  1000memories     http://1000memories.com   \n",
       "31       /organization/100plus       100Plus      http://www.100plus.com   \n",
       "32      /organization/1010data      1010data     http://www.1010data.com   \n",
       "\n",
       "                       category_list    status country_code state_code  \\\n",
       "15  Apps|Cable|Distribution|Software  acquired          USA         CA   \n",
       "20       Art|E-Commerce|Marketplaces  acquired          USA         WA   \n",
       "23                       Curated Web  acquired          USA         CA   \n",
       "31                         Analytics  acquired          USA         CA   \n",
       "32                          Software  acquired          USA         NY   \n",
       "\n",
       "           region           city  founded_at first_funding_at last_funding_at  \n",
       "15    SF Bay Area      Cupertino  2012-03-01       2015-03-17      2015-03-17  \n",
       "20        Seattle        Seattle  2009-01-01       2009-05-15      2009-05-15  \n",
       "23    SF Bay Area  San Francisco  2010-07-01       2010-01-01      2011-02-16  \n",
       "31    SF Bay Area  San Francisco  2011-09-16       2011-11-02      2011-11-30  \n",
       "32  New York City       New York  2000-01-01       2010-03-08      2010-03-08  "
      ]
     },
     "execution_count": 49,
     "metadata": {},
     "output_type": "execute_result"
    }
   ],
   "source": [
    "cat_data = raw_data.select_dtypes(include=object)\n",
    "\n",
    "cat_data.head()"
   ]
  },
  {
   "cell_type": "code",
   "execution_count": 50,
   "id": "94405388",
   "metadata": {},
   "outputs": [
    {
     "data": {
      "text/plain": [
       "permalink           13330\n",
       "name                13321\n",
       "homepage_url        12096\n",
       "category_list        5745\n",
       "status                  3\n",
       "country_code           84\n",
       "state_code            209\n",
       "region                595\n",
       "city                 1711\n",
       "founded_at           1637\n",
       "first_funding_at     3789\n",
       "last_funding_at      3666\n",
       "dtype: int64"
      ]
     },
     "execution_count": 50,
     "metadata": {},
     "output_type": "execute_result"
    }
   ],
   "source": [
    "cat_data.nunique()"
   ]
  },
  {
   "cell_type": "markdown",
   "id": "7fd75729",
   "metadata": {},
   "source": [
    "That's a lot of unique values! Lets just plot the permalink, name, and hompeage_url because these columns almost unique, so there is no point to plot the distribution.\n",
    "<br>\n",
    "Next, lets inspect the category_list because it look like it has too many unique value. "
   ]
  },
  {
   "cell_type": "code",
   "execution_count": 51,
   "id": "7ff701d9",
   "metadata": {},
   "outputs": [
    {
     "data": {
      "text/html": [
       "<div>\n",
       "<style scoped>\n",
       "    .dataframe tbody tr th:only-of-type {\n",
       "        vertical-align: middle;\n",
       "    }\n",
       "\n",
       "    .dataframe tbody tr th {\n",
       "        vertical-align: top;\n",
       "    }\n",
       "\n",
       "    .dataframe thead th {\n",
       "        text-align: right;\n",
       "    }\n",
       "</style>\n",
       "<table border=\"1\" class=\"dataframe\">\n",
       "  <thead>\n",
       "    <tr style=\"text-align: right;\">\n",
       "      <th></th>\n",
       "      <th>permalink</th>\n",
       "      <th>name</th>\n",
       "      <th>homepage_url</th>\n",
       "      <th>category_list</th>\n",
       "      <th>status</th>\n",
       "      <th>country_code</th>\n",
       "      <th>state_code</th>\n",
       "      <th>region</th>\n",
       "      <th>city</th>\n",
       "      <th>founded_at</th>\n",
       "      <th>first_funding_at</th>\n",
       "      <th>last_funding_at</th>\n",
       "    </tr>\n",
       "  </thead>\n",
       "  <tbody>\n",
       "    <tr>\n",
       "      <th>15</th>\n",
       "      <td>/organization/1-mainstream</td>\n",
       "      <td>1 Mainstream</td>\n",
       "      <td>http://www.1mainstream.com</td>\n",
       "      <td>Apps|Cable|Distribution|Software</td>\n",
       "      <td>acquired</td>\n",
       "      <td>USA</td>\n",
       "      <td>CA</td>\n",
       "      <td>SF Bay Area</td>\n",
       "      <td>Cupertino</td>\n",
       "      <td>2012-03-01</td>\n",
       "      <td>2015-03-17</td>\n",
       "      <td>2015-03-17</td>\n",
       "    </tr>\n",
       "    <tr>\n",
       "      <th>20</th>\n",
       "      <td>/organization/1000-markets</td>\n",
       "      <td>1000 Markets</td>\n",
       "      <td>http://www.1000markets.com</td>\n",
       "      <td>Art|E-Commerce|Marketplaces</td>\n",
       "      <td>acquired</td>\n",
       "      <td>USA</td>\n",
       "      <td>WA</td>\n",
       "      <td>Seattle</td>\n",
       "      <td>Seattle</td>\n",
       "      <td>2009-01-01</td>\n",
       "      <td>2009-05-15</td>\n",
       "      <td>2009-05-15</td>\n",
       "    </tr>\n",
       "    <tr>\n",
       "      <th>23</th>\n",
       "      <td>/organization/1000memories</td>\n",
       "      <td>1000memories</td>\n",
       "      <td>http://1000memories.com</td>\n",
       "      <td>Curated Web</td>\n",
       "      <td>acquired</td>\n",
       "      <td>USA</td>\n",
       "      <td>CA</td>\n",
       "      <td>SF Bay Area</td>\n",
       "      <td>San Francisco</td>\n",
       "      <td>2010-07-01</td>\n",
       "      <td>2010-01-01</td>\n",
       "      <td>2011-02-16</td>\n",
       "    </tr>\n",
       "    <tr>\n",
       "      <th>31</th>\n",
       "      <td>/organization/100plus</td>\n",
       "      <td>100Plus</td>\n",
       "      <td>http://www.100plus.com</td>\n",
       "      <td>Analytics</td>\n",
       "      <td>acquired</td>\n",
       "      <td>USA</td>\n",
       "      <td>CA</td>\n",
       "      <td>SF Bay Area</td>\n",
       "      <td>San Francisco</td>\n",
       "      <td>2011-09-16</td>\n",
       "      <td>2011-11-02</td>\n",
       "      <td>2011-11-30</td>\n",
       "    </tr>\n",
       "    <tr>\n",
       "      <th>32</th>\n",
       "      <td>/organization/1010data</td>\n",
       "      <td>1010data</td>\n",
       "      <td>http://www.1010data.com</td>\n",
       "      <td>Software</td>\n",
       "      <td>acquired</td>\n",
       "      <td>USA</td>\n",
       "      <td>NY</td>\n",
       "      <td>New York City</td>\n",
       "      <td>New York</td>\n",
       "      <td>2000-01-01</td>\n",
       "      <td>2010-03-08</td>\n",
       "      <td>2010-03-08</td>\n",
       "    </tr>\n",
       "    <tr>\n",
       "      <th>...</th>\n",
       "      <td>...</td>\n",
       "      <td>...</td>\n",
       "      <td>...</td>\n",
       "      <td>...</td>\n",
       "      <td>...</td>\n",
       "      <td>...</td>\n",
       "      <td>...</td>\n",
       "      <td>...</td>\n",
       "      <td>...</td>\n",
       "      <td>...</td>\n",
       "      <td>...</td>\n",
       "      <td>...</td>\n",
       "    </tr>\n",
       "    <tr>\n",
       "      <th>66349</th>\n",
       "      <td>/organization/zyncro</td>\n",
       "      <td>Zyncro</td>\n",
       "      <td>http://www.zyncro.com</td>\n",
       "      <td>Cloud Computing|Enterprise 2.0|Enterprise Soft...</td>\n",
       "      <td>acquired</td>\n",
       "      <td>ESP</td>\n",
       "      <td>56</td>\n",
       "      <td>Barcelona</td>\n",
       "      <td>Barcelona</td>\n",
       "      <td>2009-09-01</td>\n",
       "      <td>2011-04-05</td>\n",
       "      <td>2012-02-03</td>\n",
       "    </tr>\n",
       "    <tr>\n",
       "      <th>66350</th>\n",
       "      <td>/organization/zynerba-pharmaceuticals</td>\n",
       "      <td>Zynerba Pharmaceuticals</td>\n",
       "      <td>http://zynerba.com</td>\n",
       "      <td>Pharmaceuticals</td>\n",
       "      <td>ipo</td>\n",
       "      <td>USA</td>\n",
       "      <td>PA</td>\n",
       "      <td>Philadelphia</td>\n",
       "      <td>Radnor</td>\n",
       "      <td>2014-01-01</td>\n",
       "      <td>2014-10-14</td>\n",
       "      <td>2014-10-14</td>\n",
       "    </tr>\n",
       "    <tr>\n",
       "      <th>66352</th>\n",
       "      <td>/organization/zynga</td>\n",
       "      <td>Zynga</td>\n",
       "      <td>http://www.zynga.com</td>\n",
       "      <td>Facebook Applications|Games|Networking|Technology</td>\n",
       "      <td>ipo</td>\n",
       "      <td>USA</td>\n",
       "      <td>CA</td>\n",
       "      <td>SF Bay Area</td>\n",
       "      <td>San Francisco</td>\n",
       "      <td>2007-07-01</td>\n",
       "      <td>2007-01-01</td>\n",
       "      <td>2011-02-18</td>\n",
       "    </tr>\n",
       "    <tr>\n",
       "      <th>66358</th>\n",
       "      <td>/organization/zyraz-technology</td>\n",
       "      <td>Zyraz Technology</td>\n",
       "      <td>http://www.zyraz.com</td>\n",
       "      <td>Biotechnology</td>\n",
       "      <td>closed</td>\n",
       "      <td>MYS</td>\n",
       "      <td>14</td>\n",
       "      <td>MYS - Other</td>\n",
       "      <td>Damansara New Village</td>\n",
       "      <td>1994-01-01</td>\n",
       "      <td>2008-01-01</td>\n",
       "      <td>2013-02-15</td>\n",
       "    </tr>\n",
       "    <tr>\n",
       "      <th>66360</th>\n",
       "      <td>/organization/zystor</td>\n",
       "      <td>Zystor</td>\n",
       "      <td>http://www.zystor.com</td>\n",
       "      <td>Biotechnology</td>\n",
       "      <td>acquired</td>\n",
       "      <td>USA</td>\n",
       "      <td>WI</td>\n",
       "      <td>Milwaukee</td>\n",
       "      <td>Milwaukee</td>\n",
       "      <td>NaN</td>\n",
       "      <td>2004-12-16</td>\n",
       "      <td>2004-12-16</td>\n",
       "    </tr>\n",
       "  </tbody>\n",
       "</table>\n",
       "<p>13330 rows × 12 columns</p>\n",
       "</div>"
      ],
      "text/plain": [
       "                                   permalink                     name  \\\n",
       "15                /organization/1-mainstream             1 Mainstream   \n",
       "20                /organization/1000-markets             1000 Markets   \n",
       "23                /organization/1000memories             1000memories   \n",
       "31                     /organization/100plus                  100Plus   \n",
       "32                    /organization/1010data                 1010data   \n",
       "...                                      ...                      ...   \n",
       "66349                   /organization/zyncro                   Zyncro   \n",
       "66350  /organization/zynerba-pharmaceuticals  Zynerba Pharmaceuticals   \n",
       "66352                    /organization/zynga                    Zynga   \n",
       "66358         /organization/zyraz-technology         Zyraz Technology   \n",
       "66360                   /organization/zystor                   Zystor   \n",
       "\n",
       "                     homepage_url  \\\n",
       "15     http://www.1mainstream.com   \n",
       "20     http://www.1000markets.com   \n",
       "23        http://1000memories.com   \n",
       "31         http://www.100plus.com   \n",
       "32        http://www.1010data.com   \n",
       "...                           ...   \n",
       "66349       http://www.zyncro.com   \n",
       "66350          http://zynerba.com   \n",
       "66352        http://www.zynga.com   \n",
       "66358        http://www.zyraz.com   \n",
       "66360       http://www.zystor.com   \n",
       "\n",
       "                                           category_list    status  \\\n",
       "15                      Apps|Cable|Distribution|Software  acquired   \n",
       "20                           Art|E-Commerce|Marketplaces  acquired   \n",
       "23                                           Curated Web  acquired   \n",
       "31                                             Analytics  acquired   \n",
       "32                                              Software  acquired   \n",
       "...                                                  ...       ...   \n",
       "66349  Cloud Computing|Enterprise 2.0|Enterprise Soft...  acquired   \n",
       "66350                                    Pharmaceuticals       ipo   \n",
       "66352  Facebook Applications|Games|Networking|Technology       ipo   \n",
       "66358                                      Biotechnology    closed   \n",
       "66360                                      Biotechnology  acquired   \n",
       "\n",
       "      country_code state_code         region                   city  \\\n",
       "15             USA         CA    SF Bay Area              Cupertino   \n",
       "20             USA         WA        Seattle                Seattle   \n",
       "23             USA         CA    SF Bay Area          San Francisco   \n",
       "31             USA         CA    SF Bay Area          San Francisco   \n",
       "32             USA         NY  New York City               New York   \n",
       "...            ...        ...            ...                    ...   \n",
       "66349          ESP         56      Barcelona              Barcelona   \n",
       "66350          USA         PA   Philadelphia                 Radnor   \n",
       "66352          USA         CA    SF Bay Area          San Francisco   \n",
       "66358          MYS         14    MYS - Other  Damansara New Village   \n",
       "66360          USA         WI      Milwaukee              Milwaukee   \n",
       "\n",
       "       founded_at first_funding_at last_funding_at  \n",
       "15     2012-03-01       2015-03-17      2015-03-17  \n",
       "20     2009-01-01       2009-05-15      2009-05-15  \n",
       "23     2010-07-01       2010-01-01      2011-02-16  \n",
       "31     2011-09-16       2011-11-02      2011-11-30  \n",
       "32     2000-01-01       2010-03-08      2010-03-08  \n",
       "...           ...              ...             ...  \n",
       "66349  2009-09-01       2011-04-05      2012-02-03  \n",
       "66350  2014-01-01       2014-10-14      2014-10-14  \n",
       "66352  2007-07-01       2007-01-01      2011-02-18  \n",
       "66358  1994-01-01       2008-01-01      2013-02-15  \n",
       "66360         NaN       2004-12-16      2004-12-16  \n",
       "\n",
       "[13330 rows x 12 columns]"
      ]
     },
     "execution_count": 51,
     "metadata": {},
     "output_type": "execute_result"
    }
   ],
   "source": [
    "cat_data"
   ]
  },
  {
   "cell_type": "code",
   "execution_count": 52,
   "id": "a666db38",
   "metadata": {},
   "outputs": [
    {
     "data": {
      "text/plain": [
       "Software                                                            917\n",
       "Biotechnology                                                       807\n",
       "Curated Web                                                         373\n",
       "Mobile                                                              272\n",
       "Enterprise Software                                                 247\n",
       "                                                                   ... \n",
       "Networking|Technology|Web Hosting                                     1\n",
       "E-Commerce|Facebook Applications                                      1\n",
       "Collaborative Consumption|E-Commerce|Marketplaces|Tourism|Travel      1\n",
       "Apps|Internet                                                         1\n",
       "Facebook Applications|Games|Networking|Technology                     1\n",
       "Name: category_list, Length: 5745, dtype: int64"
      ]
     },
     "execution_count": 52,
     "metadata": {},
     "output_type": "execute_result"
    }
   ],
   "source": [
    "count_categories = cat_data['category_list'].value_counts()\n",
    "\n",
    "count_categories"
   ]
  },
  {
   "cell_type": "markdown",
   "id": "1c13ceb3",
   "metadata": {},
   "source": [
    "As we can see, startup that has multiple categories treated as unique, for now lets drop these startup, we will come back later in data preprocessing to include it in machine learning pipeline.\n",
    "<br>\n",
    "We can see a pattern here, it consider multiple categories when '|' appears, so lets find these values"
   ]
  },
  {
   "cell_type": "code",
   "execution_count": 53,
   "id": "11396b9c",
   "metadata": {
    "scrolled": true
   },
   "outputs": [
    {
     "name": "stderr",
     "output_type": "stream",
     "text": [
      "/tmp/ipykernel_7232/235368749.py:1: FutureWarning: The default value of regex will change from True to False in a future version. In addition, single character regular expressions will *not* be treated as literal strings when regex=True.\n",
      "  mul_categories = count_categories.index.str.replace('|', ',').str.contains(',')\n"
     ]
    },
    {
     "data": {
      "text/plain": [
       "array([False, False, False, ...,  True,  True,  True])"
      ]
     },
     "execution_count": 53,
     "metadata": {},
     "output_type": "execute_result"
    }
   ],
   "source": [
    "mul_categories = count_categories.index.str.replace('|', ',').str.contains(',')\n",
    "\n",
    "mul_categories"
   ]
  },
  {
   "cell_type": "code",
   "execution_count": 54,
   "id": "707c43b2",
   "metadata": {},
   "outputs": [
    {
     "data": {
      "text/plain": [
       "Software               917\n",
       "Biotechnology          807\n",
       "Curated Web            373\n",
       "Mobile                 272\n",
       "Enterprise Software    247\n",
       "                      ... \n",
       "Trading                  1\n",
       "Clinical Trials          1\n",
       "Smart Grid               1\n",
       "Bitcoin                  1\n",
       "Developer APIs           1\n",
       "Name: category_list, Length: 214, dtype: int64"
      ]
     },
     "execution_count": 54,
     "metadata": {},
     "output_type": "execute_result"
    }
   ],
   "source": [
    "single_categories = count_categories[~mul_categories]\n",
    "\n",
    "single_categories"
   ]
  },
  {
   "cell_type": "markdown",
   "id": "379db571",
   "metadata": {},
   "source": [
    "We got the single_categories list! We will use it in data preprocessing to cluster the categories_list belong to one of these categories by using One Hot Encoder."
   ]
  },
  {
   "cell_type": "markdown",
   "id": "70e42be3",
   "metadata": {},
   "source": [
    "## Conclusion"
   ]
  },
  {
   "cell_type": "markdown",
   "id": "3d04ba2a",
   "metadata": {},
   "source": [
    "Lets wrap it up:\n",
    "1. SInce our objective is predict if startup success or not (ipo, acquired, closed), we drop the 'operating' rows.\n",
    "2. There are suspectible duplicate startup data, however permalink treat it as unique, so for now we assume these startups with the same name as unique.\n",
    "3. The funding_total_usd contains outliers (the lower bound one), since it doesn't make any sense for someone to fund a startup by just 2 usd...\n",
    "4. Some startups have multiple categories in category_list, we will transform it in data preprocessing later."
   ]
  }
 ],
 "metadata": {
  "kernelspec": {
   "display_name": "Python 3 (ipykernel)",
   "language": "python",
   "name": "python3"
  },
  "language_info": {
   "codemirror_mode": {
    "name": "ipython",
    "version": 3
   },
   "file_extension": ".py",
   "mimetype": "text/x-python",
   "name": "python",
   "nbconvert_exporter": "python",
   "pygments_lexer": "ipython3",
   "version": "3.11.0"
  }
 },
 "nbformat": 4,
 "nbformat_minor": 5
}
