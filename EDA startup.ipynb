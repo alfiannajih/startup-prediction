{
 "cells": [
  {
   "cell_type": "markdown",
   "id": "c042e764",
   "metadata": {},
   "source": [
    "## Import Data and Library"
   ]
  },
  {
   "cell_type": "markdown",
   "id": "4027aee8",
   "metadata": {},
   "source": [
    "### Import Library"
   ]
  },
  {
   "cell_type": "code",
   "execution_count": 1,
   "id": "dbade534",
   "metadata": {},
   "outputs": [],
   "source": [
    "import numpy as np\n",
    "import pandas as pd\n",
    "import seaborn as sns\n",
    "from matplotlib import pyplot as plt\n",
    "from zipfile import ZipFile"
   ]
  },
  {
   "cell_type": "markdown",
   "id": "cb53ab33",
   "metadata": {},
   "source": [
    "### Import Data"
   ]
  },
  {
   "cell_type": "code",
   "execution_count": 2,
   "id": "0f349d22",
   "metadata": {},
   "outputs": [],
   "source": [
    "with ZipFile('big-startup-secsees-fail-dataset-from-crunchbase.zip') as raw_zip:\n",
    "    raw_zip.extractall(path='datasets')\n",
    "    \n",
    "    raw_data = pd.read_csv('datasets/big_startup_secsees_dataset.csv')"
   ]
  },
  {
   "cell_type": "code",
   "execution_count": 3,
   "id": "e8c7294f",
   "metadata": {},
   "outputs": [
    {
     "data": {
      "text/html": [
       "<div>\n",
       "<style scoped>\n",
       "    .dataframe tbody tr th:only-of-type {\n",
       "        vertical-align: middle;\n",
       "    }\n",
       "\n",
       "    .dataframe tbody tr th {\n",
       "        vertical-align: top;\n",
       "    }\n",
       "\n",
       "    .dataframe thead th {\n",
       "        text-align: right;\n",
       "    }\n",
       "</style>\n",
       "<table border=\"1\" class=\"dataframe\">\n",
       "  <thead>\n",
       "    <tr style=\"text-align: right;\">\n",
       "      <th></th>\n",
       "      <th>permalink</th>\n",
       "      <th>name</th>\n",
       "      <th>homepage_url</th>\n",
       "      <th>category_list</th>\n",
       "      <th>funding_total_usd</th>\n",
       "      <th>status</th>\n",
       "      <th>country_code</th>\n",
       "      <th>state_code</th>\n",
       "      <th>region</th>\n",
       "      <th>city</th>\n",
       "      <th>funding_rounds</th>\n",
       "      <th>founded_at</th>\n",
       "      <th>first_funding_at</th>\n",
       "      <th>last_funding_at</th>\n",
       "    </tr>\n",
       "  </thead>\n",
       "  <tbody>\n",
       "    <tr>\n",
       "      <th>0</th>\n",
       "      <td>/organization/-fame</td>\n",
       "      <td>#fame</td>\n",
       "      <td>http://livfame.com</td>\n",
       "      <td>Media</td>\n",
       "      <td>10000000</td>\n",
       "      <td>operating</td>\n",
       "      <td>IND</td>\n",
       "      <td>16</td>\n",
       "      <td>Mumbai</td>\n",
       "      <td>Mumbai</td>\n",
       "      <td>1</td>\n",
       "      <td>NaN</td>\n",
       "      <td>2015-01-05</td>\n",
       "      <td>2015-01-05</td>\n",
       "    </tr>\n",
       "    <tr>\n",
       "      <th>1</th>\n",
       "      <td>/organization/-qounter</td>\n",
       "      <td>:Qounter</td>\n",
       "      <td>http://www.qounter.com</td>\n",
       "      <td>Application Platforms|Real Time|Social Network...</td>\n",
       "      <td>700000</td>\n",
       "      <td>operating</td>\n",
       "      <td>USA</td>\n",
       "      <td>DE</td>\n",
       "      <td>DE - Other</td>\n",
       "      <td>Delaware City</td>\n",
       "      <td>2</td>\n",
       "      <td>2014-09-04</td>\n",
       "      <td>2014-03-01</td>\n",
       "      <td>2014-10-14</td>\n",
       "    </tr>\n",
       "    <tr>\n",
       "      <th>2</th>\n",
       "      <td>/organization/-the-one-of-them-inc-</td>\n",
       "      <td>(THE) ONE of THEM,Inc.</td>\n",
       "      <td>http://oneofthem.jp</td>\n",
       "      <td>Apps|Games|Mobile</td>\n",
       "      <td>3406878</td>\n",
       "      <td>operating</td>\n",
       "      <td>NaN</td>\n",
       "      <td>NaN</td>\n",
       "      <td>NaN</td>\n",
       "      <td>NaN</td>\n",
       "      <td>1</td>\n",
       "      <td>NaN</td>\n",
       "      <td>2014-01-30</td>\n",
       "      <td>2014-01-30</td>\n",
       "    </tr>\n",
       "    <tr>\n",
       "      <th>3</th>\n",
       "      <td>/organization/0-6-com</td>\n",
       "      <td>0-6.com</td>\n",
       "      <td>http://www.0-6.com</td>\n",
       "      <td>Curated Web</td>\n",
       "      <td>2000000</td>\n",
       "      <td>operating</td>\n",
       "      <td>CHN</td>\n",
       "      <td>22</td>\n",
       "      <td>Beijing</td>\n",
       "      <td>Beijing</td>\n",
       "      <td>1</td>\n",
       "      <td>2007-01-01</td>\n",
       "      <td>2008-03-19</td>\n",
       "      <td>2008-03-19</td>\n",
       "    </tr>\n",
       "    <tr>\n",
       "      <th>4</th>\n",
       "      <td>/organization/004-technologies</td>\n",
       "      <td>004 Technologies</td>\n",
       "      <td>http://004gmbh.de/en/004-interact</td>\n",
       "      <td>Software</td>\n",
       "      <td>-</td>\n",
       "      <td>operating</td>\n",
       "      <td>USA</td>\n",
       "      <td>IL</td>\n",
       "      <td>Springfield, Illinois</td>\n",
       "      <td>Champaign</td>\n",
       "      <td>1</td>\n",
       "      <td>2010-01-01</td>\n",
       "      <td>2014-07-24</td>\n",
       "      <td>2014-07-24</td>\n",
       "    </tr>\n",
       "  </tbody>\n",
       "</table>\n",
       "</div>"
      ],
      "text/plain": [
       "                             permalink                    name  \\\n",
       "0                  /organization/-fame                   #fame   \n",
       "1               /organization/-qounter                :Qounter   \n",
       "2  /organization/-the-one-of-them-inc-  (THE) ONE of THEM,Inc.   \n",
       "3                /organization/0-6-com                 0-6.com   \n",
       "4       /organization/004-technologies        004 Technologies   \n",
       "\n",
       "                        homepage_url  \\\n",
       "0                 http://livfame.com   \n",
       "1             http://www.qounter.com   \n",
       "2                http://oneofthem.jp   \n",
       "3                 http://www.0-6.com   \n",
       "4  http://004gmbh.de/en/004-interact   \n",
       "\n",
       "                                       category_list funding_total_usd  \\\n",
       "0                                              Media          10000000   \n",
       "1  Application Platforms|Real Time|Social Network...            700000   \n",
       "2                                  Apps|Games|Mobile           3406878   \n",
       "3                                        Curated Web           2000000   \n",
       "4                                           Software                 -   \n",
       "\n",
       "      status country_code state_code                 region           city  \\\n",
       "0  operating          IND         16                 Mumbai         Mumbai   \n",
       "1  operating          USA         DE             DE - Other  Delaware City   \n",
       "2  operating          NaN        NaN                    NaN            NaN   \n",
       "3  operating          CHN         22                Beijing        Beijing   \n",
       "4  operating          USA         IL  Springfield, Illinois      Champaign   \n",
       "\n",
       "   funding_rounds  founded_at first_funding_at last_funding_at  \n",
       "0               1         NaN       2015-01-05      2015-01-05  \n",
       "1               2  2014-09-04       2014-03-01      2014-10-14  \n",
       "2               1         NaN       2014-01-30      2014-01-30  \n",
       "3               1  2007-01-01       2008-03-19      2008-03-19  \n",
       "4               1  2010-01-01       2014-07-24      2014-07-24  "
      ]
     },
     "execution_count": 3,
     "metadata": {},
     "output_type": "execute_result"
    }
   ],
   "source": [
    "raw_data.head()"
   ]
  },
  {
   "cell_type": "markdown",
   "id": "ed2c18d9",
   "metadata": {},
   "source": [
    "## Data Inspection"
   ]
  },
  {
   "cell_type": "markdown",
   "id": "f1874f2e",
   "metadata": {},
   "source": [
    "### Total Amount of Rows and Columns"
   ]
  },
  {
   "cell_type": "code",
   "execution_count": 4,
   "id": "b8e520ec",
   "metadata": {},
   "outputs": [
    {
     "data": {
      "text/plain": [
       "(66368, 14)"
      ]
     },
     "execution_count": 4,
     "metadata": {},
     "output_type": "execute_result"
    }
   ],
   "source": [
    "raw_data.shape"
   ]
  },
  {
   "cell_type": "markdown",
   "id": "583e384d",
   "metadata": {},
   "source": [
    "### Data Fields"
   ]
  },
  {
   "cell_type": "code",
   "execution_count": 5,
   "id": "2d83469e",
   "metadata": {},
   "outputs": [
    {
     "data": {
      "text/plain": [
       "Index(['permalink', 'name', 'homepage_url', 'category_list',\n",
       "       'funding_total_usd', 'status', 'country_code', 'state_code', 'region',\n",
       "       'city', 'funding_rounds', 'founded_at', 'first_funding_at',\n",
       "       'last_funding_at'],\n",
       "      dtype='object')"
      ]
     },
     "execution_count": 5,
     "metadata": {},
     "output_type": "execute_result"
    }
   ],
   "source": [
    "raw_data.columns"
   ]
  },
  {
   "cell_type": "markdown",
   "id": "142ca4a2",
   "metadata": {},
   "source": [
    "#### Data Fields Information\n",
    "1. permalink: Link to Organization\n",
    "2. name: Company Name\n",
    "3. homepage_url: Startup Site\n",
    "4. category_list: Field of company\n",
    "5. funding_total_usd: Total Funding in USD\n",
    "6. status: Operating Status\n",
    "7. country_code: Country Code\n",
    "8. state_code: State Code of company location\n",
    "9. region: Region of company location\n",
    "10. city: Cit of company location\n",
    "11. funding_rounds: the number of times a startup opts to raise capital from the market.\n",
    "12. founded_at: the date when the startup is founded\n",
    "13. first_funding_at: the date when the startup get first funding\n",
    "14. last_funding_at: the date when the startup get last funding"
   ]
  },
  {
   "cell_type": "markdown",
   "id": "f3b4c6a3",
   "metadata": {},
   "source": [
    "### Visualize the Target Data (Status)"
   ]
  },
  {
   "cell_type": "code",
   "execution_count": 6,
   "id": "52b8761c",
   "metadata": {
    "scrolled": false
   },
   "outputs": [
    {
     "data": {
      "text/plain": [
       "<Axes: >"
      ]
     },
     "execution_count": 6,
     "metadata": {},
     "output_type": "execute_result"
    },
    {
     "data": {
      "image/png": "[encoded data removed]",
      "text/plain": [
       "<Figure size 640x480 with 1 Axes>"
      ]
     },
     "metadata": {},
     "output_type": "display_data"
    }
   ],
   "source": [
    "raw_data['status'].value_counts().plot(kind='bar')"
   ]
  },
  {
   "cell_type": "markdown",
   "id": "3de9d298",
   "metadata": {},
   "source": [
    "Our objective is to find whether the startup will fail (closed) or success (acquier/ipo), so we dont need operating status. We will drop these rows. Note: we considered acquire as success."
   ]
  },
  {
   "cell_type": "code",
   "execution_count": 7,
   "id": "769ddddf",
   "metadata": {},
   "outputs": [
    {
     "data": {
      "text/html": [
       "<div>\n",
       "<style scoped>\n",
       "    .dataframe tbody tr th:only-of-type {\n",
       "        vertical-align: middle;\n",
       "    }\n",
       "\n",
       "    .dataframe tbody tr th {\n",
       "        vertical-align: top;\n",
       "    }\n",
       "\n",
       "    .dataframe thead th {\n",
       "        text-align: right;\n",
       "    }\n",
       "</style>\n",
       "<table border=\"1\" class=\"dataframe\">\n",
       "  <thead>\n",
       "    <tr style=\"text-align: right;\">\n",
       "      <th></th>\n",
       "      <th>permalink</th>\n",
       "      <th>name</th>\n",
       "      <th>homepage_url</th>\n",
       "      <th>category_list</th>\n",
       "      <th>funding_total_usd</th>\n",
       "      <th>status</th>\n",
       "      <th>country_code</th>\n",
       "      <th>state_code</th>\n",
       "      <th>region</th>\n",
       "      <th>city</th>\n",
       "      <th>funding_rounds</th>\n",
       "      <th>founded_at</th>\n",
       "      <th>first_funding_at</th>\n",
       "      <th>last_funding_at</th>\n",
       "    </tr>\n",
       "  </thead>\n",
       "  <tbody>\n",
       "    <tr>\n",
       "      <th>15</th>\n",
       "      <td>/organization/1-mainstream</td>\n",
       "      <td>1 Mainstream</td>\n",
       "      <td>http://www.1mainstream.com</td>\n",
       "      <td>Apps|Cable|Distribution|Software</td>\n",
       "      <td>5000000</td>\n",
       "      <td>acquired</td>\n",
       "      <td>USA</td>\n",
       "      <td>CA</td>\n",
       "      <td>SF Bay Area</td>\n",
       "      <td>Cupertino</td>\n",
       "      <td>1</td>\n",
       "      <td>2012-03-01</td>\n",
       "      <td>2015-03-17</td>\n",
       "      <td>2015-03-17</td>\n",
       "    </tr>\n",
       "    <tr>\n",
       "      <th>20</th>\n",
       "      <td>/organization/1000-markets</td>\n",
       "      <td>1000 Markets</td>\n",
       "      <td>http://www.1000markets.com</td>\n",
       "      <td>Art|E-Commerce|Marketplaces</td>\n",
       "      <td>500000</td>\n",
       "      <td>acquired</td>\n",
       "      <td>USA</td>\n",
       "      <td>WA</td>\n",
       "      <td>Seattle</td>\n",
       "      <td>Seattle</td>\n",
       "      <td>1</td>\n",
       "      <td>2009-01-01</td>\n",
       "      <td>2009-05-15</td>\n",
       "      <td>2009-05-15</td>\n",
       "    </tr>\n",
       "    <tr>\n",
       "      <th>23</th>\n",
       "      <td>/organization/1000memories</td>\n",
       "      <td>1000memories</td>\n",
       "      <td>http://1000memories.com</td>\n",
       "      <td>Curated Web</td>\n",
       "      <td>2535000</td>\n",
       "      <td>acquired</td>\n",
       "      <td>USA</td>\n",
       "      <td>CA</td>\n",
       "      <td>SF Bay Area</td>\n",
       "      <td>San Francisco</td>\n",
       "      <td>2</td>\n",
       "      <td>2010-07-01</td>\n",
       "      <td>2010-01-01</td>\n",
       "      <td>2011-02-16</td>\n",
       "    </tr>\n",
       "    <tr>\n",
       "      <th>31</th>\n",
       "      <td>/organization/100plus</td>\n",
       "      <td>100Plus</td>\n",
       "      <td>http://www.100plus.com</td>\n",
       "      <td>Analytics</td>\n",
       "      <td>1250000</td>\n",
       "      <td>acquired</td>\n",
       "      <td>USA</td>\n",
       "      <td>CA</td>\n",
       "      <td>SF Bay Area</td>\n",
       "      <td>San Francisco</td>\n",
       "      <td>2</td>\n",
       "      <td>2011-09-16</td>\n",
       "      <td>2011-11-02</td>\n",
       "      <td>2011-11-30</td>\n",
       "    </tr>\n",
       "    <tr>\n",
       "      <th>32</th>\n",
       "      <td>/organization/1010data</td>\n",
       "      <td>1010data</td>\n",
       "      <td>http://www.1010data.com</td>\n",
       "      <td>Software</td>\n",
       "      <td>35000000</td>\n",
       "      <td>acquired</td>\n",
       "      <td>USA</td>\n",
       "      <td>NY</td>\n",
       "      <td>New York City</td>\n",
       "      <td>New York</td>\n",
       "      <td>1</td>\n",
       "      <td>2000-01-01</td>\n",
       "      <td>2010-03-08</td>\n",
       "      <td>2010-03-08</td>\n",
       "    </tr>\n",
       "    <tr>\n",
       "      <th>...</th>\n",
       "      <td>...</td>\n",
       "      <td>...</td>\n",
       "      <td>...</td>\n",
       "      <td>...</td>\n",
       "      <td>...</td>\n",
       "      <td>...</td>\n",
       "      <td>...</td>\n",
       "      <td>...</td>\n",
       "      <td>...</td>\n",
       "      <td>...</td>\n",
       "      <td>...</td>\n",
       "      <td>...</td>\n",
       "      <td>...</td>\n",
       "      <td>...</td>\n",
       "    </tr>\n",
       "    <tr>\n",
       "      <th>66349</th>\n",
       "      <td>/organization/zyncro</td>\n",
       "      <td>Zyncro</td>\n",
       "      <td>http://www.zyncro.com</td>\n",
       "      <td>Cloud Computing|Enterprise 2.0|Enterprise Soft...</td>\n",
       "      <td>3805520</td>\n",
       "      <td>acquired</td>\n",
       "      <td>ESP</td>\n",
       "      <td>56</td>\n",
       "      <td>Barcelona</td>\n",
       "      <td>Barcelona</td>\n",
       "      <td>2</td>\n",
       "      <td>2009-09-01</td>\n",
       "      <td>2011-04-05</td>\n",
       "      <td>2012-02-03</td>\n",
       "    </tr>\n",
       "    <tr>\n",
       "      <th>66350</th>\n",
       "      <td>/organization/zynerba-pharmaceuticals</td>\n",
       "      <td>Zynerba Pharmaceuticals</td>\n",
       "      <td>http://zynerba.com</td>\n",
       "      <td>Pharmaceuticals</td>\n",
       "      <td>13000000</td>\n",
       "      <td>ipo</td>\n",
       "      <td>USA</td>\n",
       "      <td>PA</td>\n",
       "      <td>Philadelphia</td>\n",
       "      <td>Radnor</td>\n",
       "      <td>1</td>\n",
       "      <td>2014-01-01</td>\n",
       "      <td>2014-10-14</td>\n",
       "      <td>2014-10-14</td>\n",
       "    </tr>\n",
       "    <tr>\n",
       "      <th>66352</th>\n",
       "      <td>/organization/zynga</td>\n",
       "      <td>Zynga</td>\n",
       "      <td>http://www.zynga.com</td>\n",
       "      <td>Facebook Applications|Games|Networking|Technology</td>\n",
       "      <td>866550786</td>\n",
       "      <td>ipo</td>\n",
       "      <td>USA</td>\n",
       "      <td>CA</td>\n",
       "      <td>SF Bay Area</td>\n",
       "      <td>San Francisco</td>\n",
       "      <td>9</td>\n",
       "      <td>2007-07-01</td>\n",
       "      <td>2007-01-01</td>\n",
       "      <td>2011-02-18</td>\n",
       "    </tr>\n",
       "    <tr>\n",
       "      <th>66358</th>\n",
       "      <td>/organization/zyraz-technology</td>\n",
       "      <td>Zyraz Technology</td>\n",
       "      <td>http://www.zyraz.com</td>\n",
       "      <td>Biotechnology</td>\n",
       "      <td>15419877</td>\n",
       "      <td>closed</td>\n",
       "      <td>MYS</td>\n",
       "      <td>14</td>\n",
       "      <td>MYS - Other</td>\n",
       "      <td>Damansara New Village</td>\n",
       "      <td>4</td>\n",
       "      <td>1994-01-01</td>\n",
       "      <td>2008-01-01</td>\n",
       "      <td>2013-02-15</td>\n",
       "    </tr>\n",
       "    <tr>\n",
       "      <th>66360</th>\n",
       "      <td>/organization/zystor</td>\n",
       "      <td>Zystor</td>\n",
       "      <td>http://www.zystor.com</td>\n",
       "      <td>Biotechnology</td>\n",
       "      <td>8500000</td>\n",
       "      <td>acquired</td>\n",
       "      <td>USA</td>\n",
       "      <td>WI</td>\n",
       "      <td>Milwaukee</td>\n",
       "      <td>Milwaukee</td>\n",
       "      <td>1</td>\n",
       "      <td>NaN</td>\n",
       "      <td>2004-12-16</td>\n",
       "      <td>2004-12-16</td>\n",
       "    </tr>\n",
       "  </tbody>\n",
       "</table>\n",
       "<p>13334 rows × 14 columns</p>\n",
       "</div>"
      ],
      "text/plain": [
       "                                   permalink                     name  \\\n",
       "15                /organization/1-mainstream             1 Mainstream   \n",
       "20                /organization/1000-markets             1000 Markets   \n",
       "23                /organization/1000memories             1000memories   \n",
       "31                     /organization/100plus                  100Plus   \n",
       "32                    /organization/1010data                 1010data   \n",
       "...                                      ...                      ...   \n",
       "66349                   /organization/zyncro                   Zyncro   \n",
       "66350  /organization/zynerba-pharmaceuticals  Zynerba Pharmaceuticals   \n",
       "66352                    /organization/zynga                    Zynga   \n",
       "66358         /organization/zyraz-technology         Zyraz Technology   \n",
       "66360                   /organization/zystor                   Zystor   \n",
       "\n",
       "                     homepage_url  \\\n",
       "15     http://www.1mainstream.com   \n",
       "20     http://www.1000markets.com   \n",
       "23        http://1000memories.com   \n",
       "31         http://www.100plus.com   \n",
       "32        http://www.1010data.com   \n",
       "...                           ...   \n",
       "66349       http://www.zyncro.com   \n",
       "66350          http://zynerba.com   \n",
       "66352        http://www.zynga.com   \n",
       "66358        http://www.zyraz.com   \n",
       "66360       http://www.zystor.com   \n",
       "\n",
       "                                           category_list funding_total_usd  \\\n",
       "15                      Apps|Cable|Distribution|Software           5000000   \n",
       "20                           Art|E-Commerce|Marketplaces            500000   \n",
       "23                                           Curated Web           2535000   \n",
       "31                                             Analytics           1250000   \n",
       "32                                              Software          35000000   \n",
       "...                                                  ...               ...   \n",
       "66349  Cloud Computing|Enterprise 2.0|Enterprise Soft...           3805520   \n",
       "66350                                    Pharmaceuticals          13000000   \n",
       "66352  Facebook Applications|Games|Networking|Technology         866550786   \n",
       "66358                                      Biotechnology          15419877   \n",
       "66360                                      Biotechnology           8500000   \n",
       "\n",
       "         status country_code state_code         region                   city  \\\n",
       "15     acquired          USA         CA    SF Bay Area              Cupertino   \n",
       "20     acquired          USA         WA        Seattle                Seattle   \n",
       "23     acquired          USA         CA    SF Bay Area          San Francisco   \n",
       "31     acquired          USA         CA    SF Bay Area          San Francisco   \n",
       "32     acquired          USA         NY  New York City               New York   \n",
       "...         ...          ...        ...            ...                    ...   \n",
       "66349  acquired          ESP         56      Barcelona              Barcelona   \n",
       "66350       ipo          USA         PA   Philadelphia                 Radnor   \n",
       "66352       ipo          USA         CA    SF Bay Area          San Francisco   \n",
       "66358    closed          MYS         14    MYS - Other  Damansara New Village   \n",
       "66360  acquired          USA         WI      Milwaukee              Milwaukee   \n",
       "\n",
       "       funding_rounds  founded_at first_funding_at last_funding_at  \n",
       "15                  1  2012-03-01       2015-03-17      2015-03-17  \n",
       "20                  1  2009-01-01       2009-05-15      2009-05-15  \n",
       "23                  2  2010-07-01       2010-01-01      2011-02-16  \n",
       "31                  2  2011-09-16       2011-11-02      2011-11-30  \n",
       "32                  1  2000-01-01       2010-03-08      2010-03-08  \n",
       "...               ...         ...              ...             ...  \n",
       "66349               2  2009-09-01       2011-04-05      2012-02-03  \n",
       "66350               1  2014-01-01       2014-10-14      2014-10-14  \n",
       "66352               9  2007-07-01       2007-01-01      2011-02-18  \n",
       "66358               4  1994-01-01       2008-01-01      2013-02-15  \n",
       "66360               1         NaN       2004-12-16      2004-12-16  \n",
       "\n",
       "[13334 rows x 14 columns]"
      ]
     },
     "execution_count": 7,
     "metadata": {},
     "output_type": "execute_result"
    }
   ],
   "source": [
    "valid_index = (~(raw_data['status'] == 'operating'))\n",
    "\n",
    "raw_data = raw_data[valid_index]\n",
    "\n",
    "raw_data"
   ]
  },
  {
   "cell_type": "code",
   "execution_count": 8,
   "id": "36361ee0",
   "metadata": {},
   "outputs": [
    {
     "data": {
      "text/plain": [
       "<Axes: >"
      ]
     },
     "execution_count": 8,
     "metadata": {},
     "output_type": "execute_result"
    },
    {
     "data": {
      "image/png": "[encoded data removed]",
      "text/plain": [
       "<Figure size 640x480 with 1 Axes>"
      ]
     },
     "metadata": {},
     "output_type": "display_data"
    }
   ],
   "source": [
    "raw_data['status'].value_counts().plot(kind='bar')"
   ]
  },
  {
   "cell_type": "markdown",
   "id": "be638924",
   "metadata": {},
   "source": [
    "It look like the target variable not distributed uniformly, where the 'closed' and 'acquired' dominated the 'ipo' value. So we will consider ROC-AUC or F! score."
   ]
  },
  {
   "cell_type": "markdown",
   "id": "275582df",
   "metadata": {},
   "source": [
    "### Check Duplicate Startup Name"
   ]
  },
  {
   "cell_type": "code",
   "execution_count": 9,
   "id": "82d45e36",
   "metadata": {},
   "outputs": [
    {
     "data": {
      "text/plain": [
       "SpaceConnect              2\n",
       "SquareOne                 2\n",
       "Stream                    2\n",
       "Bloodhound                2\n",
       "Stupsr                    2\n",
       "Cardiovascular Systems    2\n",
       "SHIFT                     2\n",
       "Archive                   2\n",
       "Name: name, dtype: int64"
      ]
     },
     "execution_count": 9,
     "metadata": {},
     "output_type": "execute_result"
    }
   ],
   "source": [
    "check_name = raw_data['name'].value_counts()\n",
    "\n",
    "check_name[check_name > 1]"
   ]
  },
  {
   "cell_type": "markdown",
   "id": "be7362c6",
   "metadata": {},
   "source": [
    "There are 239 duplicated startup name, lets check wheter the startup has the same name or the data is just duplicated by checking the permalink column."
   ]
  },
  {
   "cell_type": "code",
   "execution_count": 10,
   "id": "44d7541e",
   "metadata": {
    "scrolled": true
   },
   "outputs": [
    {
     "data": {
      "text/html": [
       "<div>\n",
       "<style scoped>\n",
       "    .dataframe tbody tr th:only-of-type {\n",
       "        vertical-align: middle;\n",
       "    }\n",
       "\n",
       "    .dataframe tbody tr th {\n",
       "        vertical-align: top;\n",
       "    }\n",
       "\n",
       "    .dataframe thead th {\n",
       "        text-align: right;\n",
       "    }\n",
       "</style>\n",
       "<table border=\"1\" class=\"dataframe\">\n",
       "  <thead>\n",
       "    <tr style=\"text-align: right;\">\n",
       "      <th></th>\n",
       "      <th>permalink</th>\n",
       "      <th>name</th>\n",
       "    </tr>\n",
       "  </thead>\n",
       "  <tbody>\n",
       "    <tr>\n",
       "      <th>4120</th>\n",
       "      <td>/organization/archive</td>\n",
       "      <td>Archive</td>\n",
       "    </tr>\n",
       "    <tr>\n",
       "      <th>4121</th>\n",
       "      <td>/organization/archive-2</td>\n",
       "      <td>Archive</td>\n",
       "    </tr>\n",
       "    <tr>\n",
       "      <th>7537</th>\n",
       "      <td>/organization/bloodhound</td>\n",
       "      <td>Bloodhound</td>\n",
       "    </tr>\n",
       "    <tr>\n",
       "      <th>7538</th>\n",
       "      <td>/organization/bloodhound-2</td>\n",
       "      <td>Bloodhound</td>\n",
       "    </tr>\n",
       "    <tr>\n",
       "      <th>9738</th>\n",
       "      <td>/organization/cardiovascular-systems</td>\n",
       "      <td>Cardiovascular Systems</td>\n",
       "    </tr>\n",
       "    <tr>\n",
       "      <th>9739</th>\n",
       "      <td>/organization/cardiovascular-systems-incorporated</td>\n",
       "      <td>Cardiovascular Systems</td>\n",
       "    </tr>\n",
       "    <tr>\n",
       "      <th>51149</th>\n",
       "      <td>/organization/shift</td>\n",
       "      <td>SHIFT</td>\n",
       "    </tr>\n",
       "    <tr>\n",
       "      <th>51151</th>\n",
       "      <td>/organization/shift-4</td>\n",
       "      <td>SHIFT</td>\n",
       "    </tr>\n",
       "    <tr>\n",
       "      <th>53581</th>\n",
       "      <td>/organization/spaceconnect</td>\n",
       "      <td>SpaceConnect</td>\n",
       "    </tr>\n",
       "    <tr>\n",
       "      <th>53582</th>\n",
       "      <td>/organization/spaceconnect-2</td>\n",
       "      <td>SpaceConnect</td>\n",
       "    </tr>\n",
       "    <tr>\n",
       "      <th>54305</th>\n",
       "      <td>/organization/squareone</td>\n",
       "      <td>SquareOne</td>\n",
       "    </tr>\n",
       "    <tr>\n",
       "      <th>54306</th>\n",
       "      <td>/organization/squareone-2</td>\n",
       "      <td>SquareOne</td>\n",
       "    </tr>\n",
       "    <tr>\n",
       "      <th>54968</th>\n",
       "      <td>/organization/stream</td>\n",
       "      <td>Stream</td>\n",
       "    </tr>\n",
       "    <tr>\n",
       "      <th>54969</th>\n",
       "      <td>/organization/stream-4</td>\n",
       "      <td>Stream</td>\n",
       "    </tr>\n",
       "    <tr>\n",
       "      <th>55154</th>\n",
       "      <td>/organization/stupsr</td>\n",
       "      <td>Stupsr</td>\n",
       "    </tr>\n",
       "    <tr>\n",
       "      <th>55155</th>\n",
       "      <td>/organization/stupsr-2</td>\n",
       "      <td>Stupsr</td>\n",
       "    </tr>\n",
       "  </tbody>\n",
       "</table>\n",
       "</div>"
      ],
      "text/plain": [
       "                                               permalink  \\\n",
       "4120                               /organization/archive   \n",
       "4121                             /organization/archive-2   \n",
       "7537                            /organization/bloodhound   \n",
       "7538                          /organization/bloodhound-2   \n",
       "9738                /organization/cardiovascular-systems   \n",
       "9739   /organization/cardiovascular-systems-incorporated   \n",
       "51149                                /organization/shift   \n",
       "51151                              /organization/shift-4   \n",
       "53581                         /organization/spaceconnect   \n",
       "53582                       /organization/spaceconnect-2   \n",
       "54305                            /organization/squareone   \n",
       "54306                          /organization/squareone-2   \n",
       "54968                               /organization/stream   \n",
       "54969                             /organization/stream-4   \n",
       "55154                               /organization/stupsr   \n",
       "55155                             /organization/stupsr-2   \n",
       "\n",
       "                         name  \n",
       "4120                  Archive  \n",
       "4121                  Archive  \n",
       "7537               Bloodhound  \n",
       "7538               Bloodhound  \n",
       "9738   Cardiovascular Systems  \n",
       "9739   Cardiovascular Systems  \n",
       "51149                   SHIFT  \n",
       "51151                   SHIFT  \n",
       "53581            SpaceConnect  \n",
       "53582            SpaceConnect  \n",
       "54305               SquareOne  \n",
       "54306               SquareOne  \n",
       "54968                  Stream  \n",
       "54969                  Stream  \n",
       "55154                  Stupsr  \n",
       "55155                  Stupsr  "
      ]
     },
     "execution_count": 10,
     "metadata": {},
     "output_type": "execute_result"
    }
   ],
   "source": [
    "duplicate_name = check_name[check_name > 1].index\n",
    "\n",
    "duplicate_inspect = raw_data[raw_data['name'].str.fullmatch('|'.join(duplicate_name)) == True]\n",
    "\n",
    "duplicate_inspect[['permalink', 'name']]"
   ]
  },
  {
   "cell_type": "markdown",
   "id": "d7e8e5a2",
   "metadata": {},
   "source": [
    "Lets check the uniqueness of permalink column."
   ]
  },
  {
   "cell_type": "code",
   "execution_count": 11,
   "id": "36b7de3e",
   "metadata": {},
   "outputs": [
    {
     "data": {
      "text/plain": [
       "permalink    16\n",
       "name          8\n",
       "dtype: int64"
      ]
     },
     "execution_count": 11,
     "metadata": {},
     "output_type": "execute_result"
    }
   ],
   "source": [
    "duplicate_inspect[['permalink', 'name']].nunique()"
   ]
  },
  {
   "cell_type": "markdown",
   "id": "2959a3bb",
   "metadata": {},
   "source": [
    "The permalink is unique! However, one thing that bother me is that some of the duplicated startup name have similiar permalink, for example '3DIVAZ' startup have permalink '/organization/3divaz-2' and '/organization/3divaz-3', it could be that the data was inputed two times and the permalink is set to unique in the beginning, hence it automatically iterate the permalink name if the input data is same. But it is just speculation, we don't have enough information about the data. So for now lets assume these startup coincidentally have the same name."
   ]
  },
  {
   "cell_type": "markdown",
   "id": "a61af9df",
   "metadata": {},
   "source": [
    "### Check Data Types"
   ]
  },
  {
   "cell_type": "code",
   "execution_count": 12,
   "id": "a211c42e",
   "metadata": {
    "scrolled": false
   },
   "outputs": [
    {
     "name": "stdout",
     "output_type": "stream",
     "text": [
      "<class 'pandas.core.frame.DataFrame'>\n",
      "Int64Index: 13334 entries, 15 to 66360\n",
      "Data columns (total 14 columns):\n",
      " #   Column             Non-Null Count  Dtype \n",
      "---  ------             --------------  ----- \n",
      " 0   permalink          13334 non-null  object\n",
      " 1   name               13333 non-null  object\n",
      " 2   homepage_url       12117 non-null  object\n",
      " 3   category_list      12248 non-null  object\n",
      " 4   funding_total_usd  13334 non-null  object\n",
      " 5   status             13334 non-null  object\n",
      " 6   country_code       11343 non-null  object\n",
      " 7   state_code         11125 non-null  object\n",
      " 8   region             11182 non-null  object\n",
      " 9   city               11182 non-null  object\n",
      " 10  funding_rounds     13334 non-null  int64 \n",
      " 11  founded_at         9602 non-null   object\n",
      " 12  first_funding_at   13332 non-null  object\n",
      " 13  last_funding_at    13334 non-null  object\n",
      "dtypes: int64(1), object(13)\n",
      "memory usage: 1.5+ MB\n"
     ]
    }
   ],
   "source": [
    "raw_data.info()"
   ]
  },
  {
   "cell_type": "markdown",
   "id": "7432c335",
   "metadata": {},
   "source": [
    "The funding_total_usd data type is wrong, it should be float. Lets check how many data that have '-' element."
   ]
  },
  {
   "cell_type": "code",
   "execution_count": 13,
   "id": "be06ecac",
   "metadata": {},
   "outputs": [
    {
     "data": {
      "text/plain": [
       "False    11143\n",
       "True      2191\n",
       "Name: funding_total_usd, dtype: int64"
      ]
     },
     "execution_count": 13,
     "metadata": {},
     "output_type": "execute_result"
    }
   ],
   "source": [
    "(raw_data['funding_total_usd'] == '-').value_counts()"
   ]
  },
  {
   "cell_type": "code",
   "execution_count": 14,
   "id": "8a298e0a",
   "metadata": {
    "scrolled": true
   },
   "outputs": [
    {
     "data": {
      "text/html": [
       "<div>\n",
       "<style scoped>\n",
       "    .dataframe tbody tr th:only-of-type {\n",
       "        vertical-align: middle;\n",
       "    }\n",
       "\n",
       "    .dataframe tbody tr th {\n",
       "        vertical-align: top;\n",
       "    }\n",
       "\n",
       "    .dataframe thead th {\n",
       "        text-align: right;\n",
       "    }\n",
       "</style>\n",
       "<table border=\"1\" class=\"dataframe\">\n",
       "  <thead>\n",
       "    <tr style=\"text-align: right;\">\n",
       "      <th></th>\n",
       "      <th>permalink</th>\n",
       "      <th>name</th>\n",
       "      <th>homepage_url</th>\n",
       "      <th>category_list</th>\n",
       "      <th>funding_total_usd</th>\n",
       "      <th>status</th>\n",
       "      <th>country_code</th>\n",
       "      <th>state_code</th>\n",
       "      <th>region</th>\n",
       "      <th>city</th>\n",
       "      <th>funding_rounds</th>\n",
       "      <th>founded_at</th>\n",
       "      <th>first_funding_at</th>\n",
       "      <th>last_funding_at</th>\n",
       "    </tr>\n",
       "  </thead>\n",
       "  <tbody>\n",
       "    <tr>\n",
       "      <th>15</th>\n",
       "      <td>/organization/1-mainstream</td>\n",
       "      <td>1 Mainstream</td>\n",
       "      <td>http://www.1mainstream.com</td>\n",
       "      <td>Apps|Cable|Distribution|Software</td>\n",
       "      <td>5000000.0</td>\n",
       "      <td>acquired</td>\n",
       "      <td>USA</td>\n",
       "      <td>CA</td>\n",
       "      <td>SF Bay Area</td>\n",
       "      <td>Cupertino</td>\n",
       "      <td>1</td>\n",
       "      <td>2012-03-01</td>\n",
       "      <td>2015-03-17</td>\n",
       "      <td>2015-03-17</td>\n",
       "    </tr>\n",
       "    <tr>\n",
       "      <th>20</th>\n",
       "      <td>/organization/1000-markets</td>\n",
       "      <td>1000 Markets</td>\n",
       "      <td>http://www.1000markets.com</td>\n",
       "      <td>Art|E-Commerce|Marketplaces</td>\n",
       "      <td>500000.0</td>\n",
       "      <td>acquired</td>\n",
       "      <td>USA</td>\n",
       "      <td>WA</td>\n",
       "      <td>Seattle</td>\n",
       "      <td>Seattle</td>\n",
       "      <td>1</td>\n",
       "      <td>2009-01-01</td>\n",
       "      <td>2009-05-15</td>\n",
       "      <td>2009-05-15</td>\n",
       "    </tr>\n",
       "    <tr>\n",
       "      <th>23</th>\n",
       "      <td>/organization/1000memories</td>\n",
       "      <td>1000memories</td>\n",
       "      <td>http://1000memories.com</td>\n",
       "      <td>Curated Web</td>\n",
       "      <td>2535000.0</td>\n",
       "      <td>acquired</td>\n",
       "      <td>USA</td>\n",
       "      <td>CA</td>\n",
       "      <td>SF Bay Area</td>\n",
       "      <td>San Francisco</td>\n",
       "      <td>2</td>\n",
       "      <td>2010-07-01</td>\n",
       "      <td>2010-01-01</td>\n",
       "      <td>2011-02-16</td>\n",
       "    </tr>\n",
       "    <tr>\n",
       "      <th>31</th>\n",
       "      <td>/organization/100plus</td>\n",
       "      <td>100Plus</td>\n",
       "      <td>http://www.100plus.com</td>\n",
       "      <td>Analytics</td>\n",
       "      <td>1250000.0</td>\n",
       "      <td>acquired</td>\n",
       "      <td>USA</td>\n",
       "      <td>CA</td>\n",
       "      <td>SF Bay Area</td>\n",
       "      <td>San Francisco</td>\n",
       "      <td>2</td>\n",
       "      <td>2011-09-16</td>\n",
       "      <td>2011-11-02</td>\n",
       "      <td>2011-11-30</td>\n",
       "    </tr>\n",
       "    <tr>\n",
       "      <th>32</th>\n",
       "      <td>/organization/1010data</td>\n",
       "      <td>1010data</td>\n",
       "      <td>http://www.1010data.com</td>\n",
       "      <td>Software</td>\n",
       "      <td>35000000.0</td>\n",
       "      <td>acquired</td>\n",
       "      <td>USA</td>\n",
       "      <td>NY</td>\n",
       "      <td>New York City</td>\n",
       "      <td>New York</td>\n",
       "      <td>1</td>\n",
       "      <td>2000-01-01</td>\n",
       "      <td>2010-03-08</td>\n",
       "      <td>2010-03-08</td>\n",
       "    </tr>\n",
       "  </tbody>\n",
       "</table>\n",
       "</div>"
      ],
      "text/plain": [
       "                     permalink          name                homepage_url  \\\n",
       "15  /organization/1-mainstream  1 Mainstream  http://www.1mainstream.com   \n",
       "20  /organization/1000-markets  1000 Markets  http://www.1000markets.com   \n",
       "23  /organization/1000memories  1000memories     http://1000memories.com   \n",
       "31       /organization/100plus       100Plus      http://www.100plus.com   \n",
       "32      /organization/1010data      1010data     http://www.1010data.com   \n",
       "\n",
       "                       category_list  funding_total_usd    status  \\\n",
       "15  Apps|Cable|Distribution|Software          5000000.0  acquired   \n",
       "20       Art|E-Commerce|Marketplaces           500000.0  acquired   \n",
       "23                       Curated Web          2535000.0  acquired   \n",
       "31                         Analytics          1250000.0  acquired   \n",
       "32                          Software         35000000.0  acquired   \n",
       "\n",
       "   country_code state_code         region           city  funding_rounds  \\\n",
       "15          USA         CA    SF Bay Area      Cupertino               1   \n",
       "20          USA         WA        Seattle        Seattle               1   \n",
       "23          USA         CA    SF Bay Area  San Francisco               2   \n",
       "31          USA         CA    SF Bay Area  San Francisco               2   \n",
       "32          USA         NY  New York City       New York               1   \n",
       "\n",
       "    founded_at first_funding_at last_funding_at  \n",
       "15  2012-03-01       2015-03-17      2015-03-17  \n",
       "20  2009-01-01       2009-05-15      2009-05-15  \n",
       "23  2010-07-01       2010-01-01      2011-02-16  \n",
       "31  2011-09-16       2011-11-02      2011-11-30  \n",
       "32  2000-01-01       2010-03-08      2010-03-08  "
      ]
     },
     "execution_count": 14,
     "metadata": {},
     "output_type": "execute_result"
    }
   ],
   "source": [
    "raw_data['funding_total_usd'] = pd.to_numeric(\n",
    "    arg=raw_data['funding_total_usd'],\n",
    "    errors='coerce',\n",
    "    downcast='float'\n",
    ")\n",
    "\n",
    "raw_data.head()"
   ]
  },
  {
   "cell_type": "markdown",
   "id": "63a522ab",
   "metadata": {},
   "source": [
    "Lets check again the NaN value after the conversion."
   ]
  },
  {
   "cell_type": "code",
   "execution_count": 15,
   "id": "25b75716",
   "metadata": {
    "scrolled": true
   },
   "outputs": [
    {
     "data": {
      "text/plain": [
       "False    11143\n",
       "True      2191\n",
       "Name: funding_total_usd, dtype: int64"
      ]
     },
     "execution_count": 15,
     "metadata": {},
     "output_type": "execute_result"
    }
   ],
   "source": [
    "raw_data['funding_total_usd'].isna().value_counts()"
   ]
  },
  {
   "cell_type": "markdown",
   "id": "26ffaca1",
   "metadata": {},
   "source": [
    "It same! we can conclude that all non-numeric data is '-' not number with string (e.g. 10 mil usd)."
   ]
  },
  {
   "cell_type": "markdown",
   "id": "81fbe8e8",
   "metadata": {},
   "source": [
    "## Visualize Data Distribution"
   ]
  },
  {
   "cell_type": "markdown",
   "id": "f76851b7",
   "metadata": {},
   "source": [
    "### Numeric Data"
   ]
  },
  {
   "cell_type": "code",
   "execution_count": 16,
   "id": "12cc3198",
   "metadata": {
    "scrolled": false
   },
   "outputs": [
    {
     "data": {
      "image/png": "[encoded data removed]",
      "text/plain": [
       "<Figure size 2000x400 with 2 Axes>"
      ]
     },
     "metadata": {},
     "output_type": "display_data"
    }
   ],
   "source": [
    "raw_data.hist(bins=100, figsize=(20, 4))\n",
    "\n",
    "plt.show()"
   ]
  },
  {
   "cell_type": "markdown",
   "id": "ff88c791",
   "metadata": {},
   "source": [
    "The funding_total_usd column distribution is hard to see, since it has a lot of outliers. So lets inspect the funding_total_usd column."
   ]
  },
  {
   "cell_type": "code",
   "execution_count": 17,
   "id": "5a8a738e",
   "metadata": {},
   "outputs": [
    {
     "data": {
      "text/plain": [
       "count    1.114300e+04\n",
       "mean     3.580863e+07\n",
       "std      3.687556e+08\n",
       "min      2.000000e+00\n",
       "25%      1.000000e+06\n",
       "50%      5.800000e+06\n",
       "75%      2.200000e+07\n",
       "max      3.007950e+10\n",
       "Name: funding_total_usd, dtype: float64"
      ]
     },
     "execution_count": 17,
     "metadata": {},
     "output_type": "execute_result"
    }
   ],
   "source": [
    "raw_data['funding_total_usd'].describe()"
   ]
  },
  {
   "cell_type": "markdown",
   "id": "a8e46cdd",
   "metadata": {},
   "source": [
    "### Detect Outliers"
   ]
  },
  {
   "cell_type": "markdown",
   "id": "ad135860",
   "metadata": {},
   "source": [
    "The minimum value is 2 usd, which is doesn't make any sense, there is no way someone is funding a startup by 2 usd (it could be an invalid input). Lets check it further by using interquartile rule to find outliers."
   ]
  },
  {
   "cell_type": "code",
   "execution_count": 18,
   "id": "c2ec61ea",
   "metadata": {},
   "outputs": [],
   "source": [
    "def find_outliers(data):\n",
    "    data = np.array(data.dropna())\n",
    "    \n",
    "    inter_quant = np.quantile(data, 0.75) - np.quantile(data, 0.25)\n",
    "    \n",
    "    upper_bound = np.quantile(data, 0.75) + 1.5*inter_quant\n",
    "    lower_bound = np.quantile(data, 0.25) - 1.5*inter_quant\n",
    "    \n",
    "    lower_outliers = data < lower_bound\n",
    "    upper_outliers = data > upper_bound\n",
    "    \n",
    "    return pd.Series(lower_outliers | upper_outliers)"
   ]
  },
  {
   "cell_type": "code",
   "execution_count": 19,
   "id": "91342ada",
   "metadata": {},
   "outputs": [
    {
     "data": {
      "text/plain": [
       "0        False\n",
       "1        False\n",
       "2        False\n",
       "3        False\n",
       "4        False\n",
       "         ...  \n",
       "11138    False\n",
       "11139    False\n",
       "11140     True\n",
       "11141    False\n",
       "11142    False\n",
       "Length: 11143, dtype: bool"
      ]
     },
     "execution_count": 19,
     "metadata": {},
     "output_type": "execute_result"
    }
   ],
   "source": [
    "outliers = find_outliers(raw_data['funding_total_usd'])\n",
    "\n",
    "\n",
    "outliers"
   ]
  },
  {
   "cell_type": "markdown",
   "id": "01abe570",
   "metadata": {},
   "source": [
    "Lets check if our desired outliers (small number) still exist or not."
   ]
  },
  {
   "cell_type": "code",
   "execution_count": 20,
   "id": "0d4d9c60",
   "metadata": {
    "scrolled": false
   },
   "outputs": [
    {
     "data": {
      "text/html": [
       "<div>\n",
       "<style scoped>\n",
       "    .dataframe tbody tr th:only-of-type {\n",
       "        vertical-align: middle;\n",
       "    }\n",
       "\n",
       "    .dataframe tbody tr th {\n",
       "        vertical-align: top;\n",
       "    }\n",
       "\n",
       "    .dataframe thead th {\n",
       "        text-align: right;\n",
       "    }\n",
       "</style>\n",
       "<table border=\"1\" class=\"dataframe\">\n",
       "  <thead>\n",
       "    <tr style=\"text-align: right;\">\n",
       "      <th></th>\n",
       "      <th>funding_total_usd</th>\n",
       "    </tr>\n",
       "  </thead>\n",
       "  <tbody>\n",
       "    <tr>\n",
       "      <th>count</th>\n",
       "      <td>9.855000e+03</td>\n",
       "    </tr>\n",
       "    <tr>\n",
       "      <th>mean</th>\n",
       "      <td>9.508785e+06</td>\n",
       "    </tr>\n",
       "    <tr>\n",
       "      <th>std</th>\n",
       "      <td>1.222009e+07</td>\n",
       "    </tr>\n",
       "    <tr>\n",
       "      <th>min</th>\n",
       "      <td>2.000000e+00</td>\n",
       "    </tr>\n",
       "    <tr>\n",
       "      <th>25%</th>\n",
       "      <td>7.000000e+05</td>\n",
       "    </tr>\n",
       "    <tr>\n",
       "      <th>50%</th>\n",
       "      <td>4.000000e+06</td>\n",
       "    </tr>\n",
       "    <tr>\n",
       "      <th>75%</th>\n",
       "      <td>1.398045e+07</td>\n",
       "    </tr>\n",
       "    <tr>\n",
       "      <th>max</th>\n",
       "      <td>5.350000e+07</td>\n",
       "    </tr>\n",
       "  </tbody>\n",
       "</table>\n",
       "</div>"
      ],
      "text/plain": [
       "       funding_total_usd\n",
       "count       9.855000e+03\n",
       "mean        9.508785e+06\n",
       "std         1.222009e+07\n",
       "min         2.000000e+00\n",
       "25%         7.000000e+05\n",
       "50%         4.000000e+06\n",
       "75%         1.398045e+07\n",
       "max         5.350000e+07"
      ]
     },
     "execution_count": 20,
     "metadata": {},
     "output_type": "execute_result"
    }
   ],
   "source": [
    "raw_data[['funding_total_usd']].dropna().reset_index(drop=True)[~outliers].describe()"
   ]
  },
  {
   "cell_type": "markdown",
   "id": "4dd22646",
   "metadata": {},
   "source": [
    "Nope, the interquartile method just remove the upper outliers. Which is in this context, it still possible for startup to get up to 1x10^10 usd fund, so lets keep the upper bound outliers. We will consider snother method to remove lower bound outliers. Let set a threshold for 1000 usd, it means anything under 1000 usd fund considered as invalid input."
   ]
  },
  {
   "cell_type": "code",
   "execution_count": 21,
   "id": "6e813fe0",
   "metadata": {},
   "outputs": [
    {
     "data": {
      "text/html": [
       "<div>\n",
       "<style scoped>\n",
       "    .dataframe tbody tr th:only-of-type {\n",
       "        vertical-align: middle;\n",
       "    }\n",
       "\n",
       "    .dataframe tbody tr th {\n",
       "        vertical-align: top;\n",
       "    }\n",
       "\n",
       "    .dataframe thead th {\n",
       "        text-align: right;\n",
       "    }\n",
       "</style>\n",
       "<table border=\"1\" class=\"dataframe\">\n",
       "  <thead>\n",
       "    <tr style=\"text-align: right;\">\n",
       "      <th></th>\n",
       "      <th>funding_total_usd</th>\n",
       "    </tr>\n",
       "  </thead>\n",
       "  <tbody>\n",
       "    <tr>\n",
       "      <th>15</th>\n",
       "      <td>5000000.0</td>\n",
       "    </tr>\n",
       "    <tr>\n",
       "      <th>20</th>\n",
       "      <td>500000.0</td>\n",
       "    </tr>\n",
       "    <tr>\n",
       "      <th>23</th>\n",
       "      <td>2535000.0</td>\n",
       "    </tr>\n",
       "    <tr>\n",
       "      <th>31</th>\n",
       "      <td>1250000.0</td>\n",
       "    </tr>\n",
       "    <tr>\n",
       "      <th>32</th>\n",
       "      <td>35000000.0</td>\n",
       "    </tr>\n",
       "    <tr>\n",
       "      <th>...</th>\n",
       "      <td>...</td>\n",
       "    </tr>\n",
       "    <tr>\n",
       "      <th>66349</th>\n",
       "      <td>3805520.0</td>\n",
       "    </tr>\n",
       "    <tr>\n",
       "      <th>66350</th>\n",
       "      <td>13000000.0</td>\n",
       "    </tr>\n",
       "    <tr>\n",
       "      <th>66352</th>\n",
       "      <td>866550786.0</td>\n",
       "    </tr>\n",
       "    <tr>\n",
       "      <th>66358</th>\n",
       "      <td>15419877.0</td>\n",
       "    </tr>\n",
       "    <tr>\n",
       "      <th>66360</th>\n",
       "      <td>8500000.0</td>\n",
       "    </tr>\n",
       "  </tbody>\n",
       "</table>\n",
       "<p>13330 rows × 1 columns</p>\n",
       "</div>"
      ],
      "text/plain": [
       "       funding_total_usd\n",
       "15             5000000.0\n",
       "20              500000.0\n",
       "23             2535000.0\n",
       "31             1250000.0\n",
       "32            35000000.0\n",
       "...                  ...\n",
       "66349          3805520.0\n",
       "66350         13000000.0\n",
       "66352        866550786.0\n",
       "66358         15419877.0\n",
       "66360          8500000.0\n",
       "\n",
       "[13330 rows x 1 columns]"
      ]
     },
     "execution_count": 21,
     "metadata": {},
     "output_type": "execute_result"
    }
   ],
   "source": [
    "valid_input = ~(raw_data['funding_total_usd'] < 1000)\n",
    "\n",
    "raw_data[['funding_total_usd']][valid_input]"
   ]
  },
  {
   "cell_type": "markdown",
   "id": "20a239fe",
   "metadata": {},
   "source": [
    "Lets see what row that has invalid input in funding_total_usd column."
   ]
  },
  {
   "cell_type": "code",
   "execution_count": 22,
   "id": "ef1bc00f",
   "metadata": {},
   "outputs": [
    {
     "data": {
      "text/plain": [
       "Int64Index([6371, 6487, 55916, 66220], dtype='int64')"
      ]
     },
     "execution_count": 22,
     "metadata": {},
     "output_type": "execute_result"
    }
   ],
   "source": [
    "invalid_input_id = raw_data[['funding_total_usd']][~valid_input].index\n",
    "\n",
    "invalid_input_id"
   ]
  },
  {
   "cell_type": "code",
   "execution_count": 23,
   "id": "f44625f1",
   "metadata": {
    "scrolled": false
   },
   "outputs": [],
   "source": [
    "raw_data = raw_data.drop(\n",
    "    invalid_input_id,\n",
    "    errors='ignore'\n",
    ")"
   ]
  },
  {
   "cell_type": "markdown",
   "id": "b1b0241a",
   "metadata": {},
   "source": [
    "Lets visualize the distribution."
   ]
  },
  {
   "cell_type": "code",
   "execution_count": 24,
   "id": "37cbc84c",
   "metadata": {},
   "outputs": [
    {
     "data": {
      "image/png": "[encoded data removed]",
      "text/plain": [
       "<Figure size 2000x400 with 2 Axes>"
      ]
     },
     "metadata": {},
     "output_type": "display_data"
    }
   ],
   "source": [
    "raw_data.hist(\n",
    "    bins=100,\n",
    "    figsize=(20, 4)\n",
    ")\n",
    "\n",
    "plt.show()"
   ]
  },
  {
   "cell_type": "markdown",
   "id": "481777ae",
   "metadata": {},
   "source": [
    "It still not clear what happened with the distribution (we just eliminate the lower bound outliers, where the main problem of unclear visualization is the upper bound outliers). Lets Continue to the categorical data."
   ]
  },
  {
   "cell_type": "markdown",
   "id": "7d622cd6",
   "metadata": {},
   "source": [
    "### Categorical Data"
   ]
  },
  {
   "cell_type": "code",
   "execution_count": 25,
   "id": "1aea30d7",
   "metadata": {},
   "outputs": [
    {
     "data": {
      "text/html": [
       "<div>\n",
       "<style scoped>\n",
       "    .dataframe tbody tr th:only-of-type {\n",
       "        vertical-align: middle;\n",
       "    }\n",
       "\n",
       "    .dataframe tbody tr th {\n",
       "        vertical-align: top;\n",
       "    }\n",
       "\n",
       "    .dataframe thead th {\n",
       "        text-align: right;\n",
       "    }\n",
       "</style>\n",
       "<table border=\"1\" class=\"dataframe\">\n",
       "  <thead>\n",
       "    <tr style=\"text-align: right;\">\n",
       "      <th></th>\n",
       "      <th>permalink</th>\n",
       "      <th>name</th>\n",
       "      <th>homepage_url</th>\n",
       "      <th>category_list</th>\n",
       "      <th>status</th>\n",
       "      <th>country_code</th>\n",
       "      <th>state_code</th>\n",
       "      <th>region</th>\n",
       "      <th>city</th>\n",
       "      <th>founded_at</th>\n",
       "      <th>first_funding_at</th>\n",
       "      <th>last_funding_at</th>\n",
       "    </tr>\n",
       "  </thead>\n",
       "  <tbody>\n",
       "    <tr>\n",
       "      <th>15</th>\n",
       "      <td>/organization/1-mainstream</td>\n",
       "      <td>1 Mainstream</td>\n",
       "      <td>http://www.1mainstream.com</td>\n",
       "      <td>Apps|Cable|Distribution|Software</td>\n",
       "      <td>acquired</td>\n",
       "      <td>USA</td>\n",
       "      <td>CA</td>\n",
       "      <td>SF Bay Area</td>\n",
       "      <td>Cupertino</td>\n",
       "      <td>2012-03-01</td>\n",
       "      <td>2015-03-17</td>\n",
       "      <td>2015-03-17</td>\n",
       "    </tr>\n",
       "    <tr>\n",
       "      <th>20</th>\n",
       "      <td>/organization/1000-markets</td>\n",
       "      <td>1000 Markets</td>\n",
       "      <td>http://www.1000markets.com</td>\n",
       "      <td>Art|E-Commerce|Marketplaces</td>\n",
       "      <td>acquired</td>\n",
       "      <td>USA</td>\n",
       "      <td>WA</td>\n",
       "      <td>Seattle</td>\n",
       "      <td>Seattle</td>\n",
       "      <td>2009-01-01</td>\n",
       "      <td>2009-05-15</td>\n",
       "      <td>2009-05-15</td>\n",
       "    </tr>\n",
       "    <tr>\n",
       "      <th>23</th>\n",
       "      <td>/organization/1000memories</td>\n",
       "      <td>1000memories</td>\n",
       "      <td>http://1000memories.com</td>\n",
       "      <td>Curated Web</td>\n",
       "      <td>acquired</td>\n",
       "      <td>USA</td>\n",
       "      <td>CA</td>\n",
       "      <td>SF Bay Area</td>\n",
       "      <td>San Francisco</td>\n",
       "      <td>2010-07-01</td>\n",
       "      <td>2010-01-01</td>\n",
       "      <td>2011-02-16</td>\n",
       "    </tr>\n",
       "    <tr>\n",
       "      <th>31</th>\n",
       "      <td>/organization/100plus</td>\n",
       "      <td>100Plus</td>\n",
       "      <td>http://www.100plus.com</td>\n",
       "      <td>Analytics</td>\n",
       "      <td>acquired</td>\n",
       "      <td>USA</td>\n",
       "      <td>CA</td>\n",
       "      <td>SF Bay Area</td>\n",
       "      <td>San Francisco</td>\n",
       "      <td>2011-09-16</td>\n",
       "      <td>2011-11-02</td>\n",
       "      <td>2011-11-30</td>\n",
       "    </tr>\n",
       "    <tr>\n",
       "      <th>32</th>\n",
       "      <td>/organization/1010data</td>\n",
       "      <td>1010data</td>\n",
       "      <td>http://www.1010data.com</td>\n",
       "      <td>Software</td>\n",
       "      <td>acquired</td>\n",
       "      <td>USA</td>\n",
       "      <td>NY</td>\n",
       "      <td>New York City</td>\n",
       "      <td>New York</td>\n",
       "      <td>2000-01-01</td>\n",
       "      <td>2010-03-08</td>\n",
       "      <td>2010-03-08</td>\n",
       "    </tr>\n",
       "  </tbody>\n",
       "</table>\n",
       "</div>"
      ],
      "text/plain": [
       "                     permalink          name                homepage_url  \\\n",
       "15  /organization/1-mainstream  1 Mainstream  http://www.1mainstream.com   \n",
       "20  /organization/1000-markets  1000 Markets  http://www.1000markets.com   \n",
       "23  /organization/1000memories  1000memories     http://1000memories.com   \n",
       "31       /organization/100plus       100Plus      http://www.100plus.com   \n",
       "32      /organization/1010data      1010data     http://www.1010data.com   \n",
       "\n",
       "                       category_list    status country_code state_code  \\\n",
       "15  Apps|Cable|Distribution|Software  acquired          USA         CA   \n",
       "20       Art|E-Commerce|Marketplaces  acquired          USA         WA   \n",
       "23                       Curated Web  acquired          USA         CA   \n",
       "31                         Analytics  acquired          USA         CA   \n",
       "32                          Software  acquired          USA         NY   \n",
       "\n",
       "           region           city  founded_at first_funding_at last_funding_at  \n",
       "15    SF Bay Area      Cupertino  2012-03-01       2015-03-17      2015-03-17  \n",
       "20        Seattle        Seattle  2009-01-01       2009-05-15      2009-05-15  \n",
       "23    SF Bay Area  San Francisco  2010-07-01       2010-01-01      2011-02-16  \n",
       "31    SF Bay Area  San Francisco  2011-09-16       2011-11-02      2011-11-30  \n",
       "32  New York City       New York  2000-01-01       2010-03-08      2010-03-08  "
      ]
     },
     "execution_count": 25,
     "metadata": {},
     "output_type": "execute_result"
    }
   ],
   "source": [
    "cat_data = raw_data.select_dtypes(include=object)\n",
    "\n",
    "cat_data.head()"
   ]
  },
  {
   "cell_type": "markdown",
   "id": "7eb3298a",
   "metadata": {},
   "source": [
    "### Check Uniqueness of the Data"
   ]
  },
  {
   "cell_type": "code",
   "execution_count": 26,
   "id": "5db15927",
   "metadata": {},
   "outputs": [
    {
     "data": {
      "text/plain": [
       "permalink           13330\n",
       "name                13321\n",
       "homepage_url        12096\n",
       "category_list        5745\n",
       "status                  3\n",
       "country_code           84\n",
       "state_code            209\n",
       "region                595\n",
       "city                 1711\n",
       "founded_at           1637\n",
       "first_funding_at     3789\n",
       "last_funding_at      3666\n",
       "dtype: int64"
      ]
     },
     "execution_count": 26,
     "metadata": {},
     "output_type": "execute_result"
    }
   ],
   "source": [
    "cat_data.nunique()"
   ]
  },
  {
   "cell_type": "markdown",
   "id": "c267f49a",
   "metadata": {},
   "source": [
    "That's a lot of unique values! Lets just drop the permalink, name, and hompeage_url because these columns almost unique, so there is no point to plot the distribution.\n",
    "<br>\n",
    "\n",
    "Next, lets inspect each the category_list because it look like it has too many unique value. "
   ]
  },
  {
   "cell_type": "markdown",
   "id": "caa02f5a",
   "metadata": {},
   "source": [
    "### category_list"
   ]
  },
  {
   "cell_type": "code",
   "execution_count": 27,
   "id": "312f9f82",
   "metadata": {},
   "outputs": [
    {
     "data": {
      "text/html": [
       "<div>\n",
       "<style scoped>\n",
       "    .dataframe tbody tr th:only-of-type {\n",
       "        vertical-align: middle;\n",
       "    }\n",
       "\n",
       "    .dataframe tbody tr th {\n",
       "        vertical-align: top;\n",
       "    }\n",
       "\n",
       "    .dataframe thead th {\n",
       "        text-align: right;\n",
       "    }\n",
       "</style>\n",
       "<table border=\"1\" class=\"dataframe\">\n",
       "  <thead>\n",
       "    <tr style=\"text-align: right;\">\n",
       "      <th></th>\n",
       "      <th>permalink</th>\n",
       "      <th>name</th>\n",
       "      <th>homepage_url</th>\n",
       "      <th>category_list</th>\n",
       "      <th>status</th>\n",
       "      <th>country_code</th>\n",
       "      <th>state_code</th>\n",
       "      <th>region</th>\n",
       "      <th>city</th>\n",
       "      <th>founded_at</th>\n",
       "      <th>first_funding_at</th>\n",
       "      <th>last_funding_at</th>\n",
       "    </tr>\n",
       "  </thead>\n",
       "  <tbody>\n",
       "    <tr>\n",
       "      <th>15</th>\n",
       "      <td>/organization/1-mainstream</td>\n",
       "      <td>1 Mainstream</td>\n",
       "      <td>http://www.1mainstream.com</td>\n",
       "      <td>Apps|Cable|Distribution|Software</td>\n",
       "      <td>acquired</td>\n",
       "      <td>USA</td>\n",
       "      <td>CA</td>\n",
       "      <td>SF Bay Area</td>\n",
       "      <td>Cupertino</td>\n",
       "      <td>2012-03-01</td>\n",
       "      <td>2015-03-17</td>\n",
       "      <td>2015-03-17</td>\n",
       "    </tr>\n",
       "    <tr>\n",
       "      <th>20</th>\n",
       "      <td>/organization/1000-markets</td>\n",
       "      <td>1000 Markets</td>\n",
       "      <td>http://www.1000markets.com</td>\n",
       "      <td>Art|E-Commerce|Marketplaces</td>\n",
       "      <td>acquired</td>\n",
       "      <td>USA</td>\n",
       "      <td>WA</td>\n",
       "      <td>Seattle</td>\n",
       "      <td>Seattle</td>\n",
       "      <td>2009-01-01</td>\n",
       "      <td>2009-05-15</td>\n",
       "      <td>2009-05-15</td>\n",
       "    </tr>\n",
       "    <tr>\n",
       "      <th>23</th>\n",
       "      <td>/organization/1000memories</td>\n",
       "      <td>1000memories</td>\n",
       "      <td>http://1000memories.com</td>\n",
       "      <td>Curated Web</td>\n",
       "      <td>acquired</td>\n",
       "      <td>USA</td>\n",
       "      <td>CA</td>\n",
       "      <td>SF Bay Area</td>\n",
       "      <td>San Francisco</td>\n",
       "      <td>2010-07-01</td>\n",
       "      <td>2010-01-01</td>\n",
       "      <td>2011-02-16</td>\n",
       "    </tr>\n",
       "    <tr>\n",
       "      <th>31</th>\n",
       "      <td>/organization/100plus</td>\n",
       "      <td>100Plus</td>\n",
       "      <td>http://www.100plus.com</td>\n",
       "      <td>Analytics</td>\n",
       "      <td>acquired</td>\n",
       "      <td>USA</td>\n",
       "      <td>CA</td>\n",
       "      <td>SF Bay Area</td>\n",
       "      <td>San Francisco</td>\n",
       "      <td>2011-09-16</td>\n",
       "      <td>2011-11-02</td>\n",
       "      <td>2011-11-30</td>\n",
       "    </tr>\n",
       "    <tr>\n",
       "      <th>32</th>\n",
       "      <td>/organization/1010data</td>\n",
       "      <td>1010data</td>\n",
       "      <td>http://www.1010data.com</td>\n",
       "      <td>Software</td>\n",
       "      <td>acquired</td>\n",
       "      <td>USA</td>\n",
       "      <td>NY</td>\n",
       "      <td>New York City</td>\n",
       "      <td>New York</td>\n",
       "      <td>2000-01-01</td>\n",
       "      <td>2010-03-08</td>\n",
       "      <td>2010-03-08</td>\n",
       "    </tr>\n",
       "    <tr>\n",
       "      <th>...</th>\n",
       "      <td>...</td>\n",
       "      <td>...</td>\n",
       "      <td>...</td>\n",
       "      <td>...</td>\n",
       "      <td>...</td>\n",
       "      <td>...</td>\n",
       "      <td>...</td>\n",
       "      <td>...</td>\n",
       "      <td>...</td>\n",
       "      <td>...</td>\n",
       "      <td>...</td>\n",
       "      <td>...</td>\n",
       "    </tr>\n",
       "    <tr>\n",
       "      <th>66349</th>\n",
       "      <td>/organization/zyncro</td>\n",
       "      <td>Zyncro</td>\n",
       "      <td>http://www.zyncro.com</td>\n",
       "      <td>Cloud Computing|Enterprise 2.0|Enterprise Soft...</td>\n",
       "      <td>acquired</td>\n",
       "      <td>ESP</td>\n",
       "      <td>56</td>\n",
       "      <td>Barcelona</td>\n",
       "      <td>Barcelona</td>\n",
       "      <td>2009-09-01</td>\n",
       "      <td>2011-04-05</td>\n",
       "      <td>2012-02-03</td>\n",
       "    </tr>\n",
       "    <tr>\n",
       "      <th>66350</th>\n",
       "      <td>/organization/zynerba-pharmaceuticals</td>\n",
       "      <td>Zynerba Pharmaceuticals</td>\n",
       "      <td>http://zynerba.com</td>\n",
       "      <td>Pharmaceuticals</td>\n",
       "      <td>ipo</td>\n",
       "      <td>USA</td>\n",
       "      <td>PA</td>\n",
       "      <td>Philadelphia</td>\n",
       "      <td>Radnor</td>\n",
       "      <td>2014-01-01</td>\n",
       "      <td>2014-10-14</td>\n",
       "      <td>2014-10-14</td>\n",
       "    </tr>\n",
       "    <tr>\n",
       "      <th>66352</th>\n",
       "      <td>/organization/zynga</td>\n",
       "      <td>Zynga</td>\n",
       "      <td>http://www.zynga.com</td>\n",
       "      <td>Facebook Applications|Games|Networking|Technology</td>\n",
       "      <td>ipo</td>\n",
       "      <td>USA</td>\n",
       "      <td>CA</td>\n",
       "      <td>SF Bay Area</td>\n",
       "      <td>San Francisco</td>\n",
       "      <td>2007-07-01</td>\n",
       "      <td>2007-01-01</td>\n",
       "      <td>2011-02-18</td>\n",
       "    </tr>\n",
       "    <tr>\n",
       "      <th>66358</th>\n",
       "      <td>/organization/zyraz-technology</td>\n",
       "      <td>Zyraz Technology</td>\n",
       "      <td>http://www.zyraz.com</td>\n",
       "      <td>Biotechnology</td>\n",
       "      <td>closed</td>\n",
       "      <td>MYS</td>\n",
       "      <td>14</td>\n",
       "      <td>MYS - Other</td>\n",
       "      <td>Damansara New Village</td>\n",
       "      <td>1994-01-01</td>\n",
       "      <td>2008-01-01</td>\n",
       "      <td>2013-02-15</td>\n",
       "    </tr>\n",
       "    <tr>\n",
       "      <th>66360</th>\n",
       "      <td>/organization/zystor</td>\n",
       "      <td>Zystor</td>\n",
       "      <td>http://www.zystor.com</td>\n",
       "      <td>Biotechnology</td>\n",
       "      <td>acquired</td>\n",
       "      <td>USA</td>\n",
       "      <td>WI</td>\n",
       "      <td>Milwaukee</td>\n",
       "      <td>Milwaukee</td>\n",
       "      <td>NaN</td>\n",
       "      <td>2004-12-16</td>\n",
       "      <td>2004-12-16</td>\n",
       "    </tr>\n",
       "  </tbody>\n",
       "</table>\n",
       "<p>13330 rows × 12 columns</p>\n",
       "</div>"
      ],
      "text/plain": [
       "                                   permalink                     name  \\\n",
       "15                /organization/1-mainstream             1 Mainstream   \n",
       "20                /organization/1000-markets             1000 Markets   \n",
       "23                /organization/1000memories             1000memories   \n",
       "31                     /organization/100plus                  100Plus   \n",
       "32                    /organization/1010data                 1010data   \n",
       "...                                      ...                      ...   \n",
       "66349                   /organization/zyncro                   Zyncro   \n",
       "66350  /organization/zynerba-pharmaceuticals  Zynerba Pharmaceuticals   \n",
       "66352                    /organization/zynga                    Zynga   \n",
       "66358         /organization/zyraz-technology         Zyraz Technology   \n",
       "66360                   /organization/zystor                   Zystor   \n",
       "\n",
       "                     homepage_url  \\\n",
       "15     http://www.1mainstream.com   \n",
       "20     http://www.1000markets.com   \n",
       "23        http://1000memories.com   \n",
       "31         http://www.100plus.com   \n",
       "32        http://www.1010data.com   \n",
       "...                           ...   \n",
       "66349       http://www.zyncro.com   \n",
       "66350          http://zynerba.com   \n",
       "66352        http://www.zynga.com   \n",
       "66358        http://www.zyraz.com   \n",
       "66360       http://www.zystor.com   \n",
       "\n",
       "                                           category_list    status  \\\n",
       "15                      Apps|Cable|Distribution|Software  acquired   \n",
       "20                           Art|E-Commerce|Marketplaces  acquired   \n",
       "23                                           Curated Web  acquired   \n",
       "31                                             Analytics  acquired   \n",
       "32                                              Software  acquired   \n",
       "...                                                  ...       ...   \n",
       "66349  Cloud Computing|Enterprise 2.0|Enterprise Soft...  acquired   \n",
       "66350                                    Pharmaceuticals       ipo   \n",
       "66352  Facebook Applications|Games|Networking|Technology       ipo   \n",
       "66358                                      Biotechnology    closed   \n",
       "66360                                      Biotechnology  acquired   \n",
       "\n",
       "      country_code state_code         region                   city  \\\n",
       "15             USA         CA    SF Bay Area              Cupertino   \n",
       "20             USA         WA        Seattle                Seattle   \n",
       "23             USA         CA    SF Bay Area          San Francisco   \n",
       "31             USA         CA    SF Bay Area          San Francisco   \n",
       "32             USA         NY  New York City               New York   \n",
       "...            ...        ...            ...                    ...   \n",
       "66349          ESP         56      Barcelona              Barcelona   \n",
       "66350          USA         PA   Philadelphia                 Radnor   \n",
       "66352          USA         CA    SF Bay Area          San Francisco   \n",
       "66358          MYS         14    MYS - Other  Damansara New Village   \n",
       "66360          USA         WI      Milwaukee              Milwaukee   \n",
       "\n",
       "       founded_at first_funding_at last_funding_at  \n",
       "15     2012-03-01       2015-03-17      2015-03-17  \n",
       "20     2009-01-01       2009-05-15      2009-05-15  \n",
       "23     2010-07-01       2010-01-01      2011-02-16  \n",
       "31     2011-09-16       2011-11-02      2011-11-30  \n",
       "32     2000-01-01       2010-03-08      2010-03-08  \n",
       "...           ...              ...             ...  \n",
       "66349  2009-09-01       2011-04-05      2012-02-03  \n",
       "66350  2014-01-01       2014-10-14      2014-10-14  \n",
       "66352  2007-07-01       2007-01-01      2011-02-18  \n",
       "66358  1994-01-01       2008-01-01      2013-02-15  \n",
       "66360         NaN       2004-12-16      2004-12-16  \n",
       "\n",
       "[13330 rows x 12 columns]"
      ]
     },
     "execution_count": 27,
     "metadata": {},
     "output_type": "execute_result"
    }
   ],
   "source": [
    "cat_data"
   ]
  },
  {
   "cell_type": "code",
   "execution_count": 28,
   "id": "5c27650e",
   "metadata": {},
   "outputs": [
    {
     "data": {
      "text/plain": [
       "Software                                                            917\n",
       "Biotechnology                                                       807\n",
       "Curated Web                                                         373\n",
       "Mobile                                                              272\n",
       "Enterprise Software                                                 247\n",
       "                                                                   ... \n",
       "Networking|Technology|Web Hosting                                     1\n",
       "E-Commerce|Facebook Applications                                      1\n",
       "Collaborative Consumption|E-Commerce|Marketplaces|Tourism|Travel      1\n",
       "Apps|Internet                                                         1\n",
       "Facebook Applications|Games|Networking|Technology                     1\n",
       "Name: category_list, Length: 5745, dtype: int64"
      ]
     },
     "execution_count": 28,
     "metadata": {},
     "output_type": "execute_result"
    }
   ],
   "source": [
    "count_categories = cat_data['category_list'].value_counts()\n",
    "\n",
    "count_categories"
   ]
  },
  {
   "cell_type": "markdown",
   "id": "6f1f11eb",
   "metadata": {},
   "source": [
    "As we can see, startup that has multiple categories treated as unique, for now lets drop these startup, we will come back later in data preprocessing to include it in machine learning pipeline.\n",
    "<br>\n",
    "We can see a pattern here, it consider multiple categories when '|' appears, so lets find these values"
   ]
  },
  {
   "cell_type": "code",
   "execution_count": 29,
   "id": "f886e231",
   "metadata": {
    "scrolled": true
   },
   "outputs": [
    {
     "name": "stderr",
     "output_type": "stream",
     "text": [
      "/tmp/ipykernel_6628/235368749.py:1: FutureWarning: The default value of regex will change from True to False in a future version. In addition, single character regular expressions will *not* be treated as literal strings when regex=True.\n",
      "  mul_categories = count_categories.index.str.replace('|', ',').str.contains(',')\n"
     ]
    },
    {
     "data": {
      "text/plain": [
       "array([False, False, False, ...,  True,  True,  True])"
      ]
     },
     "execution_count": 29,
     "metadata": {},
     "output_type": "execute_result"
    }
   ],
   "source": [
    "mul_categories = count_categories.index.str.replace('|', ',').str.contains(',')\n",
    "\n",
    "mul_categories"
   ]
  },
  {
   "cell_type": "code",
   "execution_count": 30,
   "id": "c9594e25",
   "metadata": {},
   "outputs": [
    {
     "data": {
      "text/plain": [
       "Software               917\n",
       "Biotechnology          807\n",
       "Curated Web            373\n",
       "Mobile                 272\n",
       "Enterprise Software    247\n",
       "                      ... \n",
       "Trading                  1\n",
       "Clinical Trials          1\n",
       "Smart Grid               1\n",
       "Bitcoin                  1\n",
       "Developer APIs           1\n",
       "Name: category_list, Length: 214, dtype: int64"
      ]
     },
     "execution_count": 30,
     "metadata": {},
     "output_type": "execute_result"
    }
   ],
   "source": [
    "single_categories = count_categories[~mul_categories]\n",
    "\n",
    "single_categories"
   ]
  },
  {
   "cell_type": "markdown",
   "id": "c2854057",
   "metadata": {},
   "source": [
    "We got the single_categories list! We will use it in data preprocessing to cluster the categories_list by using One Hot Encoder."
   ]
  },
  {
   "cell_type": "markdown",
   "id": "e5badbfe",
   "metadata": {},
   "source": [
    "## EDA Conclusion"
   ]
  },
  {
   "cell_type": "markdown",
   "id": "d994048d",
   "metadata": {},
   "source": [
    "Lets wrap it up:\n",
    "1. SInce our objective is predict if startup success or not (ipo, acquired, closed), we drop the 'operating' rows.\n",
    "2. The target variables not uniformly distributed, so we will evaluate our model using ROC-AUC or F1 score later.\n",
    "3. There are suspectible duplicate startup data, however permalink treat it as unique, so for now we assume these startups with the same name is unique.\n",
    "4. The funding_total_usd contains outliers (the lower bound one), since it doesn't make any sense for someone to fund a startup by just 2 usd...\n",
    "5. Some startups have multiple categories in category_list, we will transform it in data preprocessing later before do machine learning modeling."
   ]
  },
  {
   "cell_type": "markdown",
   "id": "4ef39849",
   "metadata": {},
   "source": [
    "## Data Preprocessing"
   ]
  },
  {
   "cell_type": "markdown",
   "id": "41edd87a",
   "metadata": {},
   "source": [
    "Since the permalink and is name almost unique, we can drop these features."
   ]
  },
  {
   "cell_type": "code",
   "execution_count": 31,
   "id": "17119b44",
   "metadata": {},
   "outputs": [
    {
     "data": {
      "text/html": [
       "<div>\n",
       "<style scoped>\n",
       "    .dataframe tbody tr th:only-of-type {\n",
       "        vertical-align: middle;\n",
       "    }\n",
       "\n",
       "    .dataframe tbody tr th {\n",
       "        vertical-align: top;\n",
       "    }\n",
       "\n",
       "    .dataframe thead th {\n",
       "        text-align: right;\n",
       "    }\n",
       "</style>\n",
       "<table border=\"1\" class=\"dataframe\">\n",
       "  <thead>\n",
       "    <tr style=\"text-align: right;\">\n",
       "      <th></th>\n",
       "      <th>homepage_url</th>\n",
       "      <th>category_list</th>\n",
       "      <th>funding_total_usd</th>\n",
       "      <th>status</th>\n",
       "      <th>country_code</th>\n",
       "      <th>state_code</th>\n",
       "      <th>region</th>\n",
       "      <th>city</th>\n",
       "      <th>funding_rounds</th>\n",
       "      <th>founded_at</th>\n",
       "      <th>first_funding_at</th>\n",
       "      <th>last_funding_at</th>\n",
       "    </tr>\n",
       "  </thead>\n",
       "  <tbody>\n",
       "    <tr>\n",
       "      <th>0</th>\n",
       "      <td>http://www.1mainstream.com</td>\n",
       "      <td>Apps|Cable|Distribution|Software</td>\n",
       "      <td>5000000.0</td>\n",
       "      <td>acquired</td>\n",
       "      <td>USA</td>\n",
       "      <td>CA</td>\n",
       "      <td>SF Bay Area</td>\n",
       "      <td>Cupertino</td>\n",
       "      <td>1</td>\n",
       "      <td>2012-03-01</td>\n",
       "      <td>2015-03-17</td>\n",
       "      <td>2015-03-17</td>\n",
       "    </tr>\n",
       "    <tr>\n",
       "      <th>1</th>\n",
       "      <td>http://www.1000markets.com</td>\n",
       "      <td>Art|E-Commerce|Marketplaces</td>\n",
       "      <td>500000.0</td>\n",
       "      <td>acquired</td>\n",
       "      <td>USA</td>\n",
       "      <td>WA</td>\n",
       "      <td>Seattle</td>\n",
       "      <td>Seattle</td>\n",
       "      <td>1</td>\n",
       "      <td>2009-01-01</td>\n",
       "      <td>2009-05-15</td>\n",
       "      <td>2009-05-15</td>\n",
       "    </tr>\n",
       "    <tr>\n",
       "      <th>2</th>\n",
       "      <td>http://1000memories.com</td>\n",
       "      <td>Curated Web</td>\n",
       "      <td>2535000.0</td>\n",
       "      <td>acquired</td>\n",
       "      <td>USA</td>\n",
       "      <td>CA</td>\n",
       "      <td>SF Bay Area</td>\n",
       "      <td>San Francisco</td>\n",
       "      <td>2</td>\n",
       "      <td>2010-07-01</td>\n",
       "      <td>2010-01-01</td>\n",
       "      <td>2011-02-16</td>\n",
       "    </tr>\n",
       "    <tr>\n",
       "      <th>3</th>\n",
       "      <td>http://www.100plus.com</td>\n",
       "      <td>Analytics</td>\n",
       "      <td>1250000.0</td>\n",
       "      <td>acquired</td>\n",
       "      <td>USA</td>\n",
       "      <td>CA</td>\n",
       "      <td>SF Bay Area</td>\n",
       "      <td>San Francisco</td>\n",
       "      <td>2</td>\n",
       "      <td>2011-09-16</td>\n",
       "      <td>2011-11-02</td>\n",
       "      <td>2011-11-30</td>\n",
       "    </tr>\n",
       "    <tr>\n",
       "      <th>4</th>\n",
       "      <td>http://www.1010data.com</td>\n",
       "      <td>Software</td>\n",
       "      <td>35000000.0</td>\n",
       "      <td>acquired</td>\n",
       "      <td>USA</td>\n",
       "      <td>NY</td>\n",
       "      <td>New York City</td>\n",
       "      <td>New York</td>\n",
       "      <td>1</td>\n",
       "      <td>2000-01-01</td>\n",
       "      <td>2010-03-08</td>\n",
       "      <td>2010-03-08</td>\n",
       "    </tr>\n",
       "    <tr>\n",
       "      <th>...</th>\n",
       "      <td>...</td>\n",
       "      <td>...</td>\n",
       "      <td>...</td>\n",
       "      <td>...</td>\n",
       "      <td>...</td>\n",
       "      <td>...</td>\n",
       "      <td>...</td>\n",
       "      <td>...</td>\n",
       "      <td>...</td>\n",
       "      <td>...</td>\n",
       "      <td>...</td>\n",
       "      <td>...</td>\n",
       "    </tr>\n",
       "    <tr>\n",
       "      <th>13325</th>\n",
       "      <td>http://www.zyncro.com</td>\n",
       "      <td>Cloud Computing|Enterprise 2.0|Enterprise Soft...</td>\n",
       "      <td>3805520.0</td>\n",
       "      <td>acquired</td>\n",
       "      <td>ESP</td>\n",
       "      <td>56</td>\n",
       "      <td>Barcelona</td>\n",
       "      <td>Barcelona</td>\n",
       "      <td>2</td>\n",
       "      <td>2009-09-01</td>\n",
       "      <td>2011-04-05</td>\n",
       "      <td>2012-02-03</td>\n",
       "    </tr>\n",
       "    <tr>\n",
       "      <th>13326</th>\n",
       "      <td>http://zynerba.com</td>\n",
       "      <td>Pharmaceuticals</td>\n",
       "      <td>13000000.0</td>\n",
       "      <td>ipo</td>\n",
       "      <td>USA</td>\n",
       "      <td>PA</td>\n",
       "      <td>Philadelphia</td>\n",
       "      <td>Radnor</td>\n",
       "      <td>1</td>\n",
       "      <td>2014-01-01</td>\n",
       "      <td>2014-10-14</td>\n",
       "      <td>2014-10-14</td>\n",
       "    </tr>\n",
       "    <tr>\n",
       "      <th>13327</th>\n",
       "      <td>http://www.zynga.com</td>\n",
       "      <td>Facebook Applications|Games|Networking|Technology</td>\n",
       "      <td>866550786.0</td>\n",
       "      <td>ipo</td>\n",
       "      <td>USA</td>\n",
       "      <td>CA</td>\n",
       "      <td>SF Bay Area</td>\n",
       "      <td>San Francisco</td>\n",
       "      <td>9</td>\n",
       "      <td>2007-07-01</td>\n",
       "      <td>2007-01-01</td>\n",
       "      <td>2011-02-18</td>\n",
       "    </tr>\n",
       "    <tr>\n",
       "      <th>13328</th>\n",
       "      <td>http://www.zyraz.com</td>\n",
       "      <td>Biotechnology</td>\n",
       "      <td>15419877.0</td>\n",
       "      <td>closed</td>\n",
       "      <td>MYS</td>\n",
       "      <td>14</td>\n",
       "      <td>MYS - Other</td>\n",
       "      <td>Damansara New Village</td>\n",
       "      <td>4</td>\n",
       "      <td>1994-01-01</td>\n",
       "      <td>2008-01-01</td>\n",
       "      <td>2013-02-15</td>\n",
       "    </tr>\n",
       "    <tr>\n",
       "      <th>13329</th>\n",
       "      <td>http://www.zystor.com</td>\n",
       "      <td>Biotechnology</td>\n",
       "      <td>8500000.0</td>\n",
       "      <td>acquired</td>\n",
       "      <td>USA</td>\n",
       "      <td>WI</td>\n",
       "      <td>Milwaukee</td>\n",
       "      <td>Milwaukee</td>\n",
       "      <td>1</td>\n",
       "      <td>NaN</td>\n",
       "      <td>2004-12-16</td>\n",
       "      <td>2004-12-16</td>\n",
       "    </tr>\n",
       "  </tbody>\n",
       "</table>\n",
       "<p>13330 rows × 12 columns</p>\n",
       "</div>"
      ],
      "text/plain": [
       "                     homepage_url  \\\n",
       "0      http://www.1mainstream.com   \n",
       "1      http://www.1000markets.com   \n",
       "2         http://1000memories.com   \n",
       "3          http://www.100plus.com   \n",
       "4         http://www.1010data.com   \n",
       "...                           ...   \n",
       "13325       http://www.zyncro.com   \n",
       "13326          http://zynerba.com   \n",
       "13327        http://www.zynga.com   \n",
       "13328        http://www.zyraz.com   \n",
       "13329       http://www.zystor.com   \n",
       "\n",
       "                                           category_list  funding_total_usd  \\\n",
       "0                       Apps|Cable|Distribution|Software          5000000.0   \n",
       "1                            Art|E-Commerce|Marketplaces           500000.0   \n",
       "2                                            Curated Web          2535000.0   \n",
       "3                                              Analytics          1250000.0   \n",
       "4                                               Software         35000000.0   \n",
       "...                                                  ...                ...   \n",
       "13325  Cloud Computing|Enterprise 2.0|Enterprise Soft...          3805520.0   \n",
       "13326                                    Pharmaceuticals         13000000.0   \n",
       "13327  Facebook Applications|Games|Networking|Technology        866550786.0   \n",
       "13328                                      Biotechnology         15419877.0   \n",
       "13329                                      Biotechnology          8500000.0   \n",
       "\n",
       "         status country_code state_code         region                   city  \\\n",
       "0      acquired          USA         CA    SF Bay Area              Cupertino   \n",
       "1      acquired          USA         WA        Seattle                Seattle   \n",
       "2      acquired          USA         CA    SF Bay Area          San Francisco   \n",
       "3      acquired          USA         CA    SF Bay Area          San Francisco   \n",
       "4      acquired          USA         NY  New York City               New York   \n",
       "...         ...          ...        ...            ...                    ...   \n",
       "13325  acquired          ESP         56      Barcelona              Barcelona   \n",
       "13326       ipo          USA         PA   Philadelphia                 Radnor   \n",
       "13327       ipo          USA         CA    SF Bay Area          San Francisco   \n",
       "13328    closed          MYS         14    MYS - Other  Damansara New Village   \n",
       "13329  acquired          USA         WI      Milwaukee              Milwaukee   \n",
       "\n",
       "       funding_rounds  founded_at first_funding_at last_funding_at  \n",
       "0                   1  2012-03-01       2015-03-17      2015-03-17  \n",
       "1                   1  2009-01-01       2009-05-15      2009-05-15  \n",
       "2                   2  2010-07-01       2010-01-01      2011-02-16  \n",
       "3                   2  2011-09-16       2011-11-02      2011-11-30  \n",
       "4                   1  2000-01-01       2010-03-08      2010-03-08  \n",
       "...               ...         ...              ...             ...  \n",
       "13325               2  2009-09-01       2011-04-05      2012-02-03  \n",
       "13326               1  2014-01-01       2014-10-14      2014-10-14  \n",
       "13327               9  2007-07-01       2007-01-01      2011-02-18  \n",
       "13328               4  1994-01-01       2008-01-01      2013-02-15  \n",
       "13329               1         NaN       2004-12-16      2004-12-16  \n",
       "\n",
       "[13330 rows x 12 columns]"
      ]
     },
     "execution_count": 31,
     "metadata": {},
     "output_type": "execute_result"
    }
   ],
   "source": [
    "data = raw_data.drop(['permalink', 'name'], axis=1).reset_index(drop=True)\n",
    "\n",
    "data"
   ]
  },
  {
   "cell_type": "markdown",
   "id": "e2d73610",
   "metadata": {},
   "source": [
    "### Data Split"
   ]
  },
  {
   "cell_type": "code",
   "execution_count": 196,
   "id": "5ef0c1a0",
   "metadata": {},
   "outputs": [],
   "source": [
    "from sklearn.model_selection import train_test_split\n",
    "\n",
    "X, X_test, y, y_test = train_test_split(\n",
    "    data.drop('status', axis=1),\n",
    "    data[['status']],\n",
    "    test_size=0.2,\n",
    "    random_state=69\n",
    ")\n",
    "\n",
    "X_train, X_val, y_train, y_val = train_test_split(\n",
    "    X,\n",
    "    y,\n",
    "    test_size=0.25,\n",
    "    random_state=69\n",
    ")"
   ]
  },
  {
   "cell_type": "code",
   "execution_count": 33,
   "id": "69c4e5a1",
   "metadata": {},
   "outputs": [
    {
     "data": {
      "text/html": [
       "<div>\n",
       "<style scoped>\n",
       "    .dataframe tbody tr th:only-of-type {\n",
       "        vertical-align: middle;\n",
       "    }\n",
       "\n",
       "    .dataframe tbody tr th {\n",
       "        vertical-align: top;\n",
       "    }\n",
       "\n",
       "    .dataframe thead th {\n",
       "        text-align: right;\n",
       "    }\n",
       "</style>\n",
       "<table border=\"1\" class=\"dataframe\">\n",
       "  <thead>\n",
       "    <tr style=\"text-align: right;\">\n",
       "      <th></th>\n",
       "      <th>homepage_url</th>\n",
       "      <th>category_list</th>\n",
       "      <th>funding_total_usd</th>\n",
       "      <th>country_code</th>\n",
       "      <th>state_code</th>\n",
       "      <th>region</th>\n",
       "      <th>city</th>\n",
       "      <th>funding_rounds</th>\n",
       "      <th>founded_at</th>\n",
       "      <th>first_funding_at</th>\n",
       "      <th>last_funding_at</th>\n",
       "    </tr>\n",
       "  </thead>\n",
       "  <tbody>\n",
       "    <tr>\n",
       "      <th>5399</th>\n",
       "      <td>http://www.ilike.com/</td>\n",
       "      <td>Artists Globally|Social Media</td>\n",
       "      <td>16500000.0</td>\n",
       "      <td>USA</td>\n",
       "      <td>WA</td>\n",
       "      <td>Seattle</td>\n",
       "      <td>Seattle</td>\n",
       "      <td>3</td>\n",
       "      <td>2012-04-28</td>\n",
       "      <td>2002-01-01</td>\n",
       "      <td>2006-01-01</td>\n",
       "    </tr>\n",
       "    <tr>\n",
       "      <th>8282</th>\n",
       "      <td>http://www.openair.com</td>\n",
       "      <td>Software</td>\n",
       "      <td>16000000.0</td>\n",
       "      <td>USA</td>\n",
       "      <td>MA</td>\n",
       "      <td>Boston</td>\n",
       "      <td>Boston</td>\n",
       "      <td>1</td>\n",
       "      <td>1999-01-01</td>\n",
       "      <td>2000-01-01</td>\n",
       "      <td>2000-01-01</td>\n",
       "    </tr>\n",
       "    <tr>\n",
       "      <th>6398</th>\n",
       "      <td>https://www.lendvo.com</td>\n",
       "      <td>NaN</td>\n",
       "      <td>1325000.0</td>\n",
       "      <td>NaN</td>\n",
       "      <td>NaN</td>\n",
       "      <td>NaN</td>\n",
       "      <td>NaN</td>\n",
       "      <td>1</td>\n",
       "      <td>2015-06-23</td>\n",
       "      <td>2015-06-23</td>\n",
       "      <td>2015-06-23</td>\n",
       "    </tr>\n",
       "    <tr>\n",
       "      <th>2645</th>\n",
       "      <td>http://www.complete.ie</td>\n",
       "      <td>Web Hosting</td>\n",
       "      <td>5630000.0</td>\n",
       "      <td>NaN</td>\n",
       "      <td>NaN</td>\n",
       "      <td>NaN</td>\n",
       "      <td>NaN</td>\n",
       "      <td>1</td>\n",
       "      <td>2001-01-01</td>\n",
       "      <td>2007-09-24</td>\n",
       "      <td>2007-09-24</td>\n",
       "    </tr>\n",
       "    <tr>\n",
       "      <th>4711</th>\n",
       "      <td>http://www.glossybox.com</td>\n",
       "      <td>Beauty|Communities|E-Commerce</td>\n",
       "      <td>NaN</td>\n",
       "      <td>DEU</td>\n",
       "      <td>16</td>\n",
       "      <td>Berlin</td>\n",
       "      <td>Berlin</td>\n",
       "      <td>2</td>\n",
       "      <td>2011-01-01</td>\n",
       "      <td>2011-02-15</td>\n",
       "      <td>2011-05-31</td>\n",
       "    </tr>\n",
       "  </tbody>\n",
       "</table>\n",
       "</div>"
      ],
      "text/plain": [
       "                  homepage_url                  category_list  \\\n",
       "5399     http://www.ilike.com/  Artists Globally|Social Media   \n",
       "8282    http://www.openair.com                       Software   \n",
       "6398    https://www.lendvo.com                            NaN   \n",
       "2645    http://www.complete.ie                    Web Hosting   \n",
       "4711  http://www.glossybox.com  Beauty|Communities|E-Commerce   \n",
       "\n",
       "      funding_total_usd country_code state_code   region     city  \\\n",
       "5399         16500000.0          USA         WA  Seattle  Seattle   \n",
       "8282         16000000.0          USA         MA   Boston   Boston   \n",
       "6398          1325000.0          NaN        NaN      NaN      NaN   \n",
       "2645          5630000.0          NaN        NaN      NaN      NaN   \n",
       "4711                NaN          DEU         16   Berlin   Berlin   \n",
       "\n",
       "      funding_rounds  founded_at first_funding_at last_funding_at  \n",
       "5399               3  2012-04-28       2002-01-01      2006-01-01  \n",
       "8282               1  1999-01-01       2000-01-01      2000-01-01  \n",
       "6398               1  2015-06-23       2015-06-23      2015-06-23  \n",
       "2645               1  2001-01-01       2007-09-24      2007-09-24  \n",
       "4711               2  2011-01-01       2011-02-15      2011-05-31  "
      ]
     },
     "execution_count": 33,
     "metadata": {},
     "output_type": "execute_result"
    }
   ],
   "source": [
    "X_train.head()"
   ]
  },
  {
   "cell_type": "markdown",
   "id": "140316af",
   "metadata": {},
   "source": [
    "### Valid Input for homepage_url"
   ]
  },
  {
   "cell_type": "code",
   "execution_count": 34,
   "id": "1fe86d5a",
   "metadata": {
    "scrolled": true
   },
   "outputs": [],
   "source": [
    "# protocol url\n",
    "protocol_raw = X_train['homepage_url'].str.split(':').str[0]\n",
    "valid_protocol = protocol_raw.value_counts().index\n",
    "\n",
    "# domain url\n",
    "dom_raw = X_train['homepage_url'].str.split('.', n=2).str[-1].str.split('/').str[0]\n",
    "valid_dom = dom_raw.value_counts()[dom_raw.value_counts() > 4].index"
   ]
  },
  {
   "cell_type": "markdown",
   "id": "520bf80d",
   "metadata": {},
   "source": [
    "### homepage_url Pipeline"
   ]
  },
  {
   "cell_type": "code",
   "execution_count": 35,
   "id": "09e6b0d6",
   "metadata": {},
   "outputs": [],
   "source": [
    "from sklearn.base import BaseEstimator, TransformerMixin\n",
    "\n",
    "class UrlTrans(BaseEstimator, TransformerMixin):\n",
    "    def __init__(self, protocol, domain):\n",
    "        self.protocol = protocol\n",
    "        self.domain = domain\n",
    "    \n",
    "    def fit(self, X, y=None):\n",
    "        return self\n",
    "    \n",
    "    def transform(self, X, y=None):\n",
    "        protocol_raw = X['homepage_url'].str.split(':').str[0]\n",
    "        protocol_invalid_index = (~protocol_raw.str.fullmatch('|'.join(self.protocol)).astype(bool))\n",
    "        protocol_raw[protocol_invalid_index] = None\n",
    "        \n",
    "        dom_raw = X['homepage_url'].str.split('.', n=2).str[-1].str.split('/').str[0]\n",
    "        dom_invalid_index = (~dom_raw.str.fullmatch('|'.join(self.domain)).astype(bool))\n",
    "        dom_raw[dom_invalid_index] = None\n",
    "        \n",
    "        X['protocol_url'] = protocol_raw\n",
    "        X['domain_url'] = dom_raw\n",
    "        \n",
    "        return X.drop('homepage_url', axis=1)"
   ]
  },
  {
   "cell_type": "code",
   "execution_count": 36,
   "id": "2c3b8989",
   "metadata": {},
   "outputs": [
    {
     "data": {
      "text/html": [
       "<div>\n",
       "<style scoped>\n",
       "    .dataframe tbody tr th:only-of-type {\n",
       "        vertical-align: middle;\n",
       "    }\n",
       "\n",
       "    .dataframe tbody tr th {\n",
       "        vertical-align: top;\n",
       "    }\n",
       "\n",
       "    .dataframe thead th {\n",
       "        text-align: right;\n",
       "    }\n",
       "</style>\n",
       "<table border=\"1\" class=\"dataframe\">\n",
       "  <thead>\n",
       "    <tr style=\"text-align: right;\">\n",
       "      <th></th>\n",
       "      <th>category_list</th>\n",
       "      <th>funding_total_usd</th>\n",
       "      <th>country_code</th>\n",
       "      <th>state_code</th>\n",
       "      <th>region</th>\n",
       "      <th>city</th>\n",
       "      <th>funding_rounds</th>\n",
       "      <th>founded_at</th>\n",
       "      <th>first_funding_at</th>\n",
       "      <th>last_funding_at</th>\n",
       "      <th>protocol_url</th>\n",
       "      <th>domain_url</th>\n",
       "    </tr>\n",
       "  </thead>\n",
       "  <tbody>\n",
       "    <tr>\n",
       "      <th>5399</th>\n",
       "      <td>Artists Globally|Social Media</td>\n",
       "      <td>16500000.0</td>\n",
       "      <td>USA</td>\n",
       "      <td>WA</td>\n",
       "      <td>Seattle</td>\n",
       "      <td>Seattle</td>\n",
       "      <td>3</td>\n",
       "      <td>2012-04-28</td>\n",
       "      <td>2002-01-01</td>\n",
       "      <td>2006-01-01</td>\n",
       "      <td>http</td>\n",
       "      <td>com</td>\n",
       "    </tr>\n",
       "    <tr>\n",
       "      <th>8282</th>\n",
       "      <td>Software</td>\n",
       "      <td>16000000.0</td>\n",
       "      <td>USA</td>\n",
       "      <td>MA</td>\n",
       "      <td>Boston</td>\n",
       "      <td>Boston</td>\n",
       "      <td>1</td>\n",
       "      <td>1999-01-01</td>\n",
       "      <td>2000-01-01</td>\n",
       "      <td>2000-01-01</td>\n",
       "      <td>http</td>\n",
       "      <td>com</td>\n",
       "    </tr>\n",
       "    <tr>\n",
       "      <th>6398</th>\n",
       "      <td>NaN</td>\n",
       "      <td>1325000.0</td>\n",
       "      <td>NaN</td>\n",
       "      <td>NaN</td>\n",
       "      <td>NaN</td>\n",
       "      <td>NaN</td>\n",
       "      <td>1</td>\n",
       "      <td>2015-06-23</td>\n",
       "      <td>2015-06-23</td>\n",
       "      <td>2015-06-23</td>\n",
       "      <td>https</td>\n",
       "      <td>com</td>\n",
       "    </tr>\n",
       "    <tr>\n",
       "      <th>2645</th>\n",
       "      <td>Web Hosting</td>\n",
       "      <td>5630000.0</td>\n",
       "      <td>NaN</td>\n",
       "      <td>NaN</td>\n",
       "      <td>NaN</td>\n",
       "      <td>NaN</td>\n",
       "      <td>1</td>\n",
       "      <td>2001-01-01</td>\n",
       "      <td>2007-09-24</td>\n",
       "      <td>2007-09-24</td>\n",
       "      <td>http</td>\n",
       "      <td>None</td>\n",
       "    </tr>\n",
       "    <tr>\n",
       "      <th>4711</th>\n",
       "      <td>Beauty|Communities|E-Commerce</td>\n",
       "      <td>NaN</td>\n",
       "      <td>DEU</td>\n",
       "      <td>16</td>\n",
       "      <td>Berlin</td>\n",
       "      <td>Berlin</td>\n",
       "      <td>2</td>\n",
       "      <td>2011-01-01</td>\n",
       "      <td>2011-02-15</td>\n",
       "      <td>2011-05-31</td>\n",
       "      <td>http</td>\n",
       "      <td>com</td>\n",
       "    </tr>\n",
       "  </tbody>\n",
       "</table>\n",
       "</div>"
      ],
      "text/plain": [
       "                      category_list  funding_total_usd country_code  \\\n",
       "5399  Artists Globally|Social Media         16500000.0          USA   \n",
       "8282                       Software         16000000.0          USA   \n",
       "6398                            NaN          1325000.0          NaN   \n",
       "2645                    Web Hosting          5630000.0          NaN   \n",
       "4711  Beauty|Communities|E-Commerce                NaN          DEU   \n",
       "\n",
       "     state_code   region     city  funding_rounds  founded_at  \\\n",
       "5399         WA  Seattle  Seattle               3  2012-04-28   \n",
       "8282         MA   Boston   Boston               1  1999-01-01   \n",
       "6398        NaN      NaN      NaN               1  2015-06-23   \n",
       "2645        NaN      NaN      NaN               1  2001-01-01   \n",
       "4711         16   Berlin   Berlin               2  2011-01-01   \n",
       "\n",
       "     first_funding_at last_funding_at protocol_url domain_url  \n",
       "5399       2002-01-01      2006-01-01         http        com  \n",
       "8282       2000-01-01      2000-01-01         http        com  \n",
       "6398       2015-06-23      2015-06-23        https        com  \n",
       "2645       2007-09-24      2007-09-24         http       None  \n",
       "4711       2011-02-15      2011-05-31         http        com  "
      ]
     },
     "execution_count": 36,
     "metadata": {},
     "output_type": "execute_result"
    }
   ],
   "source": [
    "UrlTrans(valid_protocol, valid_dom).fit_transform(X_train).head()"
   ]
  },
  {
   "cell_type": "markdown",
   "id": "f6281e2f",
   "metadata": {},
   "source": [
    "### category_list Pipeline"
   ]
  },
  {
   "cell_type": "code",
   "execution_count": 37,
   "id": "d38796f4",
   "metadata": {},
   "outputs": [],
   "source": [
    "class CatTrans(BaseEstimator, TransformerMixin):\n",
    "    def fit(self, X, y=None):\n",
    "        return self\n",
    "    \n",
    "    def transform(self, X, y=None):\n",
    "        X['category_list'] = X['category_list'].fillna('Others').str.split('|')\n",
    "        \n",
    "        return X"
   ]
  },
  {
   "cell_type": "markdown",
   "id": "70d5b5ce",
   "metadata": {},
   "source": [
    "### Date Pipeline"
   ]
  },
  {
   "cell_type": "code",
   "execution_count": 61,
   "id": "aa08031e",
   "metadata": {},
   "outputs": [],
   "source": [
    "class DateSeparator(BaseEstimator, TransformerMixin):\n",
    "    def fit(self, X, y=None):\n",
    "        return self\n",
    "    \n",
    "    def transform(self, X, y=None):\n",
    "        for item in (['founded_at', 'first_funding_at', 'last_funding_at']):\n",
    "            temp_date = pd.to_datetime(X[item], errors='coerce').dt\n",
    "            \n",
    "            X[f'day_{item}'] = temp_date.day\n",
    "            X[f'month_{item}'] = temp_date.month\n",
    "            X[f'year_{item}'] = temp_date.year\n",
    "            \n",
    "            X = X.drop(item, axis=1)\n",
    "            \n",
    "        return X"
   ]
  },
  {
   "cell_type": "markdown",
   "id": "2ba4382e",
   "metadata": {},
   "source": [
    "### Categorical Pipeline"
   ]
  },
  {
   "cell_type": "code",
   "execution_count": 62,
   "id": "e39a4748",
   "metadata": {},
   "outputs": [
    {
     "data": {
      "text/html": [
       "<style>#sk-container-id-6 {color: black;background-color: white;}#sk-container-id-6 pre{padding: 0;}#sk-container-id-6 div.sk-toggleable {background-color: white;}#sk-container-id-6 label.sk-toggleable__label {cursor: pointer;display: block;width: 100%;margin-bottom: 0;padding: 0.3em;box-sizing: border-box;text-align: center;}#sk-container-id-6 label.sk-toggleable__label-arrow:before {content: \"▸\";float: left;margin-right: 0.25em;color: #696969;}#sk-container-id-6 label.sk-toggleable__label-arrow:hover:before {color: black;}#sk-container-id-6 div.sk-estimator:hover label.sk-toggleable__label-arrow:before {color: black;}#sk-container-id-6 div.sk-toggleable__content {max-height: 0;max-width: 0;overflow: hidden;text-align: left;background-color: #f0f8ff;}#sk-container-id-6 div.sk-toggleable__content pre {margin: 0.2em;color: black;border-radius: 0.25em;background-color: #f0f8ff;}#sk-container-id-6 input.sk-toggleable__control:checked~div.sk-toggleable__content {max-height: 200px;max-width: 100%;overflow: auto;}#sk-container-id-6 input.sk-toggleable__control:checked~label.sk-toggleable__label-arrow:before {content: \"▾\";}#sk-container-id-6 div.sk-estimator input.sk-toggleable__control:checked~label.sk-toggleable__label {background-color: #d4ebff;}#sk-container-id-6 div.sk-label input.sk-toggleable__control:checked~label.sk-toggleable__label {background-color: #d4ebff;}#sk-container-id-6 input.sk-hidden--visually {border: 0;clip: rect(1px 1px 1px 1px);clip: rect(1px, 1px, 1px, 1px);height: 1px;margin: -1px;overflow: hidden;padding: 0;position: absolute;width: 1px;}#sk-container-id-6 div.sk-estimator {font-family: monospace;background-color: #f0f8ff;border: 1px dotted black;border-radius: 0.25em;box-sizing: border-box;margin-bottom: 0.5em;}#sk-container-id-6 div.sk-estimator:hover {background-color: #d4ebff;}#sk-container-id-6 div.sk-parallel-item::after {content: \"\";width: 100%;border-bottom: 1px solid gray;flex-grow: 1;}#sk-container-id-6 div.sk-label:hover label.sk-toggleable__label {background-color: #d4ebff;}#sk-container-id-6 div.sk-serial::before {content: \"\";position: absolute;border-left: 1px solid gray;box-sizing: border-box;top: 0;bottom: 0;left: 50%;z-index: 0;}#sk-container-id-6 div.sk-serial {display: flex;flex-direction: column;align-items: center;background-color: white;padding-right: 0.2em;padding-left: 0.2em;position: relative;}#sk-container-id-6 div.sk-item {position: relative;z-index: 1;}#sk-container-id-6 div.sk-parallel {display: flex;align-items: stretch;justify-content: center;background-color: white;position: relative;}#sk-container-id-6 div.sk-item::before, #sk-container-id-6 div.sk-parallel-item::before {content: \"\";position: absolute;border-left: 1px solid gray;box-sizing: border-box;top: 0;bottom: 0;left: 50%;z-index: -1;}#sk-container-id-6 div.sk-parallel-item {display: flex;flex-direction: column;z-index: 1;position: relative;background-color: white;}#sk-container-id-6 div.sk-parallel-item:first-child::after {align-self: flex-end;width: 50%;}#sk-container-id-6 div.sk-parallel-item:last-child::after {align-self: flex-start;width: 50%;}#sk-container-id-6 div.sk-parallel-item:only-child::after {width: 0;}#sk-container-id-6 div.sk-dashed-wrapped {border: 1px dashed gray;margin: 0 0.4em 0.5em 0.4em;box-sizing: border-box;padding-bottom: 0.4em;background-color: white;}#sk-container-id-6 div.sk-label label {font-family: monospace;font-weight: bold;display: inline-block;line-height: 1.2em;}#sk-container-id-6 div.sk-label-container {text-align: center;}#sk-container-id-6 div.sk-container {/* jupyter's `normalize.less` sets `[hidden] { display: none; }` but bootstrap.min.css set `[hidden] { display: none !important; }` so we also need the `!important` here to be able to override the default hidden behavior on the sphinx rendered scikit-learn.org. See: https://github.com/scikit-learn/scikit-learn/issues/21755 */display: inline-block !important;position: relative;}#sk-container-id-6 div.sk-text-repr-fallback {display: none;}</style><div id=\"sk-container-id-6\" class=\"sk-top-container\"><div class=\"sk-text-repr-fallback\"><pre>Pipeline(steps=[(&#x27;urltrans&#x27;,\n",
       "                 UrlTrans(domain=Index([&#x27;com&#x27;, &#x27;net&#x27;, &#x27;ru&#x27;, &#x27;co&#x27;, &#x27;io&#x27;, &#x27;de&#x27;, &#x27;org&#x27;, &#x27;co.uk&#x27;, &#x27;com.br&#x27;, &#x27;me&#x27;,\n",
       "       &#x27;tv&#x27;, &#x27;us&#x27;, &#x27;in&#x27;, &#x27;fr&#x27;, &#x27;ca&#x27;, &#x27;jp&#x27;, &#x27;it&#x27;, &#x27;com.au&#x27;, &#x27;fm&#x27;, &#x27;nl&#x27;, &#x27;cn&#x27;,\n",
       "       &#x27;se&#x27;, &#x27;uk&#x27;, &#x27;eu&#x27;, &#x27;com.cn&#x27;, &#x27;es&#x27;, &#x27;pl&#x27;, &#x27;mobi&#x27;, &#x27;ch&#x27;, &#x27;cc&#x27;, &#x27;ag&#x27;, &#x27;no&#x27;,\n",
       "       &#x27;ly&#x27;, &#x27;info&#x27;, &#x27;co.jp&#x27;, &#x27;au&#x27;, &#x27;cz&#x27;],\n",
       "      dtype=&#x27;object&#x27;),\n",
       "                          protocol=Index([&#x27;http&#x27;, &#x27;https&#x27;], dtype=&#x27;object&#x27;))),\n",
       "                (&#x27;cattrans&#x27;, CatTrans()), (&#x27;dateseparator&#x27;, DateSeparator())])</pre><b>In a Jupyter environment, please rerun this cell to show the HTML representation or trust the notebook. <br />On GitHub, the HTML representation is unable to render, please try loading this page with nbviewer.org.</b></div><div class=\"sk-container\" hidden><div class=\"sk-item sk-dashed-wrapped\"><div class=\"sk-label-container\"><div class=\"sk-label sk-toggleable\"><input class=\"sk-toggleable__control sk-hidden--visually\" id=\"sk-estimator-id-42\" type=\"checkbox\" ><label for=\"sk-estimator-id-42\" class=\"sk-toggleable__label sk-toggleable__label-arrow\">Pipeline</label><div class=\"sk-toggleable__content\"><pre>Pipeline(steps=[(&#x27;urltrans&#x27;,\n",
       "                 UrlTrans(domain=Index([&#x27;com&#x27;, &#x27;net&#x27;, &#x27;ru&#x27;, &#x27;co&#x27;, &#x27;io&#x27;, &#x27;de&#x27;, &#x27;org&#x27;, &#x27;co.uk&#x27;, &#x27;com.br&#x27;, &#x27;me&#x27;,\n",
       "       &#x27;tv&#x27;, &#x27;us&#x27;, &#x27;in&#x27;, &#x27;fr&#x27;, &#x27;ca&#x27;, &#x27;jp&#x27;, &#x27;it&#x27;, &#x27;com.au&#x27;, &#x27;fm&#x27;, &#x27;nl&#x27;, &#x27;cn&#x27;,\n",
       "       &#x27;se&#x27;, &#x27;uk&#x27;, &#x27;eu&#x27;, &#x27;com.cn&#x27;, &#x27;es&#x27;, &#x27;pl&#x27;, &#x27;mobi&#x27;, &#x27;ch&#x27;, &#x27;cc&#x27;, &#x27;ag&#x27;, &#x27;no&#x27;,\n",
       "       &#x27;ly&#x27;, &#x27;info&#x27;, &#x27;co.jp&#x27;, &#x27;au&#x27;, &#x27;cz&#x27;],\n",
       "      dtype=&#x27;object&#x27;),\n",
       "                          protocol=Index([&#x27;http&#x27;, &#x27;https&#x27;], dtype=&#x27;object&#x27;))),\n",
       "                (&#x27;cattrans&#x27;, CatTrans()), (&#x27;dateseparator&#x27;, DateSeparator())])</pre></div></div></div><div class=\"sk-serial\"><div class=\"sk-item\"><div class=\"sk-estimator sk-toggleable\"><input class=\"sk-toggleable__control sk-hidden--visually\" id=\"sk-estimator-id-43\" type=\"checkbox\" ><label for=\"sk-estimator-id-43\" class=\"sk-toggleable__label sk-toggleable__label-arrow\">UrlTrans</label><div class=\"sk-toggleable__content\"><pre>UrlTrans(domain=Index([&#x27;com&#x27;, &#x27;net&#x27;, &#x27;ru&#x27;, &#x27;co&#x27;, &#x27;io&#x27;, &#x27;de&#x27;, &#x27;org&#x27;, &#x27;co.uk&#x27;, &#x27;com.br&#x27;, &#x27;me&#x27;,\n",
       "       &#x27;tv&#x27;, &#x27;us&#x27;, &#x27;in&#x27;, &#x27;fr&#x27;, &#x27;ca&#x27;, &#x27;jp&#x27;, &#x27;it&#x27;, &#x27;com.au&#x27;, &#x27;fm&#x27;, &#x27;nl&#x27;, &#x27;cn&#x27;,\n",
       "       &#x27;se&#x27;, &#x27;uk&#x27;, &#x27;eu&#x27;, &#x27;com.cn&#x27;, &#x27;es&#x27;, &#x27;pl&#x27;, &#x27;mobi&#x27;, &#x27;ch&#x27;, &#x27;cc&#x27;, &#x27;ag&#x27;, &#x27;no&#x27;,\n",
       "       &#x27;ly&#x27;, &#x27;info&#x27;, &#x27;co.jp&#x27;, &#x27;au&#x27;, &#x27;cz&#x27;],\n",
       "      dtype=&#x27;object&#x27;),\n",
       "         protocol=Index([&#x27;http&#x27;, &#x27;https&#x27;], dtype=&#x27;object&#x27;))</pre></div></div></div><div class=\"sk-item\"><div class=\"sk-estimator sk-toggleable\"><input class=\"sk-toggleable__control sk-hidden--visually\" id=\"sk-estimator-id-44\" type=\"checkbox\" ><label for=\"sk-estimator-id-44\" class=\"sk-toggleable__label sk-toggleable__label-arrow\">CatTrans</label><div class=\"sk-toggleable__content\"><pre>CatTrans()</pre></div></div></div><div class=\"sk-item\"><div class=\"sk-estimator sk-toggleable\"><input class=\"sk-toggleable__control sk-hidden--visually\" id=\"sk-estimator-id-45\" type=\"checkbox\" ><label for=\"sk-estimator-id-45\" class=\"sk-toggleable__label sk-toggleable__label-arrow\">DateSeparator</label><div class=\"sk-toggleable__content\"><pre>DateSeparator()</pre></div></div></div></div></div></div></div>"
      ],
      "text/plain": [
       "Pipeline(steps=[('urltrans',\n",
       "                 UrlTrans(domain=Index(['com', 'net', 'ru', 'co', 'io', 'de', 'org', 'co.uk', 'com.br', 'me',\n",
       "       'tv', 'us', 'in', 'fr', 'ca', 'jp', 'it', 'com.au', 'fm', 'nl', 'cn',\n",
       "       'se', 'uk', 'eu', 'com.cn', 'es', 'pl', 'mobi', 'ch', 'cc', 'ag', 'no',\n",
       "       'ly', 'info', 'co.jp', 'au', 'cz'],\n",
       "      dtype='object'),\n",
       "                          protocol=Index(['http', 'https'], dtype='object'))),\n",
       "                ('cattrans', CatTrans()), ('dateseparator', DateSeparator())])"
      ]
     },
     "execution_count": 62,
     "metadata": {},
     "output_type": "execute_result"
    }
   ],
   "source": [
    "from sklearn.pipeline import make_pipeline\n",
    "from sklearn.compose import ColumnTransformer\n",
    "from sklearn.preprocessing import OneHotEncoder, MultiLabelBinarizer\n",
    "\n",
    "cat_trans = make_pipeline(\n",
    "    UrlTrans(valid_protocol, valid_dom),\n",
    "    CatTrans(),\n",
    "    DateSeparator()\n",
    ")\n",
    "\n",
    "cat_trans"
   ]
  },
  {
   "cell_type": "code",
   "execution_count": 40,
   "id": "b8cafa58",
   "metadata": {},
   "outputs": [
    {
     "data": {
      "text/html": [
       "<style>#sk-container-id-2 {color: black;background-color: white;}#sk-container-id-2 pre{padding: 0;}#sk-container-id-2 div.sk-toggleable {background-color: white;}#sk-container-id-2 label.sk-toggleable__label {cursor: pointer;display: block;width: 100%;margin-bottom: 0;padding: 0.3em;box-sizing: border-box;text-align: center;}#sk-container-id-2 label.sk-toggleable__label-arrow:before {content: \"▸\";float: left;margin-right: 0.25em;color: #696969;}#sk-container-id-2 label.sk-toggleable__label-arrow:hover:before {color: black;}#sk-container-id-2 div.sk-estimator:hover label.sk-toggleable__label-arrow:before {color: black;}#sk-container-id-2 div.sk-toggleable__content {max-height: 0;max-width: 0;overflow: hidden;text-align: left;background-color: #f0f8ff;}#sk-container-id-2 div.sk-toggleable__content pre {margin: 0.2em;color: black;border-radius: 0.25em;background-color: #f0f8ff;}#sk-container-id-2 input.sk-toggleable__control:checked~div.sk-toggleable__content {max-height: 200px;max-width: 100%;overflow: auto;}#sk-container-id-2 input.sk-toggleable__control:checked~label.sk-toggleable__label-arrow:before {content: \"▾\";}#sk-container-id-2 div.sk-estimator input.sk-toggleable__control:checked~label.sk-toggleable__label {background-color: #d4ebff;}#sk-container-id-2 div.sk-label input.sk-toggleable__control:checked~label.sk-toggleable__label {background-color: #d4ebff;}#sk-container-id-2 input.sk-hidden--visually {border: 0;clip: rect(1px 1px 1px 1px);clip: rect(1px, 1px, 1px, 1px);height: 1px;margin: -1px;overflow: hidden;padding: 0;position: absolute;width: 1px;}#sk-container-id-2 div.sk-estimator {font-family: monospace;background-color: #f0f8ff;border: 1px dotted black;border-radius: 0.25em;box-sizing: border-box;margin-bottom: 0.5em;}#sk-container-id-2 div.sk-estimator:hover {background-color: #d4ebff;}#sk-container-id-2 div.sk-parallel-item::after {content: \"\";width: 100%;border-bottom: 1px solid gray;flex-grow: 1;}#sk-container-id-2 div.sk-label:hover label.sk-toggleable__label {background-color: #d4ebff;}#sk-container-id-2 div.sk-serial::before {content: \"\";position: absolute;border-left: 1px solid gray;box-sizing: border-box;top: 0;bottom: 0;left: 50%;z-index: 0;}#sk-container-id-2 div.sk-serial {display: flex;flex-direction: column;align-items: center;background-color: white;padding-right: 0.2em;padding-left: 0.2em;position: relative;}#sk-container-id-2 div.sk-item {position: relative;z-index: 1;}#sk-container-id-2 div.sk-parallel {display: flex;align-items: stretch;justify-content: center;background-color: white;position: relative;}#sk-container-id-2 div.sk-item::before, #sk-container-id-2 div.sk-parallel-item::before {content: \"\";position: absolute;border-left: 1px solid gray;box-sizing: border-box;top: 0;bottom: 0;left: 50%;z-index: -1;}#sk-container-id-2 div.sk-parallel-item {display: flex;flex-direction: column;z-index: 1;position: relative;background-color: white;}#sk-container-id-2 div.sk-parallel-item:first-child::after {align-self: flex-end;width: 50%;}#sk-container-id-2 div.sk-parallel-item:last-child::after {align-self: flex-start;width: 50%;}#sk-container-id-2 div.sk-parallel-item:only-child::after {width: 0;}#sk-container-id-2 div.sk-dashed-wrapped {border: 1px dashed gray;margin: 0 0.4em 0.5em 0.4em;box-sizing: border-box;padding-bottom: 0.4em;background-color: white;}#sk-container-id-2 div.sk-label label {font-family: monospace;font-weight: bold;display: inline-block;line-height: 1.2em;}#sk-container-id-2 div.sk-label-container {text-align: center;}#sk-container-id-2 div.sk-container {/* jupyter's `normalize.less` sets `[hidden] { display: none; }` but bootstrap.min.css set `[hidden] { display: none !important; }` so we also need the `!important` here to be able to override the default hidden behavior on the sphinx rendered scikit-learn.org. See: https://github.com/scikit-learn/scikit-learn/issues/21755 */display: inline-block !important;position: relative;}#sk-container-id-2 div.sk-text-repr-fallback {display: none;}</style><div id=\"sk-container-id-2\" class=\"sk-top-container\"><div class=\"sk-text-repr-fallback\"><pre>Pipeline(steps=[(&#x27;dftoseries&#x27;, DfToSeries()),\n",
       "                (&#x27;mylabelbinarizer&#x27;,\n",
       "                 &lt;__main__.MyLabelBinarizer object at 0x7f6171205250&gt;)])</pre><b>In a Jupyter environment, please rerun this cell to show the HTML representation or trust the notebook. <br />On GitHub, the HTML representation is unable to render, please try loading this page with nbviewer.org.</b></div><div class=\"sk-container\" hidden><div class=\"sk-item sk-dashed-wrapped\"><div class=\"sk-label-container\"><div class=\"sk-label sk-toggleable\"><input class=\"sk-toggleable__control sk-hidden--visually\" id=\"sk-estimator-id-5\" type=\"checkbox\" ><label for=\"sk-estimator-id-5\" class=\"sk-toggleable__label sk-toggleable__label-arrow\">Pipeline</label><div class=\"sk-toggleable__content\"><pre>Pipeline(steps=[(&#x27;dftoseries&#x27;, DfToSeries()),\n",
       "                (&#x27;mylabelbinarizer&#x27;,\n",
       "                 &lt;__main__.MyLabelBinarizer object at 0x7f6171205250&gt;)])</pre></div></div></div><div class=\"sk-serial\"><div class=\"sk-item\"><div class=\"sk-estimator sk-toggleable\"><input class=\"sk-toggleable__control sk-hidden--visually\" id=\"sk-estimator-id-6\" type=\"checkbox\" ><label for=\"sk-estimator-id-6\" class=\"sk-toggleable__label sk-toggleable__label-arrow\">DfToSeries</label><div class=\"sk-toggleable__content\"><pre>DfToSeries()</pre></div></div></div><div class=\"sk-item\"><div class=\"sk-estimator sk-toggleable\"><input class=\"sk-toggleable__control sk-hidden--visually\" id=\"sk-estimator-id-7\" type=\"checkbox\" ><label for=\"sk-estimator-id-7\" class=\"sk-toggleable__label sk-toggleable__label-arrow\">MyLabelBinarizer</label><div class=\"sk-toggleable__content\"><pre>&lt;__main__.MyLabelBinarizer object at 0x7f6171205250&gt;</pre></div></div></div></div></div></div></div>"
      ],
      "text/plain": [
       "Pipeline(steps=[('dftoseries', DfToSeries()),\n",
       "                ('mylabelbinarizer',\n",
       "                 <__main__.MyLabelBinarizer object at 0x7f6171205250>)])"
      ]
     },
     "execution_count": 40,
     "metadata": {},
     "output_type": "execute_result"
    }
   ],
   "source": [
    "class MyLabelBinarizer(TransformerMixin):\n",
    "    def __init__(self, *args, **kwargs):\n",
    "        self.encoder = MultiLabelBinarizer(*args, **kwargs)\n",
    "        \n",
    "    def fit(self, x, y=0):\n",
    "        self.encoder.fit(x)\n",
    "        return self\n",
    "    \n",
    "    def transform(self, x, y=0):\n",
    "        return self.encoder.transform(x)\n",
    "\n",
    "class DfToSeries(BaseEstimator, TransformerMixin):\n",
    "    def fit(self, X, y=None):\n",
    "        return self\n",
    "    \n",
    "    def transform(self, X, y=None):\n",
    "        return X.iloc[:, 0]\n",
    "    \n",
    "multi_label = make_pipeline(\n",
    "    DfToSeries(),\n",
    "    MyLabelBinarizer()\n",
    ")\n",
    "\n",
    "multi_label"
   ]
  },
  {
   "cell_type": "code",
   "execution_count": 63,
   "id": "51fdf7dd",
   "metadata": {},
   "outputs": [
    {
     "data": {
      "text/plain": [
       "['day_founded_at',\n",
       " 'month_founded_at',\n",
       " 'year_founded_at',\n",
       " 'day_first_funding_at',\n",
       " 'month_first_funding_at',\n",
       " 'year_first_funding_at',\n",
       " 'day_last_funding_at',\n",
       " 'month_last_funding_at',\n",
       " 'year_last_funding_at']"
      ]
     },
     "execution_count": 63,
     "metadata": {},
     "output_type": "execute_result"
    }
   ],
   "source": [
    "date_column = []\n",
    "\n",
    "for item in (['founded_at', 'first_funding_at', 'last_funding_at']):\n",
    "    for i in (['day', 'month', 'year']):\n",
    "        date_column.append(f'{i}_{item}')\n",
    "        \n",
    "date_column"
   ]
  },
  {
   "cell_type": "code",
   "execution_count": 68,
   "id": "136b4272",
   "metadata": {},
   "outputs": [
    {
     "data": {
      "text/html": [
       "<style>#sk-container-id-10 {color: black;background-color: white;}#sk-container-id-10 pre{padding: 0;}#sk-container-id-10 div.sk-toggleable {background-color: white;}#sk-container-id-10 label.sk-toggleable__label {cursor: pointer;display: block;width: 100%;margin-bottom: 0;padding: 0.3em;box-sizing: border-box;text-align: center;}#sk-container-id-10 label.sk-toggleable__label-arrow:before {content: \"▸\";float: left;margin-right: 0.25em;color: #696969;}#sk-container-id-10 label.sk-toggleable__label-arrow:hover:before {color: black;}#sk-container-id-10 div.sk-estimator:hover label.sk-toggleable__label-arrow:before {color: black;}#sk-container-id-10 div.sk-toggleable__content {max-height: 0;max-width: 0;overflow: hidden;text-align: left;background-color: #f0f8ff;}#sk-container-id-10 div.sk-toggleable__content pre {margin: 0.2em;color: black;border-radius: 0.25em;background-color: #f0f8ff;}#sk-container-id-10 input.sk-toggleable__control:checked~div.sk-toggleable__content {max-height: 200px;max-width: 100%;overflow: auto;}#sk-container-id-10 input.sk-toggleable__control:checked~label.sk-toggleable__label-arrow:before {content: \"▾\";}#sk-container-id-10 div.sk-estimator input.sk-toggleable__control:checked~label.sk-toggleable__label {background-color: #d4ebff;}#sk-container-id-10 div.sk-label input.sk-toggleable__control:checked~label.sk-toggleable__label {background-color: #d4ebff;}#sk-container-id-10 input.sk-hidden--visually {border: 0;clip: rect(1px 1px 1px 1px);clip: rect(1px, 1px, 1px, 1px);height: 1px;margin: -1px;overflow: hidden;padding: 0;position: absolute;width: 1px;}#sk-container-id-10 div.sk-estimator {font-family: monospace;background-color: #f0f8ff;border: 1px dotted black;border-radius: 0.25em;box-sizing: border-box;margin-bottom: 0.5em;}#sk-container-id-10 div.sk-estimator:hover {background-color: #d4ebff;}#sk-container-id-10 div.sk-parallel-item::after {content: \"\";width: 100%;border-bottom: 1px solid gray;flex-grow: 1;}#sk-container-id-10 div.sk-label:hover label.sk-toggleable__label {background-color: #d4ebff;}#sk-container-id-10 div.sk-serial::before {content: \"\";position: absolute;border-left: 1px solid gray;box-sizing: border-box;top: 0;bottom: 0;left: 50%;z-index: 0;}#sk-container-id-10 div.sk-serial {display: flex;flex-direction: column;align-items: center;background-color: white;padding-right: 0.2em;padding-left: 0.2em;position: relative;}#sk-container-id-10 div.sk-item {position: relative;z-index: 1;}#sk-container-id-10 div.sk-parallel {display: flex;align-items: stretch;justify-content: center;background-color: white;position: relative;}#sk-container-id-10 div.sk-item::before, #sk-container-id-10 div.sk-parallel-item::before {content: \"\";position: absolute;border-left: 1px solid gray;box-sizing: border-box;top: 0;bottom: 0;left: 50%;z-index: -1;}#sk-container-id-10 div.sk-parallel-item {display: flex;flex-direction: column;z-index: 1;position: relative;background-color: white;}#sk-container-id-10 div.sk-parallel-item:first-child::after {align-self: flex-end;width: 50%;}#sk-container-id-10 div.sk-parallel-item:last-child::after {align-self: flex-start;width: 50%;}#sk-container-id-10 div.sk-parallel-item:only-child::after {width: 0;}#sk-container-id-10 div.sk-dashed-wrapped {border: 1px dashed gray;margin: 0 0.4em 0.5em 0.4em;box-sizing: border-box;padding-bottom: 0.4em;background-color: white;}#sk-container-id-10 div.sk-label label {font-family: monospace;font-weight: bold;display: inline-block;line-height: 1.2em;}#sk-container-id-10 div.sk-label-container {text-align: center;}#sk-container-id-10 div.sk-container {/* jupyter's `normalize.less` sets `[hidden] { display: none; }` but bootstrap.min.css set `[hidden] { display: none !important; }` so we also need the `!important` here to be able to override the default hidden behavior on the sphinx rendered scikit-learn.org. See: https://github.com/scikit-learn/scikit-learn/issues/21755 */display: inline-block !important;position: relative;}#sk-container-id-10 div.sk-text-repr-fallback {display: none;}</style><div id=\"sk-container-id-10\" class=\"sk-top-container\"><div class=\"sk-text-repr-fallback\"><pre>ColumnTransformer(transformers=[(&#x27;Multi Label Binarizer&#x27;,\n",
       "                                 Pipeline(steps=[(&#x27;dftoseries&#x27;, DfToSeries()),\n",
       "                                                 (&#x27;mylabelbinarizer&#x27;,\n",
       "                                                  &lt;__main__.MyLabelBinarizer object at 0x7f6171205250&gt;)]),\n",
       "                                 [&#x27;category_list&#x27;]),\n",
       "                                (&#x27;One Hot Encoder&#x27;,\n",
       "                                 OneHotEncoder(handle_unknown=&#x27;ignore&#x27;),\n",
       "                                 [&#x27;country_code&#x27;, &#x27;state_code&#x27;, &#x27;city&#x27;,\n",
       "                                  &#x27;protocol_url&#x27;, &#x27;domain_url&#x27;]),\n",
       "                                (&#x27;Date Impute&#x27;,\n",
       "                                 SimpleImputer(strategy=&#x27;most_frequent&#x27;),\n",
       "                                 [&#x27;day_founded_at&#x27;, &#x27;month_founded_at&#x27;,\n",
       "                                  &#x27;year_founded_at&#x27;, &#x27;day_first_funding_at&#x27;,\n",
       "                                  &#x27;month_first_funding_at&#x27;,\n",
       "                                  &#x27;year_first_funding_at&#x27;,\n",
       "                                  &#x27;day_last_funding_at&#x27;,\n",
       "                                  &#x27;month_last_funding_at&#x27;,\n",
       "                                  &#x27;year_last_funding_at&#x27;])])</pre><b>In a Jupyter environment, please rerun this cell to show the HTML representation or trust the notebook. <br />On GitHub, the HTML representation is unable to render, please try loading this page with nbviewer.org.</b></div><div class=\"sk-container\" hidden><div class=\"sk-item sk-dashed-wrapped\"><div class=\"sk-label-container\"><div class=\"sk-label sk-toggleable\"><input class=\"sk-toggleable__control sk-hidden--visually\" id=\"sk-estimator-id-80\" type=\"checkbox\" ><label for=\"sk-estimator-id-80\" class=\"sk-toggleable__label sk-toggleable__label-arrow\">ColumnTransformer</label><div class=\"sk-toggleable__content\"><pre>ColumnTransformer(transformers=[(&#x27;Multi Label Binarizer&#x27;,\n",
       "                                 Pipeline(steps=[(&#x27;dftoseries&#x27;, DfToSeries()),\n",
       "                                                 (&#x27;mylabelbinarizer&#x27;,\n",
       "                                                  &lt;__main__.MyLabelBinarizer object at 0x7f6171205250&gt;)]),\n",
       "                                 [&#x27;category_list&#x27;]),\n",
       "                                (&#x27;One Hot Encoder&#x27;,\n",
       "                                 OneHotEncoder(handle_unknown=&#x27;ignore&#x27;),\n",
       "                                 [&#x27;country_code&#x27;, &#x27;state_code&#x27;, &#x27;city&#x27;,\n",
       "                                  &#x27;protocol_url&#x27;, &#x27;domain_url&#x27;]),\n",
       "                                (&#x27;Date Impute&#x27;,\n",
       "                                 SimpleImputer(strategy=&#x27;most_frequent&#x27;),\n",
       "                                 [&#x27;day_founded_at&#x27;, &#x27;month_founded_at&#x27;,\n",
       "                                  &#x27;year_founded_at&#x27;, &#x27;day_first_funding_at&#x27;,\n",
       "                                  &#x27;month_first_funding_at&#x27;,\n",
       "                                  &#x27;year_first_funding_at&#x27;,\n",
       "                                  &#x27;day_last_funding_at&#x27;,\n",
       "                                  &#x27;month_last_funding_at&#x27;,\n",
       "                                  &#x27;year_last_funding_at&#x27;])])</pre></div></div></div><div class=\"sk-parallel\"><div class=\"sk-parallel-item\"><div class=\"sk-item\"><div class=\"sk-label-container\"><div class=\"sk-label sk-toggleable\"><input class=\"sk-toggleable__control sk-hidden--visually\" id=\"sk-estimator-id-81\" type=\"checkbox\" ><label for=\"sk-estimator-id-81\" class=\"sk-toggleable__label sk-toggleable__label-arrow\">Multi Label Binarizer</label><div class=\"sk-toggleable__content\"><pre>[&#x27;category_list&#x27;]</pre></div></div></div><div class=\"sk-serial\"><div class=\"sk-item\"><div class=\"sk-serial\"><div class=\"sk-item\"><div class=\"sk-estimator sk-toggleable\"><input class=\"sk-toggleable__control sk-hidden--visually\" id=\"sk-estimator-id-82\" type=\"checkbox\" ><label for=\"sk-estimator-id-82\" class=\"sk-toggleable__label sk-toggleable__label-arrow\">DfToSeries</label><div class=\"sk-toggleable__content\"><pre>DfToSeries()</pre></div></div></div><div class=\"sk-item\"><div class=\"sk-estimator sk-toggleable\"><input class=\"sk-toggleable__control sk-hidden--visually\" id=\"sk-estimator-id-83\" type=\"checkbox\" ><label for=\"sk-estimator-id-83\" class=\"sk-toggleable__label sk-toggleable__label-arrow\">MyLabelBinarizer</label><div class=\"sk-toggleable__content\"><pre>&lt;__main__.MyLabelBinarizer object at 0x7f6171205250&gt;</pre></div></div></div></div></div></div></div></div><div class=\"sk-parallel-item\"><div class=\"sk-item\"><div class=\"sk-label-container\"><div class=\"sk-label sk-toggleable\"><input class=\"sk-toggleable__control sk-hidden--visually\" id=\"sk-estimator-id-84\" type=\"checkbox\" ><label for=\"sk-estimator-id-84\" class=\"sk-toggleable__label sk-toggleable__label-arrow\">One Hot Encoder</label><div class=\"sk-toggleable__content\"><pre>[&#x27;country_code&#x27;, &#x27;state_code&#x27;, &#x27;city&#x27;, &#x27;protocol_url&#x27;, &#x27;domain_url&#x27;]</pre></div></div></div><div class=\"sk-serial\"><div class=\"sk-item\"><div class=\"sk-estimator sk-toggleable\"><input class=\"sk-toggleable__control sk-hidden--visually\" id=\"sk-estimator-id-85\" type=\"checkbox\" ><label for=\"sk-estimator-id-85\" class=\"sk-toggleable__label sk-toggleable__label-arrow\">OneHotEncoder</label><div class=\"sk-toggleable__content\"><pre>OneHotEncoder(handle_unknown=&#x27;ignore&#x27;)</pre></div></div></div></div></div></div><div class=\"sk-parallel-item\"><div class=\"sk-item\"><div class=\"sk-label-container\"><div class=\"sk-label sk-toggleable\"><input class=\"sk-toggleable__control sk-hidden--visually\" id=\"sk-estimator-id-86\" type=\"checkbox\" ><label for=\"sk-estimator-id-86\" class=\"sk-toggleable__label sk-toggleable__label-arrow\">Date Impute</label><div class=\"sk-toggleable__content\"><pre>[&#x27;day_founded_at&#x27;, &#x27;month_founded_at&#x27;, &#x27;year_founded_at&#x27;, &#x27;day_first_funding_at&#x27;, &#x27;month_first_funding_at&#x27;, &#x27;year_first_funding_at&#x27;, &#x27;day_last_funding_at&#x27;, &#x27;month_last_funding_at&#x27;, &#x27;year_last_funding_at&#x27;]</pre></div></div></div><div class=\"sk-serial\"><div class=\"sk-item\"><div class=\"sk-estimator sk-toggleable\"><input class=\"sk-toggleable__control sk-hidden--visually\" id=\"sk-estimator-id-87\" type=\"checkbox\" ><label for=\"sk-estimator-id-87\" class=\"sk-toggleable__label sk-toggleable__label-arrow\">SimpleImputer</label><div class=\"sk-toggleable__content\"><pre>SimpleImputer(strategy=&#x27;most_frequent&#x27;)</pre></div></div></div></div></div></div></div></div></div></div>"
      ],
      "text/plain": [
       "ColumnTransformer(transformers=[('Multi Label Binarizer',\n",
       "                                 Pipeline(steps=[('dftoseries', DfToSeries()),\n",
       "                                                 ('mylabelbinarizer',\n",
       "                                                  <__main__.MyLabelBinarizer object at 0x7f6171205250>)]),\n",
       "                                 ['category_list']),\n",
       "                                ('One Hot Encoder',\n",
       "                                 OneHotEncoder(handle_unknown='ignore'),\n",
       "                                 ['country_code', 'state_code', 'city',\n",
       "                                  'protocol_url', 'domain_url']),\n",
       "                                ('Date Impute',\n",
       "                                 SimpleImputer(strategy='most_frequent'),\n",
       "                                 ['day_founded_at', 'month_founded_at',\n",
       "                                  'year_founded_at', 'day_first_funding_at',\n",
       "                                  'month_first_funding_at',\n",
       "                                  'year_first_funding_at',\n",
       "                                  'day_last_funding_at',\n",
       "                                  'month_last_funding_at',\n",
       "                                  'year_last_funding_at'])])"
      ]
     },
     "execution_count": 68,
     "metadata": {},
     "output_type": "execute_result"
    }
   ],
   "source": [
    "from sklearn.impute import SimpleImputer\n",
    "\n",
    "encoder_trans = ColumnTransformer([\n",
    "    ('Multi Label Binarizer', multi_label, ['category_list']),\n",
    "    ('One Hot Encoder', OneHotEncoder(handle_unknown='ignore'), ['country_code', 'state_code', 'city', 'protocol_url', 'domain_url']),\n",
    "    ('Date Impute', SimpleImputer(strategy='most_frequent'), date_column)\n",
    "])\n",
    "\n",
    "encoder_trans"
   ]
  },
  {
   "cell_type": "code",
   "execution_count": 69,
   "id": "3a1c28ae",
   "metadata": {},
   "outputs": [
    {
     "data": {
      "text/html": [
       "<style>#sk-container-id-11 {color: black;background-color: white;}#sk-container-id-11 pre{padding: 0;}#sk-container-id-11 div.sk-toggleable {background-color: white;}#sk-container-id-11 label.sk-toggleable__label {cursor: pointer;display: block;width: 100%;margin-bottom: 0;padding: 0.3em;box-sizing: border-box;text-align: center;}#sk-container-id-11 label.sk-toggleable__label-arrow:before {content: \"▸\";float: left;margin-right: 0.25em;color: #696969;}#sk-container-id-11 label.sk-toggleable__label-arrow:hover:before {color: black;}#sk-container-id-11 div.sk-estimator:hover label.sk-toggleable__label-arrow:before {color: black;}#sk-container-id-11 div.sk-toggleable__content {max-height: 0;max-width: 0;overflow: hidden;text-align: left;background-color: #f0f8ff;}#sk-container-id-11 div.sk-toggleable__content pre {margin: 0.2em;color: black;border-radius: 0.25em;background-color: #f0f8ff;}#sk-container-id-11 input.sk-toggleable__control:checked~div.sk-toggleable__content {max-height: 200px;max-width: 100%;overflow: auto;}#sk-container-id-11 input.sk-toggleable__control:checked~label.sk-toggleable__label-arrow:before {content: \"▾\";}#sk-container-id-11 div.sk-estimator input.sk-toggleable__control:checked~label.sk-toggleable__label {background-color: #d4ebff;}#sk-container-id-11 div.sk-label input.sk-toggleable__control:checked~label.sk-toggleable__label {background-color: #d4ebff;}#sk-container-id-11 input.sk-hidden--visually {border: 0;clip: rect(1px 1px 1px 1px);clip: rect(1px, 1px, 1px, 1px);height: 1px;margin: -1px;overflow: hidden;padding: 0;position: absolute;width: 1px;}#sk-container-id-11 div.sk-estimator {font-family: monospace;background-color: #f0f8ff;border: 1px dotted black;border-radius: 0.25em;box-sizing: border-box;margin-bottom: 0.5em;}#sk-container-id-11 div.sk-estimator:hover {background-color: #d4ebff;}#sk-container-id-11 div.sk-parallel-item::after {content: \"\";width: 100%;border-bottom: 1px solid gray;flex-grow: 1;}#sk-container-id-11 div.sk-label:hover label.sk-toggleable__label {background-color: #d4ebff;}#sk-container-id-11 div.sk-serial::before {content: \"\";position: absolute;border-left: 1px solid gray;box-sizing: border-box;top: 0;bottom: 0;left: 50%;z-index: 0;}#sk-container-id-11 div.sk-serial {display: flex;flex-direction: column;align-items: center;background-color: white;padding-right: 0.2em;padding-left: 0.2em;position: relative;}#sk-container-id-11 div.sk-item {position: relative;z-index: 1;}#sk-container-id-11 div.sk-parallel {display: flex;align-items: stretch;justify-content: center;background-color: white;position: relative;}#sk-container-id-11 div.sk-item::before, #sk-container-id-11 div.sk-parallel-item::before {content: \"\";position: absolute;border-left: 1px solid gray;box-sizing: border-box;top: 0;bottom: 0;left: 50%;z-index: -1;}#sk-container-id-11 div.sk-parallel-item {display: flex;flex-direction: column;z-index: 1;position: relative;background-color: white;}#sk-container-id-11 div.sk-parallel-item:first-child::after {align-self: flex-end;width: 50%;}#sk-container-id-11 div.sk-parallel-item:last-child::after {align-self: flex-start;width: 50%;}#sk-container-id-11 div.sk-parallel-item:only-child::after {width: 0;}#sk-container-id-11 div.sk-dashed-wrapped {border: 1px dashed gray;margin: 0 0.4em 0.5em 0.4em;box-sizing: border-box;padding-bottom: 0.4em;background-color: white;}#sk-container-id-11 div.sk-label label {font-family: monospace;font-weight: bold;display: inline-block;line-height: 1.2em;}#sk-container-id-11 div.sk-label-container {text-align: center;}#sk-container-id-11 div.sk-container {/* jupyter's `normalize.less` sets `[hidden] { display: none; }` but bootstrap.min.css set `[hidden] { display: none !important; }` so we also need the `!important` here to be able to override the default hidden behavior on the sphinx rendered scikit-learn.org. See: https://github.com/scikit-learn/scikit-learn/issues/21755 */display: inline-block !important;position: relative;}#sk-container-id-11 div.sk-text-repr-fallback {display: none;}</style><div id=\"sk-container-id-11\" class=\"sk-top-container\"><div class=\"sk-text-repr-fallback\"><pre>Pipeline(steps=[(&#x27;pipeline&#x27;,\n",
       "                 Pipeline(steps=[(&#x27;urltrans&#x27;,\n",
       "                                  UrlTrans(domain=Index([&#x27;com&#x27;, &#x27;net&#x27;, &#x27;ru&#x27;, &#x27;co&#x27;, &#x27;io&#x27;, &#x27;de&#x27;, &#x27;org&#x27;, &#x27;co.uk&#x27;, &#x27;com.br&#x27;, &#x27;me&#x27;,\n",
       "       &#x27;tv&#x27;, &#x27;us&#x27;, &#x27;in&#x27;, &#x27;fr&#x27;, &#x27;ca&#x27;, &#x27;jp&#x27;, &#x27;it&#x27;, &#x27;com.au&#x27;, &#x27;fm&#x27;, &#x27;nl&#x27;, &#x27;cn&#x27;,\n",
       "       &#x27;se&#x27;, &#x27;uk&#x27;, &#x27;eu&#x27;, &#x27;com.cn&#x27;, &#x27;es&#x27;, &#x27;pl&#x27;, &#x27;mobi&#x27;, &#x27;ch&#x27;, &#x27;cc&#x27;, &#x27;ag&#x27;, &#x27;no&#x27;,\n",
       "       &#x27;ly&#x27;, &#x27;info&#x27;, &#x27;co.jp&#x27;, &#x27;au&#x27;, &#x27;cz&#x27;],\n",
       "      dtype=&#x27;object&#x27;),\n",
       "                                           protocol=Index([&#x27;http&#x27;, &#x27;https&#x27;], dtype=&#x27;objec...\n",
       "                                                  OneHotEncoder(handle_unknown=&#x27;ignore&#x27;),\n",
       "                                                  [&#x27;country_code&#x27;, &#x27;state_code&#x27;,\n",
       "                                                   &#x27;city&#x27;, &#x27;protocol_url&#x27;,\n",
       "                                                   &#x27;domain_url&#x27;]),\n",
       "                                                 (&#x27;Date Impute&#x27;,\n",
       "                                                  SimpleImputer(strategy=&#x27;most_frequent&#x27;),\n",
       "                                                  [&#x27;day_founded_at&#x27;,\n",
       "                                                   &#x27;month_founded_at&#x27;,\n",
       "                                                   &#x27;year_founded_at&#x27;,\n",
       "                                                   &#x27;day_first_funding_at&#x27;,\n",
       "                                                   &#x27;month_first_funding_at&#x27;,\n",
       "                                                   &#x27;year_first_funding_at&#x27;,\n",
       "                                                   &#x27;day_last_funding_at&#x27;,\n",
       "                                                   &#x27;month_last_funding_at&#x27;,\n",
       "                                                   &#x27;year_last_funding_at&#x27;])]))])</pre><b>In a Jupyter environment, please rerun this cell to show the HTML representation or trust the notebook. <br />On GitHub, the HTML representation is unable to render, please try loading this page with nbviewer.org.</b></div><div class=\"sk-container\" hidden><div class=\"sk-item sk-dashed-wrapped\"><div class=\"sk-label-container\"><div class=\"sk-label sk-toggleable\"><input class=\"sk-toggleable__control sk-hidden--visually\" id=\"sk-estimator-id-88\" type=\"checkbox\" ><label for=\"sk-estimator-id-88\" class=\"sk-toggleable__label sk-toggleable__label-arrow\">Pipeline</label><div class=\"sk-toggleable__content\"><pre>Pipeline(steps=[(&#x27;pipeline&#x27;,\n",
       "                 Pipeline(steps=[(&#x27;urltrans&#x27;,\n",
       "                                  UrlTrans(domain=Index([&#x27;com&#x27;, &#x27;net&#x27;, &#x27;ru&#x27;, &#x27;co&#x27;, &#x27;io&#x27;, &#x27;de&#x27;, &#x27;org&#x27;, &#x27;co.uk&#x27;, &#x27;com.br&#x27;, &#x27;me&#x27;,\n",
       "       &#x27;tv&#x27;, &#x27;us&#x27;, &#x27;in&#x27;, &#x27;fr&#x27;, &#x27;ca&#x27;, &#x27;jp&#x27;, &#x27;it&#x27;, &#x27;com.au&#x27;, &#x27;fm&#x27;, &#x27;nl&#x27;, &#x27;cn&#x27;,\n",
       "       &#x27;se&#x27;, &#x27;uk&#x27;, &#x27;eu&#x27;, &#x27;com.cn&#x27;, &#x27;es&#x27;, &#x27;pl&#x27;, &#x27;mobi&#x27;, &#x27;ch&#x27;, &#x27;cc&#x27;, &#x27;ag&#x27;, &#x27;no&#x27;,\n",
       "       &#x27;ly&#x27;, &#x27;info&#x27;, &#x27;co.jp&#x27;, &#x27;au&#x27;, &#x27;cz&#x27;],\n",
       "      dtype=&#x27;object&#x27;),\n",
       "                                           protocol=Index([&#x27;http&#x27;, &#x27;https&#x27;], dtype=&#x27;objec...\n",
       "                                                  OneHotEncoder(handle_unknown=&#x27;ignore&#x27;),\n",
       "                                                  [&#x27;country_code&#x27;, &#x27;state_code&#x27;,\n",
       "                                                   &#x27;city&#x27;, &#x27;protocol_url&#x27;,\n",
       "                                                   &#x27;domain_url&#x27;]),\n",
       "                                                 (&#x27;Date Impute&#x27;,\n",
       "                                                  SimpleImputer(strategy=&#x27;most_frequent&#x27;),\n",
       "                                                  [&#x27;day_founded_at&#x27;,\n",
       "                                                   &#x27;month_founded_at&#x27;,\n",
       "                                                   &#x27;year_founded_at&#x27;,\n",
       "                                                   &#x27;day_first_funding_at&#x27;,\n",
       "                                                   &#x27;month_first_funding_at&#x27;,\n",
       "                                                   &#x27;year_first_funding_at&#x27;,\n",
       "                                                   &#x27;day_last_funding_at&#x27;,\n",
       "                                                   &#x27;month_last_funding_at&#x27;,\n",
       "                                                   &#x27;year_last_funding_at&#x27;])]))])</pre></div></div></div><div class=\"sk-serial\"><div class=\"sk-item\"><div class=\"sk-label-container\"><div class=\"sk-label sk-toggleable\"><input class=\"sk-toggleable__control sk-hidden--visually\" id=\"sk-estimator-id-89\" type=\"checkbox\" ><label for=\"sk-estimator-id-89\" class=\"sk-toggleable__label sk-toggleable__label-arrow\">pipeline: Pipeline</label><div class=\"sk-toggleable__content\"><pre>Pipeline(steps=[(&#x27;urltrans&#x27;,\n",
       "                 UrlTrans(domain=Index([&#x27;com&#x27;, &#x27;net&#x27;, &#x27;ru&#x27;, &#x27;co&#x27;, &#x27;io&#x27;, &#x27;de&#x27;, &#x27;org&#x27;, &#x27;co.uk&#x27;, &#x27;com.br&#x27;, &#x27;me&#x27;,\n",
       "       &#x27;tv&#x27;, &#x27;us&#x27;, &#x27;in&#x27;, &#x27;fr&#x27;, &#x27;ca&#x27;, &#x27;jp&#x27;, &#x27;it&#x27;, &#x27;com.au&#x27;, &#x27;fm&#x27;, &#x27;nl&#x27;, &#x27;cn&#x27;,\n",
       "       &#x27;se&#x27;, &#x27;uk&#x27;, &#x27;eu&#x27;, &#x27;com.cn&#x27;, &#x27;es&#x27;, &#x27;pl&#x27;, &#x27;mobi&#x27;, &#x27;ch&#x27;, &#x27;cc&#x27;, &#x27;ag&#x27;, &#x27;no&#x27;,\n",
       "       &#x27;ly&#x27;, &#x27;info&#x27;, &#x27;co.jp&#x27;, &#x27;au&#x27;, &#x27;cz&#x27;],\n",
       "      dtype=&#x27;object&#x27;),\n",
       "                          protocol=Index([&#x27;http&#x27;, &#x27;https&#x27;], dtype=&#x27;object&#x27;))),\n",
       "                (&#x27;cattrans&#x27;, CatTrans()), (&#x27;dateseparator&#x27;, DateSeparator())])</pre></div></div></div><div class=\"sk-serial\"><div class=\"sk-item\"><div class=\"sk-estimator sk-toggleable\"><input class=\"sk-toggleable__control sk-hidden--visually\" id=\"sk-estimator-id-90\" type=\"checkbox\" ><label for=\"sk-estimator-id-90\" class=\"sk-toggleable__label sk-toggleable__label-arrow\">UrlTrans</label><div class=\"sk-toggleable__content\"><pre>UrlTrans(domain=Index([&#x27;com&#x27;, &#x27;net&#x27;, &#x27;ru&#x27;, &#x27;co&#x27;, &#x27;io&#x27;, &#x27;de&#x27;, &#x27;org&#x27;, &#x27;co.uk&#x27;, &#x27;com.br&#x27;, &#x27;me&#x27;,\n",
       "       &#x27;tv&#x27;, &#x27;us&#x27;, &#x27;in&#x27;, &#x27;fr&#x27;, &#x27;ca&#x27;, &#x27;jp&#x27;, &#x27;it&#x27;, &#x27;com.au&#x27;, &#x27;fm&#x27;, &#x27;nl&#x27;, &#x27;cn&#x27;,\n",
       "       &#x27;se&#x27;, &#x27;uk&#x27;, &#x27;eu&#x27;, &#x27;com.cn&#x27;, &#x27;es&#x27;, &#x27;pl&#x27;, &#x27;mobi&#x27;, &#x27;ch&#x27;, &#x27;cc&#x27;, &#x27;ag&#x27;, &#x27;no&#x27;,\n",
       "       &#x27;ly&#x27;, &#x27;info&#x27;, &#x27;co.jp&#x27;, &#x27;au&#x27;, &#x27;cz&#x27;],\n",
       "      dtype=&#x27;object&#x27;),\n",
       "         protocol=Index([&#x27;http&#x27;, &#x27;https&#x27;], dtype=&#x27;object&#x27;))</pre></div></div></div><div class=\"sk-item\"><div class=\"sk-estimator sk-toggleable\"><input class=\"sk-toggleable__control sk-hidden--visually\" id=\"sk-estimator-id-91\" type=\"checkbox\" ><label for=\"sk-estimator-id-91\" class=\"sk-toggleable__label sk-toggleable__label-arrow\">CatTrans</label><div class=\"sk-toggleable__content\"><pre>CatTrans()</pre></div></div></div><div class=\"sk-item\"><div class=\"sk-estimator sk-toggleable\"><input class=\"sk-toggleable__control sk-hidden--visually\" id=\"sk-estimator-id-92\" type=\"checkbox\" ><label for=\"sk-estimator-id-92\" class=\"sk-toggleable__label sk-toggleable__label-arrow\">DateSeparator</label><div class=\"sk-toggleable__content\"><pre>DateSeparator()</pre></div></div></div></div></div><div class=\"sk-item sk-dashed-wrapped\"><div class=\"sk-label-container\"><div class=\"sk-label sk-toggleable\"><input class=\"sk-toggleable__control sk-hidden--visually\" id=\"sk-estimator-id-93\" type=\"checkbox\" ><label for=\"sk-estimator-id-93\" class=\"sk-toggleable__label sk-toggleable__label-arrow\">columntransformer: ColumnTransformer</label><div class=\"sk-toggleable__content\"><pre>ColumnTransformer(transformers=[(&#x27;Multi Label Binarizer&#x27;,\n",
       "                                 Pipeline(steps=[(&#x27;dftoseries&#x27;, DfToSeries()),\n",
       "                                                 (&#x27;mylabelbinarizer&#x27;,\n",
       "                                                  &lt;__main__.MyLabelBinarizer object at 0x7f6171205250&gt;)]),\n",
       "                                 [&#x27;category_list&#x27;]),\n",
       "                                (&#x27;One Hot Encoder&#x27;,\n",
       "                                 OneHotEncoder(handle_unknown=&#x27;ignore&#x27;),\n",
       "                                 [&#x27;country_code&#x27;, &#x27;state_code&#x27;, &#x27;city&#x27;,\n",
       "                                  &#x27;protocol_url&#x27;, &#x27;domain_url&#x27;]),\n",
       "                                (&#x27;Date Impute&#x27;,\n",
       "                                 SimpleImputer(strategy=&#x27;most_frequent&#x27;),\n",
       "                                 [&#x27;day_founded_at&#x27;, &#x27;month_founded_at&#x27;,\n",
       "                                  &#x27;year_founded_at&#x27;, &#x27;day_first_funding_at&#x27;,\n",
       "                                  &#x27;month_first_funding_at&#x27;,\n",
       "                                  &#x27;year_first_funding_at&#x27;,\n",
       "                                  &#x27;day_last_funding_at&#x27;,\n",
       "                                  &#x27;month_last_funding_at&#x27;,\n",
       "                                  &#x27;year_last_funding_at&#x27;])])</pre></div></div></div><div class=\"sk-parallel\"><div class=\"sk-parallel-item\"><div class=\"sk-item\"><div class=\"sk-label-container\"><div class=\"sk-label sk-toggleable\"><input class=\"sk-toggleable__control sk-hidden--visually\" id=\"sk-estimator-id-94\" type=\"checkbox\" ><label for=\"sk-estimator-id-94\" class=\"sk-toggleable__label sk-toggleable__label-arrow\">Multi Label Binarizer</label><div class=\"sk-toggleable__content\"><pre>[&#x27;category_list&#x27;]</pre></div></div></div><div class=\"sk-serial\"><div class=\"sk-item\"><div class=\"sk-serial\"><div class=\"sk-item\"><div class=\"sk-estimator sk-toggleable\"><input class=\"sk-toggleable__control sk-hidden--visually\" id=\"sk-estimator-id-95\" type=\"checkbox\" ><label for=\"sk-estimator-id-95\" class=\"sk-toggleable__label sk-toggleable__label-arrow\">DfToSeries</label><div class=\"sk-toggleable__content\"><pre>DfToSeries()</pre></div></div></div><div class=\"sk-item\"><div class=\"sk-estimator sk-toggleable\"><input class=\"sk-toggleable__control sk-hidden--visually\" id=\"sk-estimator-id-96\" type=\"checkbox\" ><label for=\"sk-estimator-id-96\" class=\"sk-toggleable__label sk-toggleable__label-arrow\">MyLabelBinarizer</label><div class=\"sk-toggleable__content\"><pre>&lt;__main__.MyLabelBinarizer object at 0x7f6171205250&gt;</pre></div></div></div></div></div></div></div></div><div class=\"sk-parallel-item\"><div class=\"sk-item\"><div class=\"sk-label-container\"><div class=\"sk-label sk-toggleable\"><input class=\"sk-toggleable__control sk-hidden--visually\" id=\"sk-estimator-id-97\" type=\"checkbox\" ><label for=\"sk-estimator-id-97\" class=\"sk-toggleable__label sk-toggleable__label-arrow\">One Hot Encoder</label><div class=\"sk-toggleable__content\"><pre>[&#x27;country_code&#x27;, &#x27;state_code&#x27;, &#x27;city&#x27;, &#x27;protocol_url&#x27;, &#x27;domain_url&#x27;]</pre></div></div></div><div class=\"sk-serial\"><div class=\"sk-item\"><div class=\"sk-estimator sk-toggleable\"><input class=\"sk-toggleable__control sk-hidden--visually\" id=\"sk-estimator-id-98\" type=\"checkbox\" ><label for=\"sk-estimator-id-98\" class=\"sk-toggleable__label sk-toggleable__label-arrow\">OneHotEncoder</label><div class=\"sk-toggleable__content\"><pre>OneHotEncoder(handle_unknown=&#x27;ignore&#x27;)</pre></div></div></div></div></div></div><div class=\"sk-parallel-item\"><div class=\"sk-item\"><div class=\"sk-label-container\"><div class=\"sk-label sk-toggleable\"><input class=\"sk-toggleable__control sk-hidden--visually\" id=\"sk-estimator-id-99\" type=\"checkbox\" ><label for=\"sk-estimator-id-99\" class=\"sk-toggleable__label sk-toggleable__label-arrow\">Date Impute</label><div class=\"sk-toggleable__content\"><pre>[&#x27;day_founded_at&#x27;, &#x27;month_founded_at&#x27;, &#x27;year_founded_at&#x27;, &#x27;day_first_funding_at&#x27;, &#x27;month_first_funding_at&#x27;, &#x27;year_first_funding_at&#x27;, &#x27;day_last_funding_at&#x27;, &#x27;month_last_funding_at&#x27;, &#x27;year_last_funding_at&#x27;]</pre></div></div></div><div class=\"sk-serial\"><div class=\"sk-item\"><div class=\"sk-estimator sk-toggleable\"><input class=\"sk-toggleable__control sk-hidden--visually\" id=\"sk-estimator-id-100\" type=\"checkbox\" ><label for=\"sk-estimator-id-100\" class=\"sk-toggleable__label sk-toggleable__label-arrow\">SimpleImputer</label><div class=\"sk-toggleable__content\"><pre>SimpleImputer(strategy=&#x27;most_frequent&#x27;)</pre></div></div></div></div></div></div></div></div></div></div></div></div>"
      ],
      "text/plain": [
       "Pipeline(steps=[('pipeline',\n",
       "                 Pipeline(steps=[('urltrans',\n",
       "                                  UrlTrans(domain=Index(['com', 'net', 'ru', 'co', 'io', 'de', 'org', 'co.uk', 'com.br', 'me',\n",
       "       'tv', 'us', 'in', 'fr', 'ca', 'jp', 'it', 'com.au', 'fm', 'nl', 'cn',\n",
       "       'se', 'uk', 'eu', 'com.cn', 'es', 'pl', 'mobi', 'ch', 'cc', 'ag', 'no',\n",
       "       'ly', 'info', 'co.jp', 'au', 'cz'],\n",
       "      dtype='object'),\n",
       "                                           protocol=Index(['http', 'https'], dtype='objec...\n",
       "                                                  OneHotEncoder(handle_unknown='ignore'),\n",
       "                                                  ['country_code', 'state_code',\n",
       "                                                   'city', 'protocol_url',\n",
       "                                                   'domain_url']),\n",
       "                                                 ('Date Impute',\n",
       "                                                  SimpleImputer(strategy='most_frequent'),\n",
       "                                                  ['day_founded_at',\n",
       "                                                   'month_founded_at',\n",
       "                                                   'year_founded_at',\n",
       "                                                   'day_first_funding_at',\n",
       "                                                   'month_first_funding_at',\n",
       "                                                   'year_first_funding_at',\n",
       "                                                   'day_last_funding_at',\n",
       "                                                   'month_last_funding_at',\n",
       "                                                   'year_last_funding_at'])]))])"
      ]
     },
     "execution_count": 69,
     "metadata": {},
     "output_type": "execute_result"
    }
   ],
   "source": [
    "cat_pipeline = make_pipeline(\n",
    "    cat_trans,\n",
    "    encoder_trans\n",
    ")\n",
    "\n",
    "cat_pipeline"
   ]
  },
  {
   "cell_type": "markdown",
   "id": "2e14e750",
   "metadata": {},
   "source": [
    "### Numerical Pipeline"
   ]
  },
  {
   "cell_type": "code",
   "execution_count": 76,
   "id": "e18499b5",
   "metadata": {},
   "outputs": [
    {
     "data": {
      "text/html": [
       "<style>#sk-container-id-14 {color: black;background-color: white;}#sk-container-id-14 pre{padding: 0;}#sk-container-id-14 div.sk-toggleable {background-color: white;}#sk-container-id-14 label.sk-toggleable__label {cursor: pointer;display: block;width: 100%;margin-bottom: 0;padding: 0.3em;box-sizing: border-box;text-align: center;}#sk-container-id-14 label.sk-toggleable__label-arrow:before {content: \"▸\";float: left;margin-right: 0.25em;color: #696969;}#sk-container-id-14 label.sk-toggleable__label-arrow:hover:before {color: black;}#sk-container-id-14 div.sk-estimator:hover label.sk-toggleable__label-arrow:before {color: black;}#sk-container-id-14 div.sk-toggleable__content {max-height: 0;max-width: 0;overflow: hidden;text-align: left;background-color: #f0f8ff;}#sk-container-id-14 div.sk-toggleable__content pre {margin: 0.2em;color: black;border-radius: 0.25em;background-color: #f0f8ff;}#sk-container-id-14 input.sk-toggleable__control:checked~div.sk-toggleable__content {max-height: 200px;max-width: 100%;overflow: auto;}#sk-container-id-14 input.sk-toggleable__control:checked~label.sk-toggleable__label-arrow:before {content: \"▾\";}#sk-container-id-14 div.sk-estimator input.sk-toggleable__control:checked~label.sk-toggleable__label {background-color: #d4ebff;}#sk-container-id-14 div.sk-label input.sk-toggleable__control:checked~label.sk-toggleable__label {background-color: #d4ebff;}#sk-container-id-14 input.sk-hidden--visually {border: 0;clip: rect(1px 1px 1px 1px);clip: rect(1px, 1px, 1px, 1px);height: 1px;margin: -1px;overflow: hidden;padding: 0;position: absolute;width: 1px;}#sk-container-id-14 div.sk-estimator {font-family: monospace;background-color: #f0f8ff;border: 1px dotted black;border-radius: 0.25em;box-sizing: border-box;margin-bottom: 0.5em;}#sk-container-id-14 div.sk-estimator:hover {background-color: #d4ebff;}#sk-container-id-14 div.sk-parallel-item::after {content: \"\";width: 100%;border-bottom: 1px solid gray;flex-grow: 1;}#sk-container-id-14 div.sk-label:hover label.sk-toggleable__label {background-color: #d4ebff;}#sk-container-id-14 div.sk-serial::before {content: \"\";position: absolute;border-left: 1px solid gray;box-sizing: border-box;top: 0;bottom: 0;left: 50%;z-index: 0;}#sk-container-id-14 div.sk-serial {display: flex;flex-direction: column;align-items: center;background-color: white;padding-right: 0.2em;padding-left: 0.2em;position: relative;}#sk-container-id-14 div.sk-item {position: relative;z-index: 1;}#sk-container-id-14 div.sk-parallel {display: flex;align-items: stretch;justify-content: center;background-color: white;position: relative;}#sk-container-id-14 div.sk-item::before, #sk-container-id-14 div.sk-parallel-item::before {content: \"\";position: absolute;border-left: 1px solid gray;box-sizing: border-box;top: 0;bottom: 0;left: 50%;z-index: -1;}#sk-container-id-14 div.sk-parallel-item {display: flex;flex-direction: column;z-index: 1;position: relative;background-color: white;}#sk-container-id-14 div.sk-parallel-item:first-child::after {align-self: flex-end;width: 50%;}#sk-container-id-14 div.sk-parallel-item:last-child::after {align-self: flex-start;width: 50%;}#sk-container-id-14 div.sk-parallel-item:only-child::after {width: 0;}#sk-container-id-14 div.sk-dashed-wrapped {border: 1px dashed gray;margin: 0 0.4em 0.5em 0.4em;box-sizing: border-box;padding-bottom: 0.4em;background-color: white;}#sk-container-id-14 div.sk-label label {font-family: monospace;font-weight: bold;display: inline-block;line-height: 1.2em;}#sk-container-id-14 div.sk-label-container {text-align: center;}#sk-container-id-14 div.sk-container {/* jupyter's `normalize.less` sets `[hidden] { display: none; }` but bootstrap.min.css set `[hidden] { display: none !important; }` so we also need the `!important` here to be able to override the default hidden behavior on the sphinx rendered scikit-learn.org. See: https://github.com/scikit-learn/scikit-learn/issues/21755 */display: inline-block !important;position: relative;}#sk-container-id-14 div.sk-text-repr-fallback {display: none;}</style><div id=\"sk-container-id-14\" class=\"sk-top-container\"><div class=\"sk-text-repr-fallback\"><pre>Pipeline(steps=[(&#x27;simpleimputer&#x27;, SimpleImputer(strategy=&#x27;median&#x27;)),\n",
       "                (&#x27;standardscaler&#x27;, StandardScaler())])</pre><b>In a Jupyter environment, please rerun this cell to show the HTML representation or trust the notebook. <br />On GitHub, the HTML representation is unable to render, please try loading this page with nbviewer.org.</b></div><div class=\"sk-container\" hidden><div class=\"sk-item sk-dashed-wrapped\"><div class=\"sk-label-container\"><div class=\"sk-label sk-toggleable\"><input class=\"sk-toggleable__control sk-hidden--visually\" id=\"sk-estimator-id-117\" type=\"checkbox\" ><label for=\"sk-estimator-id-117\" class=\"sk-toggleable__label sk-toggleable__label-arrow\">Pipeline</label><div class=\"sk-toggleable__content\"><pre>Pipeline(steps=[(&#x27;simpleimputer&#x27;, SimpleImputer(strategy=&#x27;median&#x27;)),\n",
       "                (&#x27;standardscaler&#x27;, StandardScaler())])</pre></div></div></div><div class=\"sk-serial\"><div class=\"sk-item\"><div class=\"sk-estimator sk-toggleable\"><input class=\"sk-toggleable__control sk-hidden--visually\" id=\"sk-estimator-id-118\" type=\"checkbox\" ><label for=\"sk-estimator-id-118\" class=\"sk-toggleable__label sk-toggleable__label-arrow\">SimpleImputer</label><div class=\"sk-toggleable__content\"><pre>SimpleImputer(strategy=&#x27;median&#x27;)</pre></div></div></div><div class=\"sk-item\"><div class=\"sk-estimator sk-toggleable\"><input class=\"sk-toggleable__control sk-hidden--visually\" id=\"sk-estimator-id-119\" type=\"checkbox\" ><label for=\"sk-estimator-id-119\" class=\"sk-toggleable__label sk-toggleable__label-arrow\">StandardScaler</label><div class=\"sk-toggleable__content\"><pre>StandardScaler()</pre></div></div></div></div></div></div></div>"
      ],
      "text/plain": [
       "Pipeline(steps=[('simpleimputer', SimpleImputer(strategy='median')),\n",
       "                ('standardscaler', StandardScaler())])"
      ]
     },
     "execution_count": 76,
     "metadata": {},
     "output_type": "execute_result"
    }
   ],
   "source": [
    "from sklearn.preprocessing import StandardScaler\n",
    "\n",
    "num_pipeline = make_pipeline(\n",
    "    SimpleImputer(strategy='median'),\n",
    "    StandardScaler()\n",
    ")\n",
    "\n",
    "num_pipeline"
   ]
  },
  {
   "cell_type": "markdown",
   "id": "e0a875fc",
   "metadata": {},
   "source": [
    "### Full Pipeline"
   ]
  },
  {
   "cell_type": "code",
   "execution_count": 83,
   "id": "77efe1e8",
   "metadata": {},
   "outputs": [],
   "source": [
    "cat_columns = X_train.select_dtypes(include=object).columns\n",
    "num_columns = X_train.select_dtypes(exclude=object).columns"
   ]
  },
  {
   "cell_type": "code",
   "execution_count": 298,
   "id": "245baaeb",
   "metadata": {},
   "outputs": [
    {
     "data": {
      "text/html": [
       "<style>#sk-container-id-58 {color: black;background-color: white;}#sk-container-id-58 pre{padding: 0;}#sk-container-id-58 div.sk-toggleable {background-color: white;}#sk-container-id-58 label.sk-toggleable__label {cursor: pointer;display: block;width: 100%;margin-bottom: 0;padding: 0.3em;box-sizing: border-box;text-align: center;}#sk-container-id-58 label.sk-toggleable__label-arrow:before {content: \"▸\";float: left;margin-right: 0.25em;color: #696969;}#sk-container-id-58 label.sk-toggleable__label-arrow:hover:before {color: black;}#sk-container-id-58 div.sk-estimator:hover label.sk-toggleable__label-arrow:before {color: black;}#sk-container-id-58 div.sk-toggleable__content {max-height: 0;max-width: 0;overflow: hidden;text-align: left;background-color: #f0f8ff;}#sk-container-id-58 div.sk-toggleable__content pre {margin: 0.2em;color: black;border-radius: 0.25em;background-color: #f0f8ff;}#sk-container-id-58 input.sk-toggleable__control:checked~div.sk-toggleable__content {max-height: 200px;max-width: 100%;overflow: auto;}#sk-container-id-58 input.sk-toggleable__control:checked~label.sk-toggleable__label-arrow:before {content: \"▾\";}#sk-container-id-58 div.sk-estimator input.sk-toggleable__control:checked~label.sk-toggleable__label {background-color: #d4ebff;}#sk-container-id-58 div.sk-label input.sk-toggleable__control:checked~label.sk-toggleable__label {background-color: #d4ebff;}#sk-container-id-58 input.sk-hidden--visually {border: 0;clip: rect(1px 1px 1px 1px);clip: rect(1px, 1px, 1px, 1px);height: 1px;margin: -1px;overflow: hidden;padding: 0;position: absolute;width: 1px;}#sk-container-id-58 div.sk-estimator {font-family: monospace;background-color: #f0f8ff;border: 1px dotted black;border-radius: 0.25em;box-sizing: border-box;margin-bottom: 0.5em;}#sk-container-id-58 div.sk-estimator:hover {background-color: #d4ebff;}#sk-container-id-58 div.sk-parallel-item::after {content: \"\";width: 100%;border-bottom: 1px solid gray;flex-grow: 1;}#sk-container-id-58 div.sk-label:hover label.sk-toggleable__label {background-color: #d4ebff;}#sk-container-id-58 div.sk-serial::before {content: \"\";position: absolute;border-left: 1px solid gray;box-sizing: border-box;top: 0;bottom: 0;left: 50%;z-index: 0;}#sk-container-id-58 div.sk-serial {display: flex;flex-direction: column;align-items: center;background-color: white;padding-right: 0.2em;padding-left: 0.2em;position: relative;}#sk-container-id-58 div.sk-item {position: relative;z-index: 1;}#sk-container-id-58 div.sk-parallel {display: flex;align-items: stretch;justify-content: center;background-color: white;position: relative;}#sk-container-id-58 div.sk-item::before, #sk-container-id-58 div.sk-parallel-item::before {content: \"\";position: absolute;border-left: 1px solid gray;box-sizing: border-box;top: 0;bottom: 0;left: 50%;z-index: -1;}#sk-container-id-58 div.sk-parallel-item {display: flex;flex-direction: column;z-index: 1;position: relative;background-color: white;}#sk-container-id-58 div.sk-parallel-item:first-child::after {align-self: flex-end;width: 50%;}#sk-container-id-58 div.sk-parallel-item:last-child::after {align-self: flex-start;width: 50%;}#sk-container-id-58 div.sk-parallel-item:only-child::after {width: 0;}#sk-container-id-58 div.sk-dashed-wrapped {border: 1px dashed gray;margin: 0 0.4em 0.5em 0.4em;box-sizing: border-box;padding-bottom: 0.4em;background-color: white;}#sk-container-id-58 div.sk-label label {font-family: monospace;font-weight: bold;display: inline-block;line-height: 1.2em;}#sk-container-id-58 div.sk-label-container {text-align: center;}#sk-container-id-58 div.sk-container {/* jupyter's `normalize.less` sets `[hidden] { display: none; }` but bootstrap.min.css set `[hidden] { display: none !important; }` so we also need the `!important` here to be able to override the default hidden behavior on the sphinx rendered scikit-learn.org. See: https://github.com/scikit-learn/scikit-learn/issues/21755 */display: inline-block !important;position: relative;}#sk-container-id-58 div.sk-text-repr-fallback {display: none;}</style><div id=\"sk-container-id-58\" class=\"sk-top-container\"><div class=\"sk-text-repr-fallback\"><pre>Pipeline(steps=[(&#x27;columntransformer&#x27;,\n",
       "                 ColumnTransformer(transformers=[(&#x27;Categorical Pipeline&#x27;,\n",
       "                                                  Pipeline(steps=[(&#x27;pipeline&#x27;,\n",
       "                                                                   Pipeline(steps=[(&#x27;urltrans&#x27;,\n",
       "                                                                                    UrlTrans(domain=Index([&#x27;com&#x27;, &#x27;net&#x27;, &#x27;ru&#x27;, &#x27;co&#x27;, &#x27;io&#x27;, &#x27;de&#x27;, &#x27;org&#x27;, &#x27;co.uk&#x27;, &#x27;com.br&#x27;, &#x27;me&#x27;,\n",
       "       &#x27;tv&#x27;, &#x27;us&#x27;, &#x27;in&#x27;, &#x27;fr&#x27;, &#x27;ca&#x27;, &#x27;jp&#x27;, &#x27;it&#x27;, &#x27;com.au&#x27;, &#x27;fm&#x27;, &#x27;nl&#x27;, &#x27;cn&#x27;,\n",
       "       &#x27;se&#x27;, &#x27;uk&#x27;, &#x27;eu&#x27;, &#x27;com.cn&#x27;, &#x27;es&#x27;, &#x27;pl&#x27;, &#x27;mobi&#x27;, &#x27;ch&#x27;, &#x27;cc&#x27;, &#x27;ag&#x27;, &#x27;no&#x27;...\n",
       "                                                  Index([&#x27;homepage_url&#x27;, &#x27;category_list&#x27;, &#x27;country_code&#x27;, &#x27;state_code&#x27;, &#x27;region&#x27;,\n",
       "       &#x27;city&#x27;, &#x27;founded_at&#x27;, &#x27;first_funding_at&#x27;, &#x27;last_funding_at&#x27;],\n",
       "      dtype=&#x27;object&#x27;)),\n",
       "                                                 (&#x27;Numerical Pipeline&#x27;,\n",
       "                                                  Pipeline(steps=[(&#x27;simpleimputer&#x27;,\n",
       "                                                                   SimpleImputer(strategy=&#x27;median&#x27;)),\n",
       "                                                                  (&#x27;standardscaler&#x27;,\n",
       "                                                                   StandardScaler())]),\n",
       "                                                  Index([&#x27;funding_total_usd&#x27;, &#x27;funding_rounds&#x27;], dtype=&#x27;object&#x27;))])),\n",
       "                (&#x27;pca&#x27;, PCA(n_components=500))])</pre><b>In a Jupyter environment, please rerun this cell to show the HTML representation or trust the notebook. <br />On GitHub, the HTML representation is unable to render, please try loading this page with nbviewer.org.</b></div><div class=\"sk-container\" hidden><div class=\"sk-item sk-dashed-wrapped\"><div class=\"sk-label-container\"><div class=\"sk-label sk-toggleable\"><input class=\"sk-toggleable__control sk-hidden--visually\" id=\"sk-estimator-id-417\" type=\"checkbox\" ><label for=\"sk-estimator-id-417\" class=\"sk-toggleable__label sk-toggleable__label-arrow\">Pipeline</label><div class=\"sk-toggleable__content\"><pre>Pipeline(steps=[(&#x27;columntransformer&#x27;,\n",
       "                 ColumnTransformer(transformers=[(&#x27;Categorical Pipeline&#x27;,\n",
       "                                                  Pipeline(steps=[(&#x27;pipeline&#x27;,\n",
       "                                                                   Pipeline(steps=[(&#x27;urltrans&#x27;,\n",
       "                                                                                    UrlTrans(domain=Index([&#x27;com&#x27;, &#x27;net&#x27;, &#x27;ru&#x27;, &#x27;co&#x27;, &#x27;io&#x27;, &#x27;de&#x27;, &#x27;org&#x27;, &#x27;co.uk&#x27;, &#x27;com.br&#x27;, &#x27;me&#x27;,\n",
       "       &#x27;tv&#x27;, &#x27;us&#x27;, &#x27;in&#x27;, &#x27;fr&#x27;, &#x27;ca&#x27;, &#x27;jp&#x27;, &#x27;it&#x27;, &#x27;com.au&#x27;, &#x27;fm&#x27;, &#x27;nl&#x27;, &#x27;cn&#x27;,\n",
       "       &#x27;se&#x27;, &#x27;uk&#x27;, &#x27;eu&#x27;, &#x27;com.cn&#x27;, &#x27;es&#x27;, &#x27;pl&#x27;, &#x27;mobi&#x27;, &#x27;ch&#x27;, &#x27;cc&#x27;, &#x27;ag&#x27;, &#x27;no&#x27;...\n",
       "                                                  Index([&#x27;homepage_url&#x27;, &#x27;category_list&#x27;, &#x27;country_code&#x27;, &#x27;state_code&#x27;, &#x27;region&#x27;,\n",
       "       &#x27;city&#x27;, &#x27;founded_at&#x27;, &#x27;first_funding_at&#x27;, &#x27;last_funding_at&#x27;],\n",
       "      dtype=&#x27;object&#x27;)),\n",
       "                                                 (&#x27;Numerical Pipeline&#x27;,\n",
       "                                                  Pipeline(steps=[(&#x27;simpleimputer&#x27;,\n",
       "                                                                   SimpleImputer(strategy=&#x27;median&#x27;)),\n",
       "                                                                  (&#x27;standardscaler&#x27;,\n",
       "                                                                   StandardScaler())]),\n",
       "                                                  Index([&#x27;funding_total_usd&#x27;, &#x27;funding_rounds&#x27;], dtype=&#x27;object&#x27;))])),\n",
       "                (&#x27;pca&#x27;, PCA(n_components=500))])</pre></div></div></div><div class=\"sk-serial\"><div class=\"sk-item sk-dashed-wrapped\"><div class=\"sk-label-container\"><div class=\"sk-label sk-toggleable\"><input class=\"sk-toggleable__control sk-hidden--visually\" id=\"sk-estimator-id-418\" type=\"checkbox\" ><label for=\"sk-estimator-id-418\" class=\"sk-toggleable__label sk-toggleable__label-arrow\">columntransformer: ColumnTransformer</label><div class=\"sk-toggleable__content\"><pre>ColumnTransformer(transformers=[(&#x27;Categorical Pipeline&#x27;,\n",
       "                                 Pipeline(steps=[(&#x27;pipeline&#x27;,\n",
       "                                                  Pipeline(steps=[(&#x27;urltrans&#x27;,\n",
       "                                                                   UrlTrans(domain=Index([&#x27;com&#x27;, &#x27;net&#x27;, &#x27;ru&#x27;, &#x27;co&#x27;, &#x27;io&#x27;, &#x27;de&#x27;, &#x27;org&#x27;, &#x27;co.uk&#x27;, &#x27;com.br&#x27;, &#x27;me&#x27;,\n",
       "       &#x27;tv&#x27;, &#x27;us&#x27;, &#x27;in&#x27;, &#x27;fr&#x27;, &#x27;ca&#x27;, &#x27;jp&#x27;, &#x27;it&#x27;, &#x27;com.au&#x27;, &#x27;fm&#x27;, &#x27;nl&#x27;, &#x27;cn&#x27;,\n",
       "       &#x27;se&#x27;, &#x27;uk&#x27;, &#x27;eu&#x27;, &#x27;com.cn&#x27;, &#x27;es&#x27;, &#x27;pl&#x27;, &#x27;mobi&#x27;, &#x27;ch&#x27;, &#x27;cc&#x27;, &#x27;ag&#x27;, &#x27;no&#x27;,\n",
       "       &#x27;ly&#x27;, &#x27;info&#x27;, &#x27;co.jp&#x27;, &#x27;au&#x27;, &#x27;cz&#x27;],\n",
       "      dtype...\n",
       "                                                                                    &#x27;year_last_funding_at&#x27;])]))]),\n",
       "                                 Index([&#x27;homepage_url&#x27;, &#x27;category_list&#x27;, &#x27;country_code&#x27;, &#x27;state_code&#x27;, &#x27;region&#x27;,\n",
       "       &#x27;city&#x27;, &#x27;founded_at&#x27;, &#x27;first_funding_at&#x27;, &#x27;last_funding_at&#x27;],\n",
       "      dtype=&#x27;object&#x27;)),\n",
       "                                (&#x27;Numerical Pipeline&#x27;,\n",
       "                                 Pipeline(steps=[(&#x27;simpleimputer&#x27;,\n",
       "                                                  SimpleImputer(strategy=&#x27;median&#x27;)),\n",
       "                                                 (&#x27;standardscaler&#x27;,\n",
       "                                                  StandardScaler())]),\n",
       "                                 Index([&#x27;funding_total_usd&#x27;, &#x27;funding_rounds&#x27;], dtype=&#x27;object&#x27;))])</pre></div></div></div><div class=\"sk-parallel\"><div class=\"sk-parallel-item\"><div class=\"sk-item\"><div class=\"sk-label-container\"><div class=\"sk-label sk-toggleable\"><input class=\"sk-toggleable__control sk-hidden--visually\" id=\"sk-estimator-id-419\" type=\"checkbox\" ><label for=\"sk-estimator-id-419\" class=\"sk-toggleable__label sk-toggleable__label-arrow\">Categorical Pipeline</label><div class=\"sk-toggleable__content\"><pre>Index([&#x27;homepage_url&#x27;, &#x27;category_list&#x27;, &#x27;country_code&#x27;, &#x27;state_code&#x27;, &#x27;region&#x27;,\n",
       "       &#x27;city&#x27;, &#x27;founded_at&#x27;, &#x27;first_funding_at&#x27;, &#x27;last_funding_at&#x27;],\n",
       "      dtype=&#x27;object&#x27;)</pre></div></div></div><div class=\"sk-serial\"><div class=\"sk-item\"><div class=\"sk-serial\"><div class=\"sk-item\"><div class=\"sk-label-container\"><div class=\"sk-label sk-toggleable\"><input class=\"sk-toggleable__control sk-hidden--visually\" id=\"sk-estimator-id-420\" type=\"checkbox\" ><label for=\"sk-estimator-id-420\" class=\"sk-toggleable__label sk-toggleable__label-arrow\">pipeline: Pipeline</label><div class=\"sk-toggleable__content\"><pre>Pipeline(steps=[(&#x27;urltrans&#x27;,\n",
       "                 UrlTrans(domain=Index([&#x27;com&#x27;, &#x27;net&#x27;, &#x27;ru&#x27;, &#x27;co&#x27;, &#x27;io&#x27;, &#x27;de&#x27;, &#x27;org&#x27;, &#x27;co.uk&#x27;, &#x27;com.br&#x27;, &#x27;me&#x27;,\n",
       "       &#x27;tv&#x27;, &#x27;us&#x27;, &#x27;in&#x27;, &#x27;fr&#x27;, &#x27;ca&#x27;, &#x27;jp&#x27;, &#x27;it&#x27;, &#x27;com.au&#x27;, &#x27;fm&#x27;, &#x27;nl&#x27;, &#x27;cn&#x27;,\n",
       "       &#x27;se&#x27;, &#x27;uk&#x27;, &#x27;eu&#x27;, &#x27;com.cn&#x27;, &#x27;es&#x27;, &#x27;pl&#x27;, &#x27;mobi&#x27;, &#x27;ch&#x27;, &#x27;cc&#x27;, &#x27;ag&#x27;, &#x27;no&#x27;,\n",
       "       &#x27;ly&#x27;, &#x27;info&#x27;, &#x27;co.jp&#x27;, &#x27;au&#x27;, &#x27;cz&#x27;],\n",
       "      dtype=&#x27;object&#x27;),\n",
       "                          protocol=Index([&#x27;http&#x27;, &#x27;https&#x27;], dtype=&#x27;object&#x27;))),\n",
       "                (&#x27;cattrans&#x27;, CatTrans()), (&#x27;dateseparator&#x27;, DateSeparator())])</pre></div></div></div><div class=\"sk-serial\"><div class=\"sk-item\"><div class=\"sk-estimator sk-toggleable\"><input class=\"sk-toggleable__control sk-hidden--visually\" id=\"sk-estimator-id-421\" type=\"checkbox\" ><label for=\"sk-estimator-id-421\" class=\"sk-toggleable__label sk-toggleable__label-arrow\">UrlTrans</label><div class=\"sk-toggleable__content\"><pre>UrlTrans(domain=Index([&#x27;com&#x27;, &#x27;net&#x27;, &#x27;ru&#x27;, &#x27;co&#x27;, &#x27;io&#x27;, &#x27;de&#x27;, &#x27;org&#x27;, &#x27;co.uk&#x27;, &#x27;com.br&#x27;, &#x27;me&#x27;,\n",
       "       &#x27;tv&#x27;, &#x27;us&#x27;, &#x27;in&#x27;, &#x27;fr&#x27;, &#x27;ca&#x27;, &#x27;jp&#x27;, &#x27;it&#x27;, &#x27;com.au&#x27;, &#x27;fm&#x27;, &#x27;nl&#x27;, &#x27;cn&#x27;,\n",
       "       &#x27;se&#x27;, &#x27;uk&#x27;, &#x27;eu&#x27;, &#x27;com.cn&#x27;, &#x27;es&#x27;, &#x27;pl&#x27;, &#x27;mobi&#x27;, &#x27;ch&#x27;, &#x27;cc&#x27;, &#x27;ag&#x27;, &#x27;no&#x27;,\n",
       "       &#x27;ly&#x27;, &#x27;info&#x27;, &#x27;co.jp&#x27;, &#x27;au&#x27;, &#x27;cz&#x27;],\n",
       "      dtype=&#x27;object&#x27;),\n",
       "         protocol=Index([&#x27;http&#x27;, &#x27;https&#x27;], dtype=&#x27;object&#x27;))</pre></div></div></div><div class=\"sk-item\"><div class=\"sk-estimator sk-toggleable\"><input class=\"sk-toggleable__control sk-hidden--visually\" id=\"sk-estimator-id-422\" type=\"checkbox\" ><label for=\"sk-estimator-id-422\" class=\"sk-toggleable__label sk-toggleable__label-arrow\">CatTrans</label><div class=\"sk-toggleable__content\"><pre>CatTrans()</pre></div></div></div><div class=\"sk-item\"><div class=\"sk-estimator sk-toggleable\"><input class=\"sk-toggleable__control sk-hidden--visually\" id=\"sk-estimator-id-423\" type=\"checkbox\" ><label for=\"sk-estimator-id-423\" class=\"sk-toggleable__label sk-toggleable__label-arrow\">DateSeparator</label><div class=\"sk-toggleable__content\"><pre>DateSeparator()</pre></div></div></div></div></div><div class=\"sk-item sk-dashed-wrapped\"><div class=\"sk-label-container\"><div class=\"sk-label sk-toggleable\"><input class=\"sk-toggleable__control sk-hidden--visually\" id=\"sk-estimator-id-424\" type=\"checkbox\" ><label for=\"sk-estimator-id-424\" class=\"sk-toggleable__label sk-toggleable__label-arrow\">columntransformer: ColumnTransformer</label><div class=\"sk-toggleable__content\"><pre>ColumnTransformer(transformers=[(&#x27;Multi Label Binarizer&#x27;,\n",
       "                                 Pipeline(steps=[(&#x27;dftoseries&#x27;, DfToSeries()),\n",
       "                                                 (&#x27;mylabelbinarizer&#x27;,\n",
       "                                                  &lt;__main__.MyLabelBinarizer object at 0x7f6171205250&gt;)]),\n",
       "                                 [&#x27;category_list&#x27;]),\n",
       "                                (&#x27;One Hot Encoder&#x27;,\n",
       "                                 OneHotEncoder(handle_unknown=&#x27;ignore&#x27;),\n",
       "                                 [&#x27;country_code&#x27;, &#x27;state_code&#x27;, &#x27;city&#x27;,\n",
       "                                  &#x27;protocol_url&#x27;, &#x27;domain_url&#x27;]),\n",
       "                                (&#x27;Date Impute&#x27;,\n",
       "                                 SimpleImputer(strategy=&#x27;most_frequent&#x27;),\n",
       "                                 [&#x27;day_founded_at&#x27;, &#x27;month_founded_at&#x27;,\n",
       "                                  &#x27;year_founded_at&#x27;, &#x27;day_first_funding_at&#x27;,\n",
       "                                  &#x27;month_first_funding_at&#x27;,\n",
       "                                  &#x27;year_first_funding_at&#x27;,\n",
       "                                  &#x27;day_last_funding_at&#x27;,\n",
       "                                  &#x27;month_last_funding_at&#x27;,\n",
       "                                  &#x27;year_last_funding_at&#x27;])])</pre></div></div></div><div class=\"sk-parallel\"><div class=\"sk-parallel-item\"><div class=\"sk-item\"><div class=\"sk-label-container\"><div class=\"sk-label sk-toggleable\"><input class=\"sk-toggleable__control sk-hidden--visually\" id=\"sk-estimator-id-425\" type=\"checkbox\" ><label for=\"sk-estimator-id-425\" class=\"sk-toggleable__label sk-toggleable__label-arrow\">Multi Label Binarizer</label><div class=\"sk-toggleable__content\"><pre>[&#x27;category_list&#x27;]</pre></div></div></div><div class=\"sk-serial\"><div class=\"sk-item\"><div class=\"sk-serial\"><div class=\"sk-item\"><div class=\"sk-estimator sk-toggleable\"><input class=\"sk-toggleable__control sk-hidden--visually\" id=\"sk-estimator-id-426\" type=\"checkbox\" ><label for=\"sk-estimator-id-426\" class=\"sk-toggleable__label sk-toggleable__label-arrow\">DfToSeries</label><div class=\"sk-toggleable__content\"><pre>DfToSeries()</pre></div></div></div><div class=\"sk-item\"><div class=\"sk-estimator sk-toggleable\"><input class=\"sk-toggleable__control sk-hidden--visually\" id=\"sk-estimator-id-427\" type=\"checkbox\" ><label for=\"sk-estimator-id-427\" class=\"sk-toggleable__label sk-toggleable__label-arrow\">MyLabelBinarizer</label><div class=\"sk-toggleable__content\"><pre>&lt;__main__.MyLabelBinarizer object at 0x7f6171205250&gt;</pre></div></div></div></div></div></div></div></div><div class=\"sk-parallel-item\"><div class=\"sk-item\"><div class=\"sk-label-container\"><div class=\"sk-label sk-toggleable\"><input class=\"sk-toggleable__control sk-hidden--visually\" id=\"sk-estimator-id-428\" type=\"checkbox\" ><label for=\"sk-estimator-id-428\" class=\"sk-toggleable__label sk-toggleable__label-arrow\">One Hot Encoder</label><div class=\"sk-toggleable__content\"><pre>[&#x27;country_code&#x27;, &#x27;state_code&#x27;, &#x27;city&#x27;, &#x27;protocol_url&#x27;, &#x27;domain_url&#x27;]</pre></div></div></div><div class=\"sk-serial\"><div class=\"sk-item\"><div class=\"sk-estimator sk-toggleable\"><input class=\"sk-toggleable__control sk-hidden--visually\" id=\"sk-estimator-id-429\" type=\"checkbox\" ><label for=\"sk-estimator-id-429\" class=\"sk-toggleable__label sk-toggleable__label-arrow\">OneHotEncoder</label><div class=\"sk-toggleable__content\"><pre>OneHotEncoder(handle_unknown=&#x27;ignore&#x27;)</pre></div></div></div></div></div></div><div class=\"sk-parallel-item\"><div class=\"sk-item\"><div class=\"sk-label-container\"><div class=\"sk-label sk-toggleable\"><input class=\"sk-toggleable__control sk-hidden--visually\" id=\"sk-estimator-id-430\" type=\"checkbox\" ><label for=\"sk-estimator-id-430\" class=\"sk-toggleable__label sk-toggleable__label-arrow\">Date Impute</label><div class=\"sk-toggleable__content\"><pre>[&#x27;day_founded_at&#x27;, &#x27;month_founded_at&#x27;, &#x27;year_founded_at&#x27;, &#x27;day_first_funding_at&#x27;, &#x27;month_first_funding_at&#x27;, &#x27;year_first_funding_at&#x27;, &#x27;day_last_funding_at&#x27;, &#x27;month_last_funding_at&#x27;, &#x27;year_last_funding_at&#x27;]</pre></div></div></div><div class=\"sk-serial\"><div class=\"sk-item\"><div class=\"sk-estimator sk-toggleable\"><input class=\"sk-toggleable__control sk-hidden--visually\" id=\"sk-estimator-id-431\" type=\"checkbox\" ><label for=\"sk-estimator-id-431\" class=\"sk-toggleable__label sk-toggleable__label-arrow\">SimpleImputer</label><div class=\"sk-toggleable__content\"><pre>SimpleImputer(strategy=&#x27;most_frequent&#x27;)</pre></div></div></div></div></div></div></div></div></div></div></div></div></div><div class=\"sk-parallel-item\"><div class=\"sk-item\"><div class=\"sk-label-container\"><div class=\"sk-label sk-toggleable\"><input class=\"sk-toggleable__control sk-hidden--visually\" id=\"sk-estimator-id-432\" type=\"checkbox\" ><label for=\"sk-estimator-id-432\" class=\"sk-toggleable__label sk-toggleable__label-arrow\">Numerical Pipeline</label><div class=\"sk-toggleable__content\"><pre>Index([&#x27;funding_total_usd&#x27;, &#x27;funding_rounds&#x27;], dtype=&#x27;object&#x27;)</pre></div></div></div><div class=\"sk-serial\"><div class=\"sk-item\"><div class=\"sk-serial\"><div class=\"sk-item\"><div class=\"sk-estimator sk-toggleable\"><input class=\"sk-toggleable__control sk-hidden--visually\" id=\"sk-estimator-id-433\" type=\"checkbox\" ><label for=\"sk-estimator-id-433\" class=\"sk-toggleable__label sk-toggleable__label-arrow\">SimpleImputer</label><div class=\"sk-toggleable__content\"><pre>SimpleImputer(strategy=&#x27;median&#x27;)</pre></div></div></div><div class=\"sk-item\"><div class=\"sk-estimator sk-toggleable\"><input class=\"sk-toggleable__control sk-hidden--visually\" id=\"sk-estimator-id-434\" type=\"checkbox\" ><label for=\"sk-estimator-id-434\" class=\"sk-toggleable__label sk-toggleable__label-arrow\">StandardScaler</label><div class=\"sk-toggleable__content\"><pre>StandardScaler()</pre></div></div></div></div></div></div></div></div></div></div><div class=\"sk-item\"><div class=\"sk-estimator sk-toggleable\"><input class=\"sk-toggleable__control sk-hidden--visually\" id=\"sk-estimator-id-435\" type=\"checkbox\" ><label for=\"sk-estimator-id-435\" class=\"sk-toggleable__label sk-toggleable__label-arrow\">PCA</label><div class=\"sk-toggleable__content\"><pre>PCA(n_components=500)</pre></div></div></div></div></div></div></div>"
      ],
      "text/plain": [
       "Pipeline(steps=[('columntransformer',\n",
       "                 ColumnTransformer(transformers=[('Categorical Pipeline',\n",
       "                                                  Pipeline(steps=[('pipeline',\n",
       "                                                                   Pipeline(steps=[('urltrans',\n",
       "                                                                                    UrlTrans(domain=Index(['com', 'net', 'ru', 'co', 'io', 'de', 'org', 'co.uk', 'com.br', 'me',\n",
       "       'tv', 'us', 'in', 'fr', 'ca', 'jp', 'it', 'com.au', 'fm', 'nl', 'cn',\n",
       "       'se', 'uk', 'eu', 'com.cn', 'es', 'pl', 'mobi', 'ch', 'cc', 'ag', 'no'...\n",
       "                                                  Index(['homepage_url', 'category_list', 'country_code', 'state_code', 'region',\n",
       "       'city', 'founded_at', 'first_funding_at', 'last_funding_at'],\n",
       "      dtype='object')),\n",
       "                                                 ('Numerical Pipeline',\n",
       "                                                  Pipeline(steps=[('simpleimputer',\n",
       "                                                                   SimpleImputer(strategy='median')),\n",
       "                                                                  ('standardscaler',\n",
       "                                                                   StandardScaler())]),\n",
       "                                                  Index(['funding_total_usd', 'funding_rounds'], dtype='object'))])),\n",
       "                ('pca', PCA(n_components=500))])"
      ]
     },
     "execution_count": 298,
     "metadata": {},
     "output_type": "execute_result"
    }
   ],
   "source": [
    "from sklearn.decomposition import PCA\n",
    "\n",
    "full_trans = ColumnTransformer([\n",
    "    ('Categorical Pipeline', cat_pipeline, cat_columns),\n",
    "    ('Numerical Pipeline', num_pipeline, num_columns)    \n",
    "])\n",
    "\n",
    "full_pipeline = make_pipeline(\n",
    "    full_trans,\n",
    "    PCA(n_components=500)\n",
    ")\n",
    "\n",
    "full_pipeline"
   ]
  },
  {
   "cell_type": "markdown",
   "id": "6ce0e428",
   "metadata": {},
   "source": [
    "### Target Pipeline"
   ]
  },
  {
   "cell_type": "code",
   "execution_count": 299,
   "id": "b0a54f50",
   "metadata": {},
   "outputs": [
    {
     "data": {
      "text/html": [
       "<style>#sk-container-id-59 {color: black;background-color: white;}#sk-container-id-59 pre{padding: 0;}#sk-container-id-59 div.sk-toggleable {background-color: white;}#sk-container-id-59 label.sk-toggleable__label {cursor: pointer;display: block;width: 100%;margin-bottom: 0;padding: 0.3em;box-sizing: border-box;text-align: center;}#sk-container-id-59 label.sk-toggleable__label-arrow:before {content: \"▸\";float: left;margin-right: 0.25em;color: #696969;}#sk-container-id-59 label.sk-toggleable__label-arrow:hover:before {color: black;}#sk-container-id-59 div.sk-estimator:hover label.sk-toggleable__label-arrow:before {color: black;}#sk-container-id-59 div.sk-toggleable__content {max-height: 0;max-width: 0;overflow: hidden;text-align: left;background-color: #f0f8ff;}#sk-container-id-59 div.sk-toggleable__content pre {margin: 0.2em;color: black;border-radius: 0.25em;background-color: #f0f8ff;}#sk-container-id-59 input.sk-toggleable__control:checked~div.sk-toggleable__content {max-height: 200px;max-width: 100%;overflow: auto;}#sk-container-id-59 input.sk-toggleable__control:checked~label.sk-toggleable__label-arrow:before {content: \"▾\";}#sk-container-id-59 div.sk-estimator input.sk-toggleable__control:checked~label.sk-toggleable__label {background-color: #d4ebff;}#sk-container-id-59 div.sk-label input.sk-toggleable__control:checked~label.sk-toggleable__label {background-color: #d4ebff;}#sk-container-id-59 input.sk-hidden--visually {border: 0;clip: rect(1px 1px 1px 1px);clip: rect(1px, 1px, 1px, 1px);height: 1px;margin: -1px;overflow: hidden;padding: 0;position: absolute;width: 1px;}#sk-container-id-59 div.sk-estimator {font-family: monospace;background-color: #f0f8ff;border: 1px dotted black;border-radius: 0.25em;box-sizing: border-box;margin-bottom: 0.5em;}#sk-container-id-59 div.sk-estimator:hover {background-color: #d4ebff;}#sk-container-id-59 div.sk-parallel-item::after {content: \"\";width: 100%;border-bottom: 1px solid gray;flex-grow: 1;}#sk-container-id-59 div.sk-label:hover label.sk-toggleable__label {background-color: #d4ebff;}#sk-container-id-59 div.sk-serial::before {content: \"\";position: absolute;border-left: 1px solid gray;box-sizing: border-box;top: 0;bottom: 0;left: 50%;z-index: 0;}#sk-container-id-59 div.sk-serial {display: flex;flex-direction: column;align-items: center;background-color: white;padding-right: 0.2em;padding-left: 0.2em;position: relative;}#sk-container-id-59 div.sk-item {position: relative;z-index: 1;}#sk-container-id-59 div.sk-parallel {display: flex;align-items: stretch;justify-content: center;background-color: white;position: relative;}#sk-container-id-59 div.sk-item::before, #sk-container-id-59 div.sk-parallel-item::before {content: \"\";position: absolute;border-left: 1px solid gray;box-sizing: border-box;top: 0;bottom: 0;left: 50%;z-index: -1;}#sk-container-id-59 div.sk-parallel-item {display: flex;flex-direction: column;z-index: 1;position: relative;background-color: white;}#sk-container-id-59 div.sk-parallel-item:first-child::after {align-self: flex-end;width: 50%;}#sk-container-id-59 div.sk-parallel-item:last-child::after {align-self: flex-start;width: 50%;}#sk-container-id-59 div.sk-parallel-item:only-child::after {width: 0;}#sk-container-id-59 div.sk-dashed-wrapped {border: 1px dashed gray;margin: 0 0.4em 0.5em 0.4em;box-sizing: border-box;padding-bottom: 0.4em;background-color: white;}#sk-container-id-59 div.sk-label label {font-family: monospace;font-weight: bold;display: inline-block;line-height: 1.2em;}#sk-container-id-59 div.sk-label-container {text-align: center;}#sk-container-id-59 div.sk-container {/* jupyter's `normalize.less` sets `[hidden] { display: none; }` but bootstrap.min.css set `[hidden] { display: none !important; }` so we also need the `!important` here to be able to override the default hidden behavior on the sphinx rendered scikit-learn.org. See: https://github.com/scikit-learn/scikit-learn/issues/21755 */display: inline-block !important;position: relative;}#sk-container-id-59 div.sk-text-repr-fallback {display: none;}</style><div id=\"sk-container-id-59\" class=\"sk-top-container\"><div class=\"sk-text-repr-fallback\"><pre>Pipeline(steps=[(&#x27;ordinalencoder&#x27;, OrdinalEncoder())])</pre><b>In a Jupyter environment, please rerun this cell to show the HTML representation or trust the notebook. <br />On GitHub, the HTML representation is unable to render, please try loading this page with nbviewer.org.</b></div><div class=\"sk-container\" hidden><div class=\"sk-item sk-dashed-wrapped\"><div class=\"sk-label-container\"><div class=\"sk-label sk-toggleable\"><input class=\"sk-toggleable__control sk-hidden--visually\" id=\"sk-estimator-id-436\" type=\"checkbox\" ><label for=\"sk-estimator-id-436\" class=\"sk-toggleable__label sk-toggleable__label-arrow\">Pipeline</label><div class=\"sk-toggleable__content\"><pre>Pipeline(steps=[(&#x27;ordinalencoder&#x27;, OrdinalEncoder())])</pre></div></div></div><div class=\"sk-serial\"><div class=\"sk-item\"><div class=\"sk-estimator sk-toggleable\"><input class=\"sk-toggleable__control sk-hidden--visually\" id=\"sk-estimator-id-437\" type=\"checkbox\" ><label for=\"sk-estimator-id-437\" class=\"sk-toggleable__label sk-toggleable__label-arrow\">OrdinalEncoder</label><div class=\"sk-toggleable__content\"><pre>OrdinalEncoder()</pre></div></div></div></div></div></div></div>"
      ],
      "text/plain": [
       "Pipeline(steps=[('ordinalencoder', OrdinalEncoder())])"
      ]
     },
     "execution_count": 299,
     "metadata": {},
     "output_type": "execute_result"
    }
   ],
   "source": [
    "from sklearn.preprocessing import OrdinalEncoder\n",
    "\n",
    "target_pipeline = make_pipeline(\n",
    "    OrdinalEncoder()\n",
    ")\n",
    "\n",
    "target_pipeline"
   ]
  },
  {
   "cell_type": "markdown",
   "id": "a1c7a4b5",
   "metadata": {},
   "source": [
    "### Data Transformation"
   ]
  },
  {
   "cell_type": "code",
   "execution_count": 300,
   "id": "89c23b3c",
   "metadata": {},
   "outputs": [
    {
     "data": {
      "text/html": [
       "<style>#sk-container-id-60 {color: black;background-color: white;}#sk-container-id-60 pre{padding: 0;}#sk-container-id-60 div.sk-toggleable {background-color: white;}#sk-container-id-60 label.sk-toggleable__label {cursor: pointer;display: block;width: 100%;margin-bottom: 0;padding: 0.3em;box-sizing: border-box;text-align: center;}#sk-container-id-60 label.sk-toggleable__label-arrow:before {content: \"▸\";float: left;margin-right: 0.25em;color: #696969;}#sk-container-id-60 label.sk-toggleable__label-arrow:hover:before {color: black;}#sk-container-id-60 div.sk-estimator:hover label.sk-toggleable__label-arrow:before {color: black;}#sk-container-id-60 div.sk-toggleable__content {max-height: 0;max-width: 0;overflow: hidden;text-align: left;background-color: #f0f8ff;}#sk-container-id-60 div.sk-toggleable__content pre {margin: 0.2em;color: black;border-radius: 0.25em;background-color: #f0f8ff;}#sk-container-id-60 input.sk-toggleable__control:checked~div.sk-toggleable__content {max-height: 200px;max-width: 100%;overflow: auto;}#sk-container-id-60 input.sk-toggleable__control:checked~label.sk-toggleable__label-arrow:before {content: \"▾\";}#sk-container-id-60 div.sk-estimator input.sk-toggleable__control:checked~label.sk-toggleable__label {background-color: #d4ebff;}#sk-container-id-60 div.sk-label input.sk-toggleable__control:checked~label.sk-toggleable__label {background-color: #d4ebff;}#sk-container-id-60 input.sk-hidden--visually {border: 0;clip: rect(1px 1px 1px 1px);clip: rect(1px, 1px, 1px, 1px);height: 1px;margin: -1px;overflow: hidden;padding: 0;position: absolute;width: 1px;}#sk-container-id-60 div.sk-estimator {font-family: monospace;background-color: #f0f8ff;border: 1px dotted black;border-radius: 0.25em;box-sizing: border-box;margin-bottom: 0.5em;}#sk-container-id-60 div.sk-estimator:hover {background-color: #d4ebff;}#sk-container-id-60 div.sk-parallel-item::after {content: \"\";width: 100%;border-bottom: 1px solid gray;flex-grow: 1;}#sk-container-id-60 div.sk-label:hover label.sk-toggleable__label {background-color: #d4ebff;}#sk-container-id-60 div.sk-serial::before {content: \"\";position: absolute;border-left: 1px solid gray;box-sizing: border-box;top: 0;bottom: 0;left: 50%;z-index: 0;}#sk-container-id-60 div.sk-serial {display: flex;flex-direction: column;align-items: center;background-color: white;padding-right: 0.2em;padding-left: 0.2em;position: relative;}#sk-container-id-60 div.sk-item {position: relative;z-index: 1;}#sk-container-id-60 div.sk-parallel {display: flex;align-items: stretch;justify-content: center;background-color: white;position: relative;}#sk-container-id-60 div.sk-item::before, #sk-container-id-60 div.sk-parallel-item::before {content: \"\";position: absolute;border-left: 1px solid gray;box-sizing: border-box;top: 0;bottom: 0;left: 50%;z-index: -1;}#sk-container-id-60 div.sk-parallel-item {display: flex;flex-direction: column;z-index: 1;position: relative;background-color: white;}#sk-container-id-60 div.sk-parallel-item:first-child::after {align-self: flex-end;width: 50%;}#sk-container-id-60 div.sk-parallel-item:last-child::after {align-self: flex-start;width: 50%;}#sk-container-id-60 div.sk-parallel-item:only-child::after {width: 0;}#sk-container-id-60 div.sk-dashed-wrapped {border: 1px dashed gray;margin: 0 0.4em 0.5em 0.4em;box-sizing: border-box;padding-bottom: 0.4em;background-color: white;}#sk-container-id-60 div.sk-label label {font-family: monospace;font-weight: bold;display: inline-block;line-height: 1.2em;}#sk-container-id-60 div.sk-label-container {text-align: center;}#sk-container-id-60 div.sk-container {/* jupyter's `normalize.less` sets `[hidden] { display: none; }` but bootstrap.min.css set `[hidden] { display: none !important; }` so we also need the `!important` here to be able to override the default hidden behavior on the sphinx rendered scikit-learn.org. See: https://github.com/scikit-learn/scikit-learn/issues/21755 */display: inline-block !important;position: relative;}#sk-container-id-60 div.sk-text-repr-fallback {display: none;}</style><div id=\"sk-container-id-60\" class=\"sk-top-container\"><div class=\"sk-text-repr-fallback\"><pre>Pipeline(steps=[(&#x27;columntransformer&#x27;,\n",
       "                 ColumnTransformer(transformers=[(&#x27;Categorical Pipeline&#x27;,\n",
       "                                                  Pipeline(steps=[(&#x27;pipeline&#x27;,\n",
       "                                                                   Pipeline(steps=[(&#x27;urltrans&#x27;,\n",
       "                                                                                    UrlTrans(domain=Index([&#x27;com&#x27;, &#x27;net&#x27;, &#x27;ru&#x27;, &#x27;co&#x27;, &#x27;io&#x27;, &#x27;de&#x27;, &#x27;org&#x27;, &#x27;co.uk&#x27;, &#x27;com.br&#x27;, &#x27;me&#x27;,\n",
       "       &#x27;tv&#x27;, &#x27;us&#x27;, &#x27;in&#x27;, &#x27;fr&#x27;, &#x27;ca&#x27;, &#x27;jp&#x27;, &#x27;it&#x27;, &#x27;com.au&#x27;, &#x27;fm&#x27;, &#x27;nl&#x27;, &#x27;cn&#x27;,\n",
       "       &#x27;se&#x27;, &#x27;uk&#x27;, &#x27;eu&#x27;, &#x27;com.cn&#x27;, &#x27;es&#x27;, &#x27;pl&#x27;, &#x27;mobi&#x27;, &#x27;ch&#x27;, &#x27;cc&#x27;, &#x27;ag&#x27;, &#x27;no&#x27;...\n",
       "                                                  Index([&#x27;homepage_url&#x27;, &#x27;category_list&#x27;, &#x27;country_code&#x27;, &#x27;state_code&#x27;, &#x27;region&#x27;,\n",
       "       &#x27;city&#x27;, &#x27;founded_at&#x27;, &#x27;first_funding_at&#x27;, &#x27;last_funding_at&#x27;],\n",
       "      dtype=&#x27;object&#x27;)),\n",
       "                                                 (&#x27;Numerical Pipeline&#x27;,\n",
       "                                                  Pipeline(steps=[(&#x27;simpleimputer&#x27;,\n",
       "                                                                   SimpleImputer(strategy=&#x27;median&#x27;)),\n",
       "                                                                  (&#x27;standardscaler&#x27;,\n",
       "                                                                   StandardScaler())]),\n",
       "                                                  Index([&#x27;funding_total_usd&#x27;, &#x27;funding_rounds&#x27;], dtype=&#x27;object&#x27;))])),\n",
       "                (&#x27;pca&#x27;, PCA(n_components=500))])</pre><b>In a Jupyter environment, please rerun this cell to show the HTML representation or trust the notebook. <br />On GitHub, the HTML representation is unable to render, please try loading this page with nbviewer.org.</b></div><div class=\"sk-container\" hidden><div class=\"sk-item sk-dashed-wrapped\"><div class=\"sk-label-container\"><div class=\"sk-label sk-toggleable\"><input class=\"sk-toggleable__control sk-hidden--visually\" id=\"sk-estimator-id-438\" type=\"checkbox\" ><label for=\"sk-estimator-id-438\" class=\"sk-toggleable__label sk-toggleable__label-arrow\">Pipeline</label><div class=\"sk-toggleable__content\"><pre>Pipeline(steps=[(&#x27;columntransformer&#x27;,\n",
       "                 ColumnTransformer(transformers=[(&#x27;Categorical Pipeline&#x27;,\n",
       "                                                  Pipeline(steps=[(&#x27;pipeline&#x27;,\n",
       "                                                                   Pipeline(steps=[(&#x27;urltrans&#x27;,\n",
       "                                                                                    UrlTrans(domain=Index([&#x27;com&#x27;, &#x27;net&#x27;, &#x27;ru&#x27;, &#x27;co&#x27;, &#x27;io&#x27;, &#x27;de&#x27;, &#x27;org&#x27;, &#x27;co.uk&#x27;, &#x27;com.br&#x27;, &#x27;me&#x27;,\n",
       "       &#x27;tv&#x27;, &#x27;us&#x27;, &#x27;in&#x27;, &#x27;fr&#x27;, &#x27;ca&#x27;, &#x27;jp&#x27;, &#x27;it&#x27;, &#x27;com.au&#x27;, &#x27;fm&#x27;, &#x27;nl&#x27;, &#x27;cn&#x27;,\n",
       "       &#x27;se&#x27;, &#x27;uk&#x27;, &#x27;eu&#x27;, &#x27;com.cn&#x27;, &#x27;es&#x27;, &#x27;pl&#x27;, &#x27;mobi&#x27;, &#x27;ch&#x27;, &#x27;cc&#x27;, &#x27;ag&#x27;, &#x27;no&#x27;...\n",
       "                                                  Index([&#x27;homepage_url&#x27;, &#x27;category_list&#x27;, &#x27;country_code&#x27;, &#x27;state_code&#x27;, &#x27;region&#x27;,\n",
       "       &#x27;city&#x27;, &#x27;founded_at&#x27;, &#x27;first_funding_at&#x27;, &#x27;last_funding_at&#x27;],\n",
       "      dtype=&#x27;object&#x27;)),\n",
       "                                                 (&#x27;Numerical Pipeline&#x27;,\n",
       "                                                  Pipeline(steps=[(&#x27;simpleimputer&#x27;,\n",
       "                                                                   SimpleImputer(strategy=&#x27;median&#x27;)),\n",
       "                                                                  (&#x27;standardscaler&#x27;,\n",
       "                                                                   StandardScaler())]),\n",
       "                                                  Index([&#x27;funding_total_usd&#x27;, &#x27;funding_rounds&#x27;], dtype=&#x27;object&#x27;))])),\n",
       "                (&#x27;pca&#x27;, PCA(n_components=500))])</pre></div></div></div><div class=\"sk-serial\"><div class=\"sk-item sk-dashed-wrapped\"><div class=\"sk-label-container\"><div class=\"sk-label sk-toggleable\"><input class=\"sk-toggleable__control sk-hidden--visually\" id=\"sk-estimator-id-439\" type=\"checkbox\" ><label for=\"sk-estimator-id-439\" class=\"sk-toggleable__label sk-toggleable__label-arrow\">columntransformer: ColumnTransformer</label><div class=\"sk-toggleable__content\"><pre>ColumnTransformer(transformers=[(&#x27;Categorical Pipeline&#x27;,\n",
       "                                 Pipeline(steps=[(&#x27;pipeline&#x27;,\n",
       "                                                  Pipeline(steps=[(&#x27;urltrans&#x27;,\n",
       "                                                                   UrlTrans(domain=Index([&#x27;com&#x27;, &#x27;net&#x27;, &#x27;ru&#x27;, &#x27;co&#x27;, &#x27;io&#x27;, &#x27;de&#x27;, &#x27;org&#x27;, &#x27;co.uk&#x27;, &#x27;com.br&#x27;, &#x27;me&#x27;,\n",
       "       &#x27;tv&#x27;, &#x27;us&#x27;, &#x27;in&#x27;, &#x27;fr&#x27;, &#x27;ca&#x27;, &#x27;jp&#x27;, &#x27;it&#x27;, &#x27;com.au&#x27;, &#x27;fm&#x27;, &#x27;nl&#x27;, &#x27;cn&#x27;,\n",
       "       &#x27;se&#x27;, &#x27;uk&#x27;, &#x27;eu&#x27;, &#x27;com.cn&#x27;, &#x27;es&#x27;, &#x27;pl&#x27;, &#x27;mobi&#x27;, &#x27;ch&#x27;, &#x27;cc&#x27;, &#x27;ag&#x27;, &#x27;no&#x27;,\n",
       "       &#x27;ly&#x27;, &#x27;info&#x27;, &#x27;co.jp&#x27;, &#x27;au&#x27;, &#x27;cz&#x27;],\n",
       "      dtype...\n",
       "                                                                                    &#x27;year_last_funding_at&#x27;])]))]),\n",
       "                                 Index([&#x27;homepage_url&#x27;, &#x27;category_list&#x27;, &#x27;country_code&#x27;, &#x27;state_code&#x27;, &#x27;region&#x27;,\n",
       "       &#x27;city&#x27;, &#x27;founded_at&#x27;, &#x27;first_funding_at&#x27;, &#x27;last_funding_at&#x27;],\n",
       "      dtype=&#x27;object&#x27;)),\n",
       "                                (&#x27;Numerical Pipeline&#x27;,\n",
       "                                 Pipeline(steps=[(&#x27;simpleimputer&#x27;,\n",
       "                                                  SimpleImputer(strategy=&#x27;median&#x27;)),\n",
       "                                                 (&#x27;standardscaler&#x27;,\n",
       "                                                  StandardScaler())]),\n",
       "                                 Index([&#x27;funding_total_usd&#x27;, &#x27;funding_rounds&#x27;], dtype=&#x27;object&#x27;))])</pre></div></div></div><div class=\"sk-parallel\"><div class=\"sk-parallel-item\"><div class=\"sk-item\"><div class=\"sk-label-container\"><div class=\"sk-label sk-toggleable\"><input class=\"sk-toggleable__control sk-hidden--visually\" id=\"sk-estimator-id-440\" type=\"checkbox\" ><label for=\"sk-estimator-id-440\" class=\"sk-toggleable__label sk-toggleable__label-arrow\">Categorical Pipeline</label><div class=\"sk-toggleable__content\"><pre>Index([&#x27;homepage_url&#x27;, &#x27;category_list&#x27;, &#x27;country_code&#x27;, &#x27;state_code&#x27;, &#x27;region&#x27;,\n",
       "       &#x27;city&#x27;, &#x27;founded_at&#x27;, &#x27;first_funding_at&#x27;, &#x27;last_funding_at&#x27;],\n",
       "      dtype=&#x27;object&#x27;)</pre></div></div></div><div class=\"sk-serial\"><div class=\"sk-item\"><div class=\"sk-serial\"><div class=\"sk-item\"><div class=\"sk-label-container\"><div class=\"sk-label sk-toggleable\"><input class=\"sk-toggleable__control sk-hidden--visually\" id=\"sk-estimator-id-441\" type=\"checkbox\" ><label for=\"sk-estimator-id-441\" class=\"sk-toggleable__label sk-toggleable__label-arrow\">pipeline: Pipeline</label><div class=\"sk-toggleable__content\"><pre>Pipeline(steps=[(&#x27;urltrans&#x27;,\n",
       "                 UrlTrans(domain=Index([&#x27;com&#x27;, &#x27;net&#x27;, &#x27;ru&#x27;, &#x27;co&#x27;, &#x27;io&#x27;, &#x27;de&#x27;, &#x27;org&#x27;, &#x27;co.uk&#x27;, &#x27;com.br&#x27;, &#x27;me&#x27;,\n",
       "       &#x27;tv&#x27;, &#x27;us&#x27;, &#x27;in&#x27;, &#x27;fr&#x27;, &#x27;ca&#x27;, &#x27;jp&#x27;, &#x27;it&#x27;, &#x27;com.au&#x27;, &#x27;fm&#x27;, &#x27;nl&#x27;, &#x27;cn&#x27;,\n",
       "       &#x27;se&#x27;, &#x27;uk&#x27;, &#x27;eu&#x27;, &#x27;com.cn&#x27;, &#x27;es&#x27;, &#x27;pl&#x27;, &#x27;mobi&#x27;, &#x27;ch&#x27;, &#x27;cc&#x27;, &#x27;ag&#x27;, &#x27;no&#x27;,\n",
       "       &#x27;ly&#x27;, &#x27;info&#x27;, &#x27;co.jp&#x27;, &#x27;au&#x27;, &#x27;cz&#x27;],\n",
       "      dtype=&#x27;object&#x27;),\n",
       "                          protocol=Index([&#x27;http&#x27;, &#x27;https&#x27;], dtype=&#x27;object&#x27;))),\n",
       "                (&#x27;cattrans&#x27;, CatTrans()), (&#x27;dateseparator&#x27;, DateSeparator())])</pre></div></div></div><div class=\"sk-serial\"><div class=\"sk-item\"><div class=\"sk-estimator sk-toggleable\"><input class=\"sk-toggleable__control sk-hidden--visually\" id=\"sk-estimator-id-442\" type=\"checkbox\" ><label for=\"sk-estimator-id-442\" class=\"sk-toggleable__label sk-toggleable__label-arrow\">UrlTrans</label><div class=\"sk-toggleable__content\"><pre>UrlTrans(domain=Index([&#x27;com&#x27;, &#x27;net&#x27;, &#x27;ru&#x27;, &#x27;co&#x27;, &#x27;io&#x27;, &#x27;de&#x27;, &#x27;org&#x27;, &#x27;co.uk&#x27;, &#x27;com.br&#x27;, &#x27;me&#x27;,\n",
       "       &#x27;tv&#x27;, &#x27;us&#x27;, &#x27;in&#x27;, &#x27;fr&#x27;, &#x27;ca&#x27;, &#x27;jp&#x27;, &#x27;it&#x27;, &#x27;com.au&#x27;, &#x27;fm&#x27;, &#x27;nl&#x27;, &#x27;cn&#x27;,\n",
       "       &#x27;se&#x27;, &#x27;uk&#x27;, &#x27;eu&#x27;, &#x27;com.cn&#x27;, &#x27;es&#x27;, &#x27;pl&#x27;, &#x27;mobi&#x27;, &#x27;ch&#x27;, &#x27;cc&#x27;, &#x27;ag&#x27;, &#x27;no&#x27;,\n",
       "       &#x27;ly&#x27;, &#x27;info&#x27;, &#x27;co.jp&#x27;, &#x27;au&#x27;, &#x27;cz&#x27;],\n",
       "      dtype=&#x27;object&#x27;),\n",
       "         protocol=Index([&#x27;http&#x27;, &#x27;https&#x27;], dtype=&#x27;object&#x27;))</pre></div></div></div><div class=\"sk-item\"><div class=\"sk-estimator sk-toggleable\"><input class=\"sk-toggleable__control sk-hidden--visually\" id=\"sk-estimator-id-443\" type=\"checkbox\" ><label for=\"sk-estimator-id-443\" class=\"sk-toggleable__label sk-toggleable__label-arrow\">CatTrans</label><div class=\"sk-toggleable__content\"><pre>CatTrans()</pre></div></div></div><div class=\"sk-item\"><div class=\"sk-estimator sk-toggleable\"><input class=\"sk-toggleable__control sk-hidden--visually\" id=\"sk-estimator-id-444\" type=\"checkbox\" ><label for=\"sk-estimator-id-444\" class=\"sk-toggleable__label sk-toggleable__label-arrow\">DateSeparator</label><div class=\"sk-toggleable__content\"><pre>DateSeparator()</pre></div></div></div></div></div><div class=\"sk-item sk-dashed-wrapped\"><div class=\"sk-label-container\"><div class=\"sk-label sk-toggleable\"><input class=\"sk-toggleable__control sk-hidden--visually\" id=\"sk-estimator-id-445\" type=\"checkbox\" ><label for=\"sk-estimator-id-445\" class=\"sk-toggleable__label sk-toggleable__label-arrow\">columntransformer: ColumnTransformer</label><div class=\"sk-toggleable__content\"><pre>ColumnTransformer(transformers=[(&#x27;Multi Label Binarizer&#x27;,\n",
       "                                 Pipeline(steps=[(&#x27;dftoseries&#x27;, DfToSeries()),\n",
       "                                                 (&#x27;mylabelbinarizer&#x27;,\n",
       "                                                  &lt;__main__.MyLabelBinarizer object at 0x7f6171205250&gt;)]),\n",
       "                                 [&#x27;category_list&#x27;]),\n",
       "                                (&#x27;One Hot Encoder&#x27;,\n",
       "                                 OneHotEncoder(handle_unknown=&#x27;ignore&#x27;),\n",
       "                                 [&#x27;country_code&#x27;, &#x27;state_code&#x27;, &#x27;city&#x27;,\n",
       "                                  &#x27;protocol_url&#x27;, &#x27;domain_url&#x27;]),\n",
       "                                (&#x27;Date Impute&#x27;,\n",
       "                                 SimpleImputer(strategy=&#x27;most_frequent&#x27;),\n",
       "                                 [&#x27;day_founded_at&#x27;, &#x27;month_founded_at&#x27;,\n",
       "                                  &#x27;year_founded_at&#x27;, &#x27;day_first_funding_at&#x27;,\n",
       "                                  &#x27;month_first_funding_at&#x27;,\n",
       "                                  &#x27;year_first_funding_at&#x27;,\n",
       "                                  &#x27;day_last_funding_at&#x27;,\n",
       "                                  &#x27;month_last_funding_at&#x27;,\n",
       "                                  &#x27;year_last_funding_at&#x27;])])</pre></div></div></div><div class=\"sk-parallel\"><div class=\"sk-parallel-item\"><div class=\"sk-item\"><div class=\"sk-label-container\"><div class=\"sk-label sk-toggleable\"><input class=\"sk-toggleable__control sk-hidden--visually\" id=\"sk-estimator-id-446\" type=\"checkbox\" ><label for=\"sk-estimator-id-446\" class=\"sk-toggleable__label sk-toggleable__label-arrow\">Multi Label Binarizer</label><div class=\"sk-toggleable__content\"><pre>[&#x27;category_list&#x27;]</pre></div></div></div><div class=\"sk-serial\"><div class=\"sk-item\"><div class=\"sk-serial\"><div class=\"sk-item\"><div class=\"sk-estimator sk-toggleable\"><input class=\"sk-toggleable__control sk-hidden--visually\" id=\"sk-estimator-id-447\" type=\"checkbox\" ><label for=\"sk-estimator-id-447\" class=\"sk-toggleable__label sk-toggleable__label-arrow\">DfToSeries</label><div class=\"sk-toggleable__content\"><pre>DfToSeries()</pre></div></div></div><div class=\"sk-item\"><div class=\"sk-estimator sk-toggleable\"><input class=\"sk-toggleable__control sk-hidden--visually\" id=\"sk-estimator-id-448\" type=\"checkbox\" ><label for=\"sk-estimator-id-448\" class=\"sk-toggleable__label sk-toggleable__label-arrow\">MyLabelBinarizer</label><div class=\"sk-toggleable__content\"><pre>&lt;__main__.MyLabelBinarizer object at 0x7f6171205250&gt;</pre></div></div></div></div></div></div></div></div><div class=\"sk-parallel-item\"><div class=\"sk-item\"><div class=\"sk-label-container\"><div class=\"sk-label sk-toggleable\"><input class=\"sk-toggleable__control sk-hidden--visually\" id=\"sk-estimator-id-449\" type=\"checkbox\" ><label for=\"sk-estimator-id-449\" class=\"sk-toggleable__label sk-toggleable__label-arrow\">One Hot Encoder</label><div class=\"sk-toggleable__content\"><pre>[&#x27;country_code&#x27;, &#x27;state_code&#x27;, &#x27;city&#x27;, &#x27;protocol_url&#x27;, &#x27;domain_url&#x27;]</pre></div></div></div><div class=\"sk-serial\"><div class=\"sk-item\"><div class=\"sk-estimator sk-toggleable\"><input class=\"sk-toggleable__control sk-hidden--visually\" id=\"sk-estimator-id-450\" type=\"checkbox\" ><label for=\"sk-estimator-id-450\" class=\"sk-toggleable__label sk-toggleable__label-arrow\">OneHotEncoder</label><div class=\"sk-toggleable__content\"><pre>OneHotEncoder(handle_unknown=&#x27;ignore&#x27;)</pre></div></div></div></div></div></div><div class=\"sk-parallel-item\"><div class=\"sk-item\"><div class=\"sk-label-container\"><div class=\"sk-label sk-toggleable\"><input class=\"sk-toggleable__control sk-hidden--visually\" id=\"sk-estimator-id-451\" type=\"checkbox\" ><label for=\"sk-estimator-id-451\" class=\"sk-toggleable__label sk-toggleable__label-arrow\">Date Impute</label><div class=\"sk-toggleable__content\"><pre>[&#x27;day_founded_at&#x27;, &#x27;month_founded_at&#x27;, &#x27;year_founded_at&#x27;, &#x27;day_first_funding_at&#x27;, &#x27;month_first_funding_at&#x27;, &#x27;year_first_funding_at&#x27;, &#x27;day_last_funding_at&#x27;, &#x27;month_last_funding_at&#x27;, &#x27;year_last_funding_at&#x27;]</pre></div></div></div><div class=\"sk-serial\"><div class=\"sk-item\"><div class=\"sk-estimator sk-toggleable\"><input class=\"sk-toggleable__control sk-hidden--visually\" id=\"sk-estimator-id-452\" type=\"checkbox\" ><label for=\"sk-estimator-id-452\" class=\"sk-toggleable__label sk-toggleable__label-arrow\">SimpleImputer</label><div class=\"sk-toggleable__content\"><pre>SimpleImputer(strategy=&#x27;most_frequent&#x27;)</pre></div></div></div></div></div></div></div></div></div></div></div></div></div><div class=\"sk-parallel-item\"><div class=\"sk-item\"><div class=\"sk-label-container\"><div class=\"sk-label sk-toggleable\"><input class=\"sk-toggleable__control sk-hidden--visually\" id=\"sk-estimator-id-453\" type=\"checkbox\" ><label for=\"sk-estimator-id-453\" class=\"sk-toggleable__label sk-toggleable__label-arrow\">Numerical Pipeline</label><div class=\"sk-toggleable__content\"><pre>Index([&#x27;funding_total_usd&#x27;, &#x27;funding_rounds&#x27;], dtype=&#x27;object&#x27;)</pre></div></div></div><div class=\"sk-serial\"><div class=\"sk-item\"><div class=\"sk-serial\"><div class=\"sk-item\"><div class=\"sk-estimator sk-toggleable\"><input class=\"sk-toggleable__control sk-hidden--visually\" id=\"sk-estimator-id-454\" type=\"checkbox\" ><label for=\"sk-estimator-id-454\" class=\"sk-toggleable__label sk-toggleable__label-arrow\">SimpleImputer</label><div class=\"sk-toggleable__content\"><pre>SimpleImputer(strategy=&#x27;median&#x27;)</pre></div></div></div><div class=\"sk-item\"><div class=\"sk-estimator sk-toggleable\"><input class=\"sk-toggleable__control sk-hidden--visually\" id=\"sk-estimator-id-455\" type=\"checkbox\" ><label for=\"sk-estimator-id-455\" class=\"sk-toggleable__label sk-toggleable__label-arrow\">StandardScaler</label><div class=\"sk-toggleable__content\"><pre>StandardScaler()</pre></div></div></div></div></div></div></div></div></div></div><div class=\"sk-item\"><div class=\"sk-estimator sk-toggleable\"><input class=\"sk-toggleable__control sk-hidden--visually\" id=\"sk-estimator-id-456\" type=\"checkbox\" ><label for=\"sk-estimator-id-456\" class=\"sk-toggleable__label sk-toggleable__label-arrow\">PCA</label><div class=\"sk-toggleable__content\"><pre>PCA(n_components=500)</pre></div></div></div></div></div></div></div>"
      ],
      "text/plain": [
       "Pipeline(steps=[('columntransformer',\n",
       "                 ColumnTransformer(transformers=[('Categorical Pipeline',\n",
       "                                                  Pipeline(steps=[('pipeline',\n",
       "                                                                   Pipeline(steps=[('urltrans',\n",
       "                                                                                    UrlTrans(domain=Index(['com', 'net', 'ru', 'co', 'io', 'de', 'org', 'co.uk', 'com.br', 'me',\n",
       "       'tv', 'us', 'in', 'fr', 'ca', 'jp', 'it', 'com.au', 'fm', 'nl', 'cn',\n",
       "       'se', 'uk', 'eu', 'com.cn', 'es', 'pl', 'mobi', 'ch', 'cc', 'ag', 'no'...\n",
       "                                                  Index(['homepage_url', 'category_list', 'country_code', 'state_code', 'region',\n",
       "       'city', 'founded_at', 'first_funding_at', 'last_funding_at'],\n",
       "      dtype='object')),\n",
       "                                                 ('Numerical Pipeline',\n",
       "                                                  Pipeline(steps=[('simpleimputer',\n",
       "                                                                   SimpleImputer(strategy='median')),\n",
       "                                                                  ('standardscaler',\n",
       "                                                                   StandardScaler())]),\n",
       "                                                  Index(['funding_total_usd', 'funding_rounds'], dtype='object'))])),\n",
       "                ('pca', PCA(n_components=500))])"
      ]
     },
     "execution_count": 300,
     "metadata": {},
     "output_type": "execute_result"
    }
   ],
   "source": [
    "full_pipeline.fit(X_train)"
   ]
  },
  {
   "cell_type": "code",
   "execution_count": 301,
   "id": "a4fec99c",
   "metadata": {},
   "outputs": [
    {
     "data": {
      "text/html": [
       "<style>#sk-container-id-61 {color: black;background-color: white;}#sk-container-id-61 pre{padding: 0;}#sk-container-id-61 div.sk-toggleable {background-color: white;}#sk-container-id-61 label.sk-toggleable__label {cursor: pointer;display: block;width: 100%;margin-bottom: 0;padding: 0.3em;box-sizing: border-box;text-align: center;}#sk-container-id-61 label.sk-toggleable__label-arrow:before {content: \"▸\";float: left;margin-right: 0.25em;color: #696969;}#sk-container-id-61 label.sk-toggleable__label-arrow:hover:before {color: black;}#sk-container-id-61 div.sk-estimator:hover label.sk-toggleable__label-arrow:before {color: black;}#sk-container-id-61 div.sk-toggleable__content {max-height: 0;max-width: 0;overflow: hidden;text-align: left;background-color: #f0f8ff;}#sk-container-id-61 div.sk-toggleable__content pre {margin: 0.2em;color: black;border-radius: 0.25em;background-color: #f0f8ff;}#sk-container-id-61 input.sk-toggleable__control:checked~div.sk-toggleable__content {max-height: 200px;max-width: 100%;overflow: auto;}#sk-container-id-61 input.sk-toggleable__control:checked~label.sk-toggleable__label-arrow:before {content: \"▾\";}#sk-container-id-61 div.sk-estimator input.sk-toggleable__control:checked~label.sk-toggleable__label {background-color: #d4ebff;}#sk-container-id-61 div.sk-label input.sk-toggleable__control:checked~label.sk-toggleable__label {background-color: #d4ebff;}#sk-container-id-61 input.sk-hidden--visually {border: 0;clip: rect(1px 1px 1px 1px);clip: rect(1px, 1px, 1px, 1px);height: 1px;margin: -1px;overflow: hidden;padding: 0;position: absolute;width: 1px;}#sk-container-id-61 div.sk-estimator {font-family: monospace;background-color: #f0f8ff;border: 1px dotted black;border-radius: 0.25em;box-sizing: border-box;margin-bottom: 0.5em;}#sk-container-id-61 div.sk-estimator:hover {background-color: #d4ebff;}#sk-container-id-61 div.sk-parallel-item::after {content: \"\";width: 100%;border-bottom: 1px solid gray;flex-grow: 1;}#sk-container-id-61 div.sk-label:hover label.sk-toggleable__label {background-color: #d4ebff;}#sk-container-id-61 div.sk-serial::before {content: \"\";position: absolute;border-left: 1px solid gray;box-sizing: border-box;top: 0;bottom: 0;left: 50%;z-index: 0;}#sk-container-id-61 div.sk-serial {display: flex;flex-direction: column;align-items: center;background-color: white;padding-right: 0.2em;padding-left: 0.2em;position: relative;}#sk-container-id-61 div.sk-item {position: relative;z-index: 1;}#sk-container-id-61 div.sk-parallel {display: flex;align-items: stretch;justify-content: center;background-color: white;position: relative;}#sk-container-id-61 div.sk-item::before, #sk-container-id-61 div.sk-parallel-item::before {content: \"\";position: absolute;border-left: 1px solid gray;box-sizing: border-box;top: 0;bottom: 0;left: 50%;z-index: -1;}#sk-container-id-61 div.sk-parallel-item {display: flex;flex-direction: column;z-index: 1;position: relative;background-color: white;}#sk-container-id-61 div.sk-parallel-item:first-child::after {align-self: flex-end;width: 50%;}#sk-container-id-61 div.sk-parallel-item:last-child::after {align-self: flex-start;width: 50%;}#sk-container-id-61 div.sk-parallel-item:only-child::after {width: 0;}#sk-container-id-61 div.sk-dashed-wrapped {border: 1px dashed gray;margin: 0 0.4em 0.5em 0.4em;box-sizing: border-box;padding-bottom: 0.4em;background-color: white;}#sk-container-id-61 div.sk-label label {font-family: monospace;font-weight: bold;display: inline-block;line-height: 1.2em;}#sk-container-id-61 div.sk-label-container {text-align: center;}#sk-container-id-61 div.sk-container {/* jupyter's `normalize.less` sets `[hidden] { display: none; }` but bootstrap.min.css set `[hidden] { display: none !important; }` so we also need the `!important` here to be able to override the default hidden behavior on the sphinx rendered scikit-learn.org. See: https://github.com/scikit-learn/scikit-learn/issues/21755 */display: inline-block !important;position: relative;}#sk-container-id-61 div.sk-text-repr-fallback {display: none;}</style><div id=\"sk-container-id-61\" class=\"sk-top-container\"><div class=\"sk-text-repr-fallback\"><pre>Pipeline(steps=[(&#x27;ordinalencoder&#x27;, OrdinalEncoder())])</pre><b>In a Jupyter environment, please rerun this cell to show the HTML representation or trust the notebook. <br />On GitHub, the HTML representation is unable to render, please try loading this page with nbviewer.org.</b></div><div class=\"sk-container\" hidden><div class=\"sk-item sk-dashed-wrapped\"><div class=\"sk-label-container\"><div class=\"sk-label sk-toggleable\"><input class=\"sk-toggleable__control sk-hidden--visually\" id=\"sk-estimator-id-457\" type=\"checkbox\" ><label for=\"sk-estimator-id-457\" class=\"sk-toggleable__label sk-toggleable__label-arrow\">Pipeline</label><div class=\"sk-toggleable__content\"><pre>Pipeline(steps=[(&#x27;ordinalencoder&#x27;, OrdinalEncoder())])</pre></div></div></div><div class=\"sk-serial\"><div class=\"sk-item\"><div class=\"sk-estimator sk-toggleable\"><input class=\"sk-toggleable__control sk-hidden--visually\" id=\"sk-estimator-id-458\" type=\"checkbox\" ><label for=\"sk-estimator-id-458\" class=\"sk-toggleable__label sk-toggleable__label-arrow\">OrdinalEncoder</label><div class=\"sk-toggleable__content\"><pre>OrdinalEncoder()</pre></div></div></div></div></div></div></div>"
      ],
      "text/plain": [
       "Pipeline(steps=[('ordinalencoder', OrdinalEncoder())])"
      ]
     },
     "execution_count": 301,
     "metadata": {},
     "output_type": "execute_result"
    }
   ],
   "source": [
    "target_pipeline.fit(y_train)"
   ]
  },
  {
   "cell_type": "code",
   "execution_count": 302,
   "id": "d94d629c",
   "metadata": {},
   "outputs": [
    {
     "name": "stderr",
     "output_type": "stream",
     "text": [
      "/home/alfian/.local/lib/python3.11/site-packages/sklearn/preprocessing/_label.py:895: UserWarning: unknown class(es) ['Cloud-Based Music', 'EDA Tools', 'Edutainment', 'Financial Exchanges', 'Gift Exchange', 'Governance', 'Graphic Design', 'Green Building', 'Hedge Funds', 'Local Commerce', 'Local Coupons', 'Mobile Search', 'Moneymaking', 'Operating Systems', 'Q&A', 'Recreation', 'Resorts', 'Self Storage', 'Social Activists', 'Teaching STEM Concepts', 'Video Processing'] will be ignored\n",
      "  warnings.warn(\n",
      "/home/alfian/.local/lib/python3.11/site-packages/sklearn/preprocessing/_label.py:895: UserWarning: unknown class(es) ['Angels', 'Animal Feed', 'Baby Boomers', 'Casual Games', 'Charter Schools', 'Comics', 'Debt Collecting', 'Enterprise Resource Planning', 'Enterprise Search', 'Estimation and Quoting', 'Governance', 'Graphic Design', 'HDTV', 'Hedge Funds', 'Independent Music Labels', 'Indians', 'Industrial Energy Efficiency', 'Internet Technology', 'Landscaping', 'Local Coupons', 'Lotteries', 'Mobile Search', 'Musicians', 'Operating Systems', 'Plumbers', 'Racing', 'Remediation', 'Rural Energy', 'Senior Health', 'UV LEDs'] will be ignored\n",
      "  warnings.warn(\n"
     ]
    }
   ],
   "source": [
    "X_train_trans, X_val_trans, X_test_trans = full_pipeline.transform(X_train), full_pipeline.transform(X_val), full_pipeline.transform(X_test)\n",
    "\n",
    "y_train_trans, y_val_trans, y_test_trans = target_pipeline.transform(y_train), target_pipeline.transform(y_val), target_pipeline.transform(y_test)"
   ]
  },
  {
   "cell_type": "code",
   "execution_count": 303,
   "id": "a6566155",
   "metadata": {},
   "outputs": [
    {
     "data": {
      "text/plain": [
       "(7998, 500)"
      ]
     },
     "execution_count": 303,
     "metadata": {},
     "output_type": "execute_result"
    }
   ],
   "source": [
    "X_train_trans.shape"
   ]
  },
  {
   "cell_type": "markdown",
   "id": "0e39f5fe",
   "metadata": {},
   "source": [
    "## Modeling"
   ]
  },
  {
   "cell_type": "markdown",
   "id": "22b924df",
   "metadata": {},
   "source": [
    "### Logistic Regression"
   ]
  },
  {
   "cell_type": "code",
   "execution_count": 304,
   "id": "599a5171",
   "metadata": {},
   "outputs": [
    {
     "name": "stderr",
     "output_type": "stream",
     "text": [
      "/home/alfian/.local/lib/python3.11/site-packages/sklearn/utils/validation.py:1143: DataConversionWarning: A column-vector y was passed when a 1d array was expected. Please change the shape of y to (n_samples, ), for example using ravel().\n",
      "  y = column_or_1d(y, warn=True)\n",
      "/home/alfian/.local/lib/python3.11/site-packages/sklearn/linear_model/_logistic.py:458: ConvergenceWarning: lbfgs failed to converge (status=1):\n",
      "STOP: TOTAL NO. of ITERATIONS REACHED LIMIT.\n",
      "\n",
      "Increase the number of iterations (max_iter) or scale the data as shown in:\n",
      "    https://scikit-learn.org/stable/modules/preprocessing.html\n",
      "Please also refer to the documentation for alternative solver options:\n",
      "    https://scikit-learn.org/stable/modules/linear_model.html#logistic-regression\n",
      "  n_iter_i = _check_optimize_result(\n"
     ]
    },
    {
     "data": {
      "text/html": [
       "<style>#sk-container-id-62 {color: black;background-color: white;}#sk-container-id-62 pre{padding: 0;}#sk-container-id-62 div.sk-toggleable {background-color: white;}#sk-container-id-62 label.sk-toggleable__label {cursor: pointer;display: block;width: 100%;margin-bottom: 0;padding: 0.3em;box-sizing: border-box;text-align: center;}#sk-container-id-62 label.sk-toggleable__label-arrow:before {content: \"▸\";float: left;margin-right: 0.25em;color: #696969;}#sk-container-id-62 label.sk-toggleable__label-arrow:hover:before {color: black;}#sk-container-id-62 div.sk-estimator:hover label.sk-toggleable__label-arrow:before {color: black;}#sk-container-id-62 div.sk-toggleable__content {max-height: 0;max-width: 0;overflow: hidden;text-align: left;background-color: #f0f8ff;}#sk-container-id-62 div.sk-toggleable__content pre {margin: 0.2em;color: black;border-radius: 0.25em;background-color: #f0f8ff;}#sk-container-id-62 input.sk-toggleable__control:checked~div.sk-toggleable__content {max-height: 200px;max-width: 100%;overflow: auto;}#sk-container-id-62 input.sk-toggleable__control:checked~label.sk-toggleable__label-arrow:before {content: \"▾\";}#sk-container-id-62 div.sk-estimator input.sk-toggleable__control:checked~label.sk-toggleable__label {background-color: #d4ebff;}#sk-container-id-62 div.sk-label input.sk-toggleable__control:checked~label.sk-toggleable__label {background-color: #d4ebff;}#sk-container-id-62 input.sk-hidden--visually {border: 0;clip: rect(1px 1px 1px 1px);clip: rect(1px, 1px, 1px, 1px);height: 1px;margin: -1px;overflow: hidden;padding: 0;position: absolute;width: 1px;}#sk-container-id-62 div.sk-estimator {font-family: monospace;background-color: #f0f8ff;border: 1px dotted black;border-radius: 0.25em;box-sizing: border-box;margin-bottom: 0.5em;}#sk-container-id-62 div.sk-estimator:hover {background-color: #d4ebff;}#sk-container-id-62 div.sk-parallel-item::after {content: \"\";width: 100%;border-bottom: 1px solid gray;flex-grow: 1;}#sk-container-id-62 div.sk-label:hover label.sk-toggleable__label {background-color: #d4ebff;}#sk-container-id-62 div.sk-serial::before {content: \"\";position: absolute;border-left: 1px solid gray;box-sizing: border-box;top: 0;bottom: 0;left: 50%;z-index: 0;}#sk-container-id-62 div.sk-serial {display: flex;flex-direction: column;align-items: center;background-color: white;padding-right: 0.2em;padding-left: 0.2em;position: relative;}#sk-container-id-62 div.sk-item {position: relative;z-index: 1;}#sk-container-id-62 div.sk-parallel {display: flex;align-items: stretch;justify-content: center;background-color: white;position: relative;}#sk-container-id-62 div.sk-item::before, #sk-container-id-62 div.sk-parallel-item::before {content: \"\";position: absolute;border-left: 1px solid gray;box-sizing: border-box;top: 0;bottom: 0;left: 50%;z-index: -1;}#sk-container-id-62 div.sk-parallel-item {display: flex;flex-direction: column;z-index: 1;position: relative;background-color: white;}#sk-container-id-62 div.sk-parallel-item:first-child::after {align-self: flex-end;width: 50%;}#sk-container-id-62 div.sk-parallel-item:last-child::after {align-self: flex-start;width: 50%;}#sk-container-id-62 div.sk-parallel-item:only-child::after {width: 0;}#sk-container-id-62 div.sk-dashed-wrapped {border: 1px dashed gray;margin: 0 0.4em 0.5em 0.4em;box-sizing: border-box;padding-bottom: 0.4em;background-color: white;}#sk-container-id-62 div.sk-label label {font-family: monospace;font-weight: bold;display: inline-block;line-height: 1.2em;}#sk-container-id-62 div.sk-label-container {text-align: center;}#sk-container-id-62 div.sk-container {/* jupyter's `normalize.less` sets `[hidden] { display: none; }` but bootstrap.min.css set `[hidden] { display: none !important; }` so we also need the `!important` here to be able to override the default hidden behavior on the sphinx rendered scikit-learn.org. See: https://github.com/scikit-learn/scikit-learn/issues/21755 */display: inline-block !important;position: relative;}#sk-container-id-62 div.sk-text-repr-fallback {display: none;}</style><div id=\"sk-container-id-62\" class=\"sk-top-container\"><div class=\"sk-text-repr-fallback\"><pre>LogisticRegression()</pre><b>In a Jupyter environment, please rerun this cell to show the HTML representation or trust the notebook. <br />On GitHub, the HTML representation is unable to render, please try loading this page with nbviewer.org.</b></div><div class=\"sk-container\" hidden><div class=\"sk-item\"><div class=\"sk-estimator sk-toggleable\"><input class=\"sk-toggleable__control sk-hidden--visually\" id=\"sk-estimator-id-459\" type=\"checkbox\" checked><label for=\"sk-estimator-id-459\" class=\"sk-toggleable__label sk-toggleable__label-arrow\">LogisticRegression</label><div class=\"sk-toggleable__content\"><pre>LogisticRegression()</pre></div></div></div></div></div>"
      ],
      "text/plain": [
       "LogisticRegression()"
      ]
     },
     "execution_count": 304,
     "metadata": {},
     "output_type": "execute_result"
    }
   ],
   "source": [
    "from sklearn.linear_model import LogisticRegression\n",
    "\n",
    "lr_model = LogisticRegression()\n",
    "\n",
    "lr_model.fit(X_train_trans, y_train_trans)"
   ]
  },
  {
   "cell_type": "code",
   "execution_count": 305,
   "id": "a210f8bf",
   "metadata": {},
   "outputs": [
    {
     "name": "stdout",
     "output_type": "stream",
     "text": [
      "\n",
      "Logistic Regression Evaluation\n",
      "\n",
      "F1 Score:\n",
      "0.6099234501854663\n",
      "\n",
      "Confusion Matrix:\n",
      "[[742 339  32]\n",
      " [336 906  18]\n",
      " [124  60 109]]\n",
      "\n"
     ]
    }
   ],
   "source": [
    "from sklearn.metrics import f1_score, confusion_matrix\n",
    "\n",
    "lr_predict = lr_model.predict(X_val_trans)\n",
    "\n",
    "lr_f1 = f1_score(\n",
    "    y_val_trans,\n",
    "    lr_predict,\n",
    "    average='macro'\n",
    ")\n",
    "\n",
    "lr_matrix = confusion_matrix(\n",
    "    y_val_trans,\n",
    "    lr_predict\n",
    ")\n",
    "\n",
    "print(f'''\n",
    "Logistic Regression Evaluation\n",
    "\n",
    "F1 Score:\n",
    "{lr_f1}\n",
    "\n",
    "Confusion Matrix:\n",
    "{lr_matrix}\n",
    "''')"
   ]
  },
  {
   "cell_type": "markdown",
   "id": "1f31b987",
   "metadata": {},
   "source": [
    "### Random Forest"
   ]
  },
  {
   "cell_type": "code",
   "execution_count": 306,
   "id": "6c4433fb",
   "metadata": {},
   "outputs": [
    {
     "name": "stderr",
     "output_type": "stream",
     "text": [
      "/tmp/ipykernel_6628/348091381.py:5: DataConversionWarning: A column-vector y was passed when a 1d array was expected. Please change the shape of y to (n_samples,), for example using ravel().\n",
      "  rf_model.fit(X_train_trans, y_train_trans)\n"
     ]
    },
    {
     "data": {
      "text/html": [
       "<style>#sk-container-id-63 {color: black;background-color: white;}#sk-container-id-63 pre{padding: 0;}#sk-container-id-63 div.sk-toggleable {background-color: white;}#sk-container-id-63 label.sk-toggleable__label {cursor: pointer;display: block;width: 100%;margin-bottom: 0;padding: 0.3em;box-sizing: border-box;text-align: center;}#sk-container-id-63 label.sk-toggleable__label-arrow:before {content: \"▸\";float: left;margin-right: 0.25em;color: #696969;}#sk-container-id-63 label.sk-toggleable__label-arrow:hover:before {color: black;}#sk-container-id-63 div.sk-estimator:hover label.sk-toggleable__label-arrow:before {color: black;}#sk-container-id-63 div.sk-toggleable__content {max-height: 0;max-width: 0;overflow: hidden;text-align: left;background-color: #f0f8ff;}#sk-container-id-63 div.sk-toggleable__content pre {margin: 0.2em;color: black;border-radius: 0.25em;background-color: #f0f8ff;}#sk-container-id-63 input.sk-toggleable__control:checked~div.sk-toggleable__content {max-height: 200px;max-width: 100%;overflow: auto;}#sk-container-id-63 input.sk-toggleable__control:checked~label.sk-toggleable__label-arrow:before {content: \"▾\";}#sk-container-id-63 div.sk-estimator input.sk-toggleable__control:checked~label.sk-toggleable__label {background-color: #d4ebff;}#sk-container-id-63 div.sk-label input.sk-toggleable__control:checked~label.sk-toggleable__label {background-color: #d4ebff;}#sk-container-id-63 input.sk-hidden--visually {border: 0;clip: rect(1px 1px 1px 1px);clip: rect(1px, 1px, 1px, 1px);height: 1px;margin: -1px;overflow: hidden;padding: 0;position: absolute;width: 1px;}#sk-container-id-63 div.sk-estimator {font-family: monospace;background-color: #f0f8ff;border: 1px dotted black;border-radius: 0.25em;box-sizing: border-box;margin-bottom: 0.5em;}#sk-container-id-63 div.sk-estimator:hover {background-color: #d4ebff;}#sk-container-id-63 div.sk-parallel-item::after {content: \"\";width: 100%;border-bottom: 1px solid gray;flex-grow: 1;}#sk-container-id-63 div.sk-label:hover label.sk-toggleable__label {background-color: #d4ebff;}#sk-container-id-63 div.sk-serial::before {content: \"\";position: absolute;border-left: 1px solid gray;box-sizing: border-box;top: 0;bottom: 0;left: 50%;z-index: 0;}#sk-container-id-63 div.sk-serial {display: flex;flex-direction: column;align-items: center;background-color: white;padding-right: 0.2em;padding-left: 0.2em;position: relative;}#sk-container-id-63 div.sk-item {position: relative;z-index: 1;}#sk-container-id-63 div.sk-parallel {display: flex;align-items: stretch;justify-content: center;background-color: white;position: relative;}#sk-container-id-63 div.sk-item::before, #sk-container-id-63 div.sk-parallel-item::before {content: \"\";position: absolute;border-left: 1px solid gray;box-sizing: border-box;top: 0;bottom: 0;left: 50%;z-index: -1;}#sk-container-id-63 div.sk-parallel-item {display: flex;flex-direction: column;z-index: 1;position: relative;background-color: white;}#sk-container-id-63 div.sk-parallel-item:first-child::after {align-self: flex-end;width: 50%;}#sk-container-id-63 div.sk-parallel-item:last-child::after {align-self: flex-start;width: 50%;}#sk-container-id-63 div.sk-parallel-item:only-child::after {width: 0;}#sk-container-id-63 div.sk-dashed-wrapped {border: 1px dashed gray;margin: 0 0.4em 0.5em 0.4em;box-sizing: border-box;padding-bottom: 0.4em;background-color: white;}#sk-container-id-63 div.sk-label label {font-family: monospace;font-weight: bold;display: inline-block;line-height: 1.2em;}#sk-container-id-63 div.sk-label-container {text-align: center;}#sk-container-id-63 div.sk-container {/* jupyter's `normalize.less` sets `[hidden] { display: none; }` but bootstrap.min.css set `[hidden] { display: none !important; }` so we also need the `!important` here to be able to override the default hidden behavior on the sphinx rendered scikit-learn.org. See: https://github.com/scikit-learn/scikit-learn/issues/21755 */display: inline-block !important;position: relative;}#sk-container-id-63 div.sk-text-repr-fallback {display: none;}</style><div id=\"sk-container-id-63\" class=\"sk-top-container\"><div class=\"sk-text-repr-fallback\"><pre>RandomForestClassifier()</pre><b>In a Jupyter environment, please rerun this cell to show the HTML representation or trust the notebook. <br />On GitHub, the HTML representation is unable to render, please try loading this page with nbviewer.org.</b></div><div class=\"sk-container\" hidden><div class=\"sk-item\"><div class=\"sk-estimator sk-toggleable\"><input class=\"sk-toggleable__control sk-hidden--visually\" id=\"sk-estimator-id-460\" type=\"checkbox\" checked><label for=\"sk-estimator-id-460\" class=\"sk-toggleable__label sk-toggleable__label-arrow\">RandomForestClassifier</label><div class=\"sk-toggleable__content\"><pre>RandomForestClassifier()</pre></div></div></div></div></div>"
      ],
      "text/plain": [
       "RandomForestClassifier()"
      ]
     },
     "execution_count": 306,
     "metadata": {},
     "output_type": "execute_result"
    }
   ],
   "source": [
    "from sklearn.ensemble import RandomForestClassifier\n",
    "\n",
    "rf_model = RandomForestClassifier()\n",
    "\n",
    "rf_model.fit(X_train_trans, y_train_trans)"
   ]
  },
  {
   "cell_type": "code",
   "execution_count": 307,
   "id": "0162eea0",
   "metadata": {},
   "outputs": [
    {
     "name": "stdout",
     "output_type": "stream",
     "text": [
      "\n",
      "Random Forest Evaluation\n",
      "\n",
      "F1 Score:\n",
      "0.5436671486569217\n",
      "\n",
      "Confusion Matrix:\n",
      "[[746 354  13]\n",
      " [322 923  15]\n",
      " [157  82  54]]\n",
      "\n"
     ]
    }
   ],
   "source": [
    "rf_predict = rf_model.predict(X_val_trans)\n",
    "\n",
    "rf_f1 = f1_score(\n",
    "    y_val_trans,\n",
    "    rf_predict,\n",
    "    average='macro'\n",
    ")\n",
    "\n",
    "rf_matrix = confusion_matrix(\n",
    "    y_val_trans,\n",
    "    rf_predict\n",
    ")\n",
    "\n",
    "print(f'''\n",
    "Random Forest Evaluation\n",
    "\n",
    "F1 Score:\n",
    "{rf_f1}\n",
    "\n",
    "Confusion Matrix:\n",
    "{rf_matrix}\n",
    "''')"
   ]
  },
  {
   "cell_type": "markdown",
   "id": "b90fe866",
   "metadata": {},
   "source": [
    "### Gradient Boosting"
   ]
  },
  {
   "cell_type": "code",
   "execution_count": 308,
   "id": "dd8630c6",
   "metadata": {},
   "outputs": [
    {
     "name": "stderr",
     "output_type": "stream",
     "text": [
      "/home/alfian/.local/lib/python3.11/site-packages/sklearn/ensemble/_gb.py:437: DataConversionWarning: A column-vector y was passed when a 1d array was expected. Please change the shape of y to (n_samples, ), for example using ravel().\n",
      "  y = column_or_1d(y, warn=True)\n"
     ]
    },
    {
     "data": {
      "text/html": [
       "<style>#sk-container-id-64 {color: black;background-color: white;}#sk-container-id-64 pre{padding: 0;}#sk-container-id-64 div.sk-toggleable {background-color: white;}#sk-container-id-64 label.sk-toggleable__label {cursor: pointer;display: block;width: 100%;margin-bottom: 0;padding: 0.3em;box-sizing: border-box;text-align: center;}#sk-container-id-64 label.sk-toggleable__label-arrow:before {content: \"▸\";float: left;margin-right: 0.25em;color: #696969;}#sk-container-id-64 label.sk-toggleable__label-arrow:hover:before {color: black;}#sk-container-id-64 div.sk-estimator:hover label.sk-toggleable__label-arrow:before {color: black;}#sk-container-id-64 div.sk-toggleable__content {max-height: 0;max-width: 0;overflow: hidden;text-align: left;background-color: #f0f8ff;}#sk-container-id-64 div.sk-toggleable__content pre {margin: 0.2em;color: black;border-radius: 0.25em;background-color: #f0f8ff;}#sk-container-id-64 input.sk-toggleable__control:checked~div.sk-toggleable__content {max-height: 200px;max-width: 100%;overflow: auto;}#sk-container-id-64 input.sk-toggleable__control:checked~label.sk-toggleable__label-arrow:before {content: \"▾\";}#sk-container-id-64 div.sk-estimator input.sk-toggleable__control:checked~label.sk-toggleable__label {background-color: #d4ebff;}#sk-container-id-64 div.sk-label input.sk-toggleable__control:checked~label.sk-toggleable__label {background-color: #d4ebff;}#sk-container-id-64 input.sk-hidden--visually {border: 0;clip: rect(1px 1px 1px 1px);clip: rect(1px, 1px, 1px, 1px);height: 1px;margin: -1px;overflow: hidden;padding: 0;position: absolute;width: 1px;}#sk-container-id-64 div.sk-estimator {font-family: monospace;background-color: #f0f8ff;border: 1px dotted black;border-radius: 0.25em;box-sizing: border-box;margin-bottom: 0.5em;}#sk-container-id-64 div.sk-estimator:hover {background-color: #d4ebff;}#sk-container-id-64 div.sk-parallel-item::after {content: \"\";width: 100%;border-bottom: 1px solid gray;flex-grow: 1;}#sk-container-id-64 div.sk-label:hover label.sk-toggleable__label {background-color: #d4ebff;}#sk-container-id-64 div.sk-serial::before {content: \"\";position: absolute;border-left: 1px solid gray;box-sizing: border-box;top: 0;bottom: 0;left: 50%;z-index: 0;}#sk-container-id-64 div.sk-serial {display: flex;flex-direction: column;align-items: center;background-color: white;padding-right: 0.2em;padding-left: 0.2em;position: relative;}#sk-container-id-64 div.sk-item {position: relative;z-index: 1;}#sk-container-id-64 div.sk-parallel {display: flex;align-items: stretch;justify-content: center;background-color: white;position: relative;}#sk-container-id-64 div.sk-item::before, #sk-container-id-64 div.sk-parallel-item::before {content: \"\";position: absolute;border-left: 1px solid gray;box-sizing: border-box;top: 0;bottom: 0;left: 50%;z-index: -1;}#sk-container-id-64 div.sk-parallel-item {display: flex;flex-direction: column;z-index: 1;position: relative;background-color: white;}#sk-container-id-64 div.sk-parallel-item:first-child::after {align-self: flex-end;width: 50%;}#sk-container-id-64 div.sk-parallel-item:last-child::after {align-self: flex-start;width: 50%;}#sk-container-id-64 div.sk-parallel-item:only-child::after {width: 0;}#sk-container-id-64 div.sk-dashed-wrapped {border: 1px dashed gray;margin: 0 0.4em 0.5em 0.4em;box-sizing: border-box;padding-bottom: 0.4em;background-color: white;}#sk-container-id-64 div.sk-label label {font-family: monospace;font-weight: bold;display: inline-block;line-height: 1.2em;}#sk-container-id-64 div.sk-label-container {text-align: center;}#sk-container-id-64 div.sk-container {/* jupyter's `normalize.less` sets `[hidden] { display: none; }` but bootstrap.min.css set `[hidden] { display: none !important; }` so we also need the `!important` here to be able to override the default hidden behavior on the sphinx rendered scikit-learn.org. See: https://github.com/scikit-learn/scikit-learn/issues/21755 */display: inline-block !important;position: relative;}#sk-container-id-64 div.sk-text-repr-fallback {display: none;}</style><div id=\"sk-container-id-64\" class=\"sk-top-container\"><div class=\"sk-text-repr-fallback\"><pre>GradientBoostingClassifier()</pre><b>In a Jupyter environment, please rerun this cell to show the HTML representation or trust the notebook. <br />On GitHub, the HTML representation is unable to render, please try loading this page with nbviewer.org.</b></div><div class=\"sk-container\" hidden><div class=\"sk-item\"><div class=\"sk-estimator sk-toggleable\"><input class=\"sk-toggleable__control sk-hidden--visually\" id=\"sk-estimator-id-461\" type=\"checkbox\" checked><label for=\"sk-estimator-id-461\" class=\"sk-toggleable__label sk-toggleable__label-arrow\">GradientBoostingClassifier</label><div class=\"sk-toggleable__content\"><pre>GradientBoostingClassifier()</pre></div></div></div></div></div>"
      ],
      "text/plain": [
       "GradientBoostingClassifier()"
      ]
     },
     "execution_count": 308,
     "metadata": {},
     "output_type": "execute_result"
    }
   ],
   "source": [
    "from sklearn.ensemble import GradientBoostingClassifier\n",
    "\n",
    "gb_model = GradientBoostingClassifier()\n",
    "\n",
    "gb_model.fit(X_train_trans, y_train_trans)"
   ]
  },
  {
   "cell_type": "code",
   "execution_count": 309,
   "id": "391caaba",
   "metadata": {
    "scrolled": true
   },
   "outputs": [
    {
     "name": "stdout",
     "output_type": "stream",
     "text": [
      "\n",
      "Gradient Boosting Evaluation\n",
      "\n",
      "F1 Score:\n",
      "0.6286119916188837\n",
      "\n",
      "Confusion Matrix:\n",
      "[[759 323  31]\n",
      " [309 925  26]\n",
      " [114  61 118]]\n",
      "\n"
     ]
    }
   ],
   "source": [
    "gb_predict = gb_model.predict(X_val_trans)\n",
    "\n",
    "gb_f1 = f1_score(\n",
    "    y_val_trans,\n",
    "    gb_predict,\n",
    "    average='macro'\n",
    ")\n",
    "\n",
    "gb_matrix = confusion_matrix(\n",
    "    y_val_trans,\n",
    "    gb_predict\n",
    ")\n",
    "\n",
    "print(f'''\n",
    "Gradient Boosting Evaluation\n",
    "\n",
    "F1 Score:\n",
    "{gb_f1}\n",
    "\n",
    "Confusion Matrix:\n",
    "{gb_matrix}\n",
    "''')"
   ]
  },
  {
   "cell_type": "markdown",
   "id": "93bdc1a0",
   "metadata": {},
   "source": [
    "### Neural Network"
   ]
  },
  {
   "cell_type": "code",
   "execution_count": 315,
   "id": "d9d914e3",
   "metadata": {
    "scrolled": true
   },
   "outputs": [],
   "source": [
    "from tensorflow.keras import Sequential, layers\n",
    "\n",
    "nn_model = Sequential([\n",
    "    layers.Dense(256, activation='relu'),\n",
    "    layers.Dense(128, activation='relu'),\n",
    "    layers.Dense(3, activation='softmax')\n",
    "])"
   ]
  },
  {
   "cell_type": "code",
   "execution_count": 316,
   "id": "72b582ab",
   "metadata": {},
   "outputs": [],
   "source": [
    "nn_model.compile(\n",
    "    loss=\"sparse_categorical_crossentropy\",\n",
    "    optimizer=\"sgd\"\n",
    ")"
   ]
  },
  {
   "cell_type": "code",
   "execution_count": 317,
   "id": "2c07110f",
   "metadata": {
    "scrolled": true
   },
   "outputs": [
    {
     "name": "stdout",
     "output_type": "stream",
     "text": [
      "Epoch 1/100\n",
      "250/250 [==============================] - 1s 3ms/step - loss: 0.8720\n",
      "Epoch 2/100\n",
      "250/250 [==============================] - 1s 3ms/step - loss: 0.8149\n",
      "Epoch 3/100\n",
      "250/250 [==============================] - 1s 3ms/step - loss: 0.7953\n",
      "Epoch 4/100\n",
      "250/250 [==============================] - 1s 3ms/step - loss: 0.7819\n",
      "Epoch 5/100\n",
      "250/250 [==============================] - 1s 2ms/step - loss: 0.7698\n",
      "Epoch 6/100\n",
      "250/250 [==============================] - 1s 3ms/step - loss: 0.7613\n",
      "Epoch 7/100\n",
      "250/250 [==============================] - 1s 2ms/step - loss: 0.7561\n",
      "Epoch 8/100\n",
      "250/250 [==============================] - 1s 3ms/step - loss: 0.7503\n",
      "Epoch 9/100\n",
      "250/250 [==============================] - 1s 3ms/step - loss: 0.7408\n",
      "Epoch 10/100\n",
      "250/250 [==============================] - 1s 2ms/step - loss: 0.7378\n",
      "Epoch 11/100\n",
      "250/250 [==============================] - 1s 2ms/step - loss: 0.7340\n",
      "Epoch 12/100\n",
      "250/250 [==============================] - 1s 2ms/step - loss: 0.7261\n",
      "Epoch 13/100\n",
      "250/250 [==============================] - 1s 3ms/step - loss: 0.7238\n",
      "Epoch 14/100\n",
      "250/250 [==============================] - 1s 2ms/step - loss: 0.7193\n",
      "Epoch 15/100\n",
      "250/250 [==============================] - 1s 3ms/step - loss: 0.7134\n",
      "Epoch 16/100\n",
      "250/250 [==============================] - 1s 3ms/step - loss: 0.7102\n",
      "Epoch 17/100\n",
      "250/250 [==============================] - 1s 2ms/step - loss: 0.7071\n",
      "Epoch 18/100\n",
      "250/250 [==============================] - 1s 2ms/step - loss: 0.7025\n",
      "Epoch 19/100\n",
      "250/250 [==============================] - 1s 2ms/step - loss: 0.6971\n",
      "Epoch 20/100\n",
      "250/250 [==============================] - 1s 3ms/step - loss: 0.6939\n",
      "Epoch 21/100\n",
      "250/250 [==============================] - 1s 2ms/step - loss: 0.6902\n",
      "Epoch 22/100\n",
      "250/250 [==============================] - 1s 2ms/step - loss: 0.6854\n",
      "Epoch 23/100\n",
      "250/250 [==============================] - 1s 3ms/step - loss: 0.6852\n",
      "Epoch 24/100\n",
      "250/250 [==============================] - 1s 2ms/step - loss: 0.6841\n",
      "Epoch 25/100\n",
      "250/250 [==============================] - 1s 2ms/step - loss: 0.6791\n",
      "Epoch 26/100\n",
      "250/250 [==============================] - 1s 2ms/step - loss: 0.6768\n",
      "Epoch 27/100\n",
      "250/250 [==============================] - 1s 3ms/step - loss: 0.6751\n",
      "Epoch 28/100\n",
      "250/250 [==============================] - 1s 2ms/step - loss: 0.6706\n",
      "Epoch 29/100\n",
      "250/250 [==============================] - 1s 3ms/step - loss: 0.6692\n",
      "Epoch 30/100\n",
      "250/250 [==============================] - 1s 2ms/step - loss: 0.6643\n",
      "Epoch 31/100\n",
      "250/250 [==============================] - 1s 2ms/step - loss: 0.6626\n",
      "Epoch 32/100\n",
      "250/250 [==============================] - 1s 2ms/step - loss: 0.6621\n",
      "Epoch 33/100\n",
      "250/250 [==============================] - 1s 2ms/step - loss: 0.6540\n",
      "Epoch 34/100\n",
      "250/250 [==============================] - 1s 3ms/step - loss: 0.6570\n",
      "Epoch 35/100\n",
      "250/250 [==============================] - 1s 2ms/step - loss: 0.6511\n",
      "Epoch 36/100\n",
      "250/250 [==============================] - 1s 3ms/step - loss: 0.6491\n",
      "Epoch 37/100\n",
      "250/250 [==============================] - 1s 2ms/step - loss: 0.6458\n",
      "Epoch 38/100\n",
      "250/250 [==============================] - 1s 2ms/step - loss: 0.6439\n",
      "Epoch 39/100\n",
      "250/250 [==============================] - 1s 2ms/step - loss: 0.6431\n",
      "Epoch 40/100\n",
      "250/250 [==============================] - 1s 2ms/step - loss: 0.6366\n",
      "Epoch 41/100\n",
      "250/250 [==============================] - 1s 3ms/step - loss: 0.6362\n",
      "Epoch 42/100\n",
      "250/250 [==============================] - 1s 2ms/step - loss: 0.6348\n",
      "Epoch 43/100\n",
      "250/250 [==============================] - 1s 3ms/step - loss: 0.6330\n",
      "Epoch 44/100\n",
      "250/250 [==============================] - 1s 2ms/step - loss: 0.6312\n",
      "Epoch 45/100\n",
      "250/250 [==============================] - 1s 2ms/step - loss: 0.6269\n",
      "Epoch 46/100\n",
      "250/250 [==============================] - 1s 2ms/step - loss: 0.6291\n",
      "Epoch 47/100\n",
      "250/250 [==============================] - 1s 2ms/step - loss: 0.6234\n",
      "Epoch 48/100\n",
      "250/250 [==============================] - 1s 3ms/step - loss: 0.6251\n",
      "Epoch 49/100\n",
      "250/250 [==============================] - 1s 3ms/step - loss: 0.6173\n",
      "Epoch 50/100\n",
      "250/250 [==============================] - 1s 3ms/step - loss: 0.6182\n",
      "Epoch 51/100\n",
      "250/250 [==============================] - 1s 2ms/step - loss: 0.6157\n",
      "Epoch 52/100\n",
      "250/250 [==============================] - 1s 2ms/step - loss: 0.6113\n",
      "Epoch 53/100\n",
      "250/250 [==============================] - 1s 3ms/step - loss: 0.6078\n",
      "Epoch 54/100\n",
      "250/250 [==============================] - 1s 2ms/step - loss: 0.6100\n",
      "Epoch 55/100\n",
      "250/250 [==============================] - 1s 2ms/step - loss: 0.6026\n",
      "Epoch 56/100\n",
      "250/250 [==============================] - 1s 3ms/step - loss: 0.6011\n",
      "Epoch 57/100\n",
      "250/250 [==============================] - 1s 3ms/step - loss: 0.6009\n",
      "Epoch 58/100\n",
      "250/250 [==============================] - 1s 2ms/step - loss: 0.5982\n",
      "Epoch 59/100\n",
      "250/250 [==============================] - 1s 2ms/step - loss: 0.5989\n",
      "Epoch 60/100\n",
      "250/250 [==============================] - 1s 2ms/step - loss: 0.6010\n",
      "Epoch 61/100\n",
      "250/250 [==============================] - 1s 2ms/step - loss: 0.5964\n",
      "Epoch 62/100\n",
      "250/250 [==============================] - 1s 2ms/step - loss: 0.5910\n",
      "Epoch 63/100\n",
      "250/250 [==============================] - 1s 3ms/step - loss: 0.5914\n",
      "Epoch 64/100\n",
      "250/250 [==============================] - 1s 3ms/step - loss: 0.5884\n",
      "Epoch 65/100\n",
      "250/250 [==============================] - 1s 2ms/step - loss: 0.5832\n",
      "Epoch 66/100\n",
      "250/250 [==============================] - 1s 3ms/step - loss: 0.5855\n",
      "Epoch 67/100\n",
      "250/250 [==============================] - 1s 3ms/step - loss: 0.5812\n",
      "Epoch 68/100\n",
      "250/250 [==============================] - 1s 2ms/step - loss: 0.5759\n",
      "Epoch 69/100\n",
      "250/250 [==============================] - 1s 3ms/step - loss: 0.5729\n",
      "Epoch 70/100\n",
      "250/250 [==============================] - 1s 3ms/step - loss: 0.5768\n",
      "Epoch 71/100\n",
      "250/250 [==============================] - 1s 3ms/step - loss: 0.5675\n",
      "Epoch 72/100\n",
      "250/250 [==============================] - 1s 3ms/step - loss: 0.5727\n",
      "Epoch 73/100\n",
      "250/250 [==============================] - 1s 2ms/step - loss: 0.5643\n",
      "Epoch 74/100\n",
      "250/250 [==============================] - 1s 3ms/step - loss: 0.5652\n",
      "Epoch 75/100\n",
      "250/250 [==============================] - 1s 2ms/step - loss: 0.5670\n",
      "Epoch 76/100\n",
      "250/250 [==============================] - 1s 2ms/step - loss: 0.5597\n",
      "Epoch 77/100\n",
      "250/250 [==============================] - 1s 3ms/step - loss: 0.5554\n",
      "Epoch 78/100\n",
      "250/250 [==============================] - 1s 3ms/step - loss: 0.5582\n",
      "Epoch 79/100\n",
      "250/250 [==============================] - 1s 2ms/step - loss: 0.5637\n",
      "Epoch 80/100\n",
      "250/250 [==============================] - 1s 2ms/step - loss: 0.5557\n",
      "Epoch 81/100\n",
      "250/250 [==============================] - 1s 2ms/step - loss: 0.5537\n",
      "Epoch 82/100\n",
      "250/250 [==============================] - 1s 2ms/step - loss: 0.5460\n",
      "Epoch 83/100\n",
      "250/250 [==============================] - 1s 2ms/step - loss: 0.5509\n",
      "Epoch 84/100\n",
      "250/250 [==============================] - 1s 3ms/step - loss: 0.5479\n",
      "Epoch 85/100\n",
      "250/250 [==============================] - 1s 3ms/step - loss: 0.5397\n",
      "Epoch 86/100\n",
      "250/250 [==============================] - 1s 2ms/step - loss: 0.5398\n",
      "Epoch 87/100\n",
      "250/250 [==============================] - 1s 2ms/step - loss: 0.5404\n",
      "Epoch 88/100\n",
      "250/250 [==============================] - 1s 2ms/step - loss: 0.5339\n",
      "Epoch 89/100\n",
      "250/250 [==============================] - 1s 2ms/step - loss: 0.5384\n",
      "Epoch 90/100\n",
      "250/250 [==============================] - 1s 2ms/step - loss: 0.5406\n",
      "Epoch 91/100\n",
      "250/250 [==============================] - 1s 2ms/step - loss: 0.5343\n",
      "Epoch 92/100\n",
      "250/250 [==============================] - 1s 3ms/step - loss: 0.5390\n",
      "Epoch 93/100\n",
      "250/250 [==============================] - 1s 2ms/step - loss: 0.5295\n",
      "Epoch 94/100\n",
      "250/250 [==============================] - 1s 3ms/step - loss: 0.5229\n",
      "Epoch 95/100\n",
      "250/250 [==============================] - 1s 2ms/step - loss: 0.5252\n",
      "Epoch 96/100\n",
      "250/250 [==============================] - 1s 2ms/step - loss: 0.5331\n",
      "Epoch 97/100\n",
      "250/250 [==============================] - 1s 2ms/step - loss: 0.5239\n",
      "Epoch 98/100\n",
      "250/250 [==============================] - 1s 2ms/step - loss: 0.5237\n",
      "Epoch 99/100\n"
     ]
    },
    {
     "name": "stdout",
     "output_type": "stream",
     "text": [
      "250/250 [==============================] - 1s 3ms/step - loss: 0.5152\n",
      "Epoch 100/100\n",
      "250/250 [==============================] - 1s 2ms/step - loss: 0.5146\n"
     ]
    },
    {
     "data": {
      "text/plain": [
       "<keras.callbacks.History at 0x7f6138033750>"
      ]
     },
     "execution_count": 317,
     "metadata": {},
     "output_type": "execute_result"
    }
   ],
   "source": [
    "nn_model.fit(X_train_trans, y_train_trans, epochs=100)"
   ]
  },
  {
   "cell_type": "code",
   "execution_count": 318,
   "id": "5d7b268a",
   "metadata": {},
   "outputs": [
    {
     "name": "stdout",
     "output_type": "stream",
     "text": [
      "84/84 [==============================] - 0s 2ms/step\n",
      "\n",
      "Neural Network Evaluation\n",
      "\n",
      "F1 Score:\n",
      "0.6059091611326911\n",
      "\n",
      "Confusion Matrix:\n",
      "[[675 390  48]\n",
      " [322 909  29]\n",
      " [102  63 128]]\n",
      "\n"
     ]
    }
   ],
   "source": [
    "nn_predict = nn_model.predict(X_val_trans).argmax(axis=-1)\n",
    "\n",
    "nn_f1 = f1_score(\n",
    "    y_val_trans,\n",
    "    nn_predict,\n",
    "    average='macro'\n",
    ")\n",
    "nn_matrix = confusion_matrix(\n",
    "    y_val_trans,\n",
    "    nn_predict\n",
    ")\n",
    "\n",
    "print(f'''\n",
    "Neural Network Evaluation\n",
    "\n",
    "F1 Score:\n",
    "{nn_f1}\n",
    "\n",
    "Confusion Matrix:\n",
    "{nn_matrix}\n",
    "''')"
   ]
  }
 ],
 "metadata": {
  "kernelspec": {
   "display_name": "Python 3 (ipykernel)",
   "language": "python",
   "name": "python3"
  },
  "language_info": {
   "codemirror_mode": {
    "name": "ipython",
    "version": 3
   },
   "file_extension": ".py",
   "mimetype": "text/x-python",
   "name": "python",
   "nbconvert_exporter": "python",
   "pygments_lexer": "ipython3",
   "version": "3.11.0"
  }
 },
 "nbformat": 4,
 "nbformat_minor": 5
}
